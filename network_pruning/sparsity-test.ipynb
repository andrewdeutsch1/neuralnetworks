{
 "cells": [
  {
   "cell_type": "markdown",
   "source": [
    "# Pruning a CNN for MNIST using Tensorboard callbacks"
   ],
   "metadata": {}
  },
  {
   "cell_type": "markdown",
   "source": [
    "## Prepare data"
   ],
   "metadata": {}
  },
  {
   "cell_type": "code",
   "execution_count": 1,
   "source": [
    "import tensorflow as tf\r\n",
    "import tensorflow_model_optimization as tfmot\r\n",
    "import numpy as np\r\n",
    "import matplotlib.pyplot as plt\r\n",
    "from datetime import datetime as date"
   ],
   "outputs": [],
   "metadata": {}
  },
  {
   "cell_type": "code",
   "execution_count": 2,
   "source": [
    "tf.keras.backend.clear_session()"
   ],
   "outputs": [],
   "metadata": {}
  },
  {
   "cell_type": "code",
   "execution_count": 3,
   "source": [
    "# obtain dataset and display size\r\n",
    "(x_train, y_train), (x_test, y_test) = tf.keras.datasets.mnist.load_data()\r\n",
    "print((x_train.shape, x_test.shape))\r\n",
    "\r\n",
    "# normalize images\r\n",
    "x_train = x_train / 255.0\r\n",
    "x_test = x_test / 255.0\r\n",
    "\r\n",
    "# one-hot encoding\r\n",
    "y_train = tf.keras.utils.to_categorical(y_train, 10)\r\n",
    "y_test = tf.keras.utils.to_categorical(y_test, 10)"
   ],
   "outputs": [
    {
     "output_type": "stream",
     "name": "stdout",
     "text": [
      "((60000, 28, 28), (10000, 28, 28))\n"
     ]
    }
   ],
   "metadata": {}
  },
  {
   "cell_type": "markdown",
   "source": [
    "## Set up CNNs for pruning with various sparsities"
   ],
   "metadata": {}
  },
  {
   "cell_type": "code",
   "execution_count": 4,
   "source": [
    "# create 10 models for pruning (all layers will be pruned, but with different sparsities)\r\n",
    "sparse_models = []\r\n",
    "\r\n",
    "for s in range(10):\r\n",
    "    sparsity = s/10\r\n",
    "    pruning_schedule = tfmot.sparsity.keras.ConstantSparsity(sparsity, 0)\r\n",
    "\r\n",
    "    # build architecture, compile, display summary\r\n",
    "    cnn = tf.keras.models.Sequential([\r\n",
    "        tf.keras.layers.InputLayer(input_shape=(28, 28)),\r\n",
    "        tf.keras.layers.Reshape(target_shape=(28, 28, 1)),\r\n",
    "\r\n",
    "        # convolution and pooling\r\n",
    "        tf.keras.layers.Conv2D(filters=28, activation='relu', kernel_size=(3,3)),\r\n",
    "        tf.keras.layers.MaxPooling2D((2,2)),\r\n",
    "        tf.keras.layers.Conv2D(filters=28*2, activation='relu', kernel_size=(3,3)),\r\n",
    "        tf.keras.layers.MaxPooling2D((2,2)),\r\n",
    "        \r\n",
    "        # dense\r\n",
    "        tf.keras.layers.Flatten(),\r\n",
    "        tf.keras.layers.Dense(300, activation='relu'),\r\n",
    "        tf.keras.layers.Dense(10, activation='softmax')\r\n",
    "    ])\r\n",
    "    cnn.compile(optimizer='adam', loss='categorical_crossentropy', metrics=['accuracy'])\r\n",
    "\r\n",
    "    # apply pruning schedule\r\n",
    "    sparse_model = tfmot.sparsity.keras.prune_low_magnitude(cnn, pruning_schedule=pruning_schedule)\r\n",
    "    sparse_models.append(sparse_model)\r\n",
    "\r\n",
    "# print the last model\r\n",
    "sparse_model.summary()"
   ],
   "outputs": [
    {
     "output_type": "stream",
     "name": "stderr",
     "text": [
      "C:\\Users\\andre\\Anaconda3\\lib\\site-packages\\tensorflow\\python\\keras\\engine\\base_layer.py:2281: UserWarning: `layer.add_variable` is deprecated and will be removed in a future version. Please use `layer.add_weight` method instead.\n",
      "  warnings.warn('`layer.add_variable` is deprecated and '\n"
     ]
    },
    {
     "output_type": "stream",
     "name": "stdout",
     "text": [
      "Model: \"sequential_9\"\n",
      "_________________________________________________________________\n",
      "Layer (type)                 Output Shape              Param #   \n",
      "=================================================================\n",
      "prune_low_magnitude_reshape_ (None, 28, 28, 1)         1         \n",
      "_________________________________________________________________\n",
      "prune_low_magnitude_conv2d_1 (None, 26, 26, 28)        534       \n",
      "_________________________________________________________________\n",
      "prune_low_magnitude_max_pool (None, 13, 13, 28)        1         \n",
      "_________________________________________________________________\n",
      "prune_low_magnitude_conv2d_1 (None, 11, 11, 56)        28282     \n",
      "_________________________________________________________________\n",
      "prune_low_magnitude_max_pool (None, 5, 5, 56)          1         \n",
      "_________________________________________________________________\n",
      "prune_low_magnitude_flatten_ (None, 1400)              1         \n",
      "_________________________________________________________________\n",
      "prune_low_magnitude_dense_18 (None, 300)               840302    \n",
      "_________________________________________________________________\n",
      "prune_low_magnitude_dense_19 (None, 10)                6012      \n",
      "=================================================================\n",
      "Total params: 875,134\n",
      "Trainable params: 437,758\n",
      "Non-trainable params: 437,376\n",
      "_________________________________________________________________\n"
     ]
    }
   ],
   "metadata": {}
  },
  {
   "cell_type": "markdown",
   "source": [
    "## Train"
   ],
   "metadata": {}
  },
  {
   "cell_type": "code",
   "execution_count": null,
   "source": [
    "epochs = 20\r\n",
    "histories = []\r\n",
    "\r\n",
    "# train each network\r\n",
    "for s in range(7,10):\r\n",
    "  net = sparse_models[s]\r\n",
    "  sparsity = s/10\r\n",
    "\r\n",
    "  # log directory\r\n",
    "  log_dir = \"C:/Users/andre/neural/POLISHED/pruning/log/\" + date.now().strftime(\"%Y-%m-%d/sparse-nets/sparsity=\") + str(sparsity) + date.now().strftime(\"-%H-%M-%S\")\r\n",
    "\r\n",
    "  # callback to log pruning data\r\n",
    "  callbacks = [\r\n",
    "    tfmot.sparsity.keras.UpdatePruningStep(),\r\n",
    "    tfmot.sparsity.keras.PruningSummaries(log_dir=log_dir, update_freq=1)\r\n",
    "  ]\r\n",
    "\r\n",
    "  net.compile(loss=tf.keras.losses.categorical_crossentropy, optimizer='adam', metrics=['accuracy'])\r\n",
    "\r\n",
    "  # record histories\r\n",
    "  histories.append(net.fit(x_train, y_train, callbacks=callbacks, epochs=epochs))\r\n",
    "\r\n",
    "  print(\"Sparsity=\" + str(sparsity) + \", Accuracy=\" + str(net.evaluate(x_test, y_test)[1]))"
   ],
   "outputs": [],
   "metadata": {}
  },
  {
   "cell_type": "markdown",
   "source": [
    "## Compare test accuracy"
   ],
   "metadata": {}
  },
  {
   "cell_type": "code",
   "execution_count": null,
   "source": [
    "acc = []\r\n",
    "loss = []\r\n",
    "for s in range(len(sparse_models)):\r\n",
    "    a, l = sparse_models[s].evaluate(x_test, y_test)\r\n",
    "    print(\"Sparsity=\"+str(s/10.0)+\", Test Acc.=\"+str(a)+\", Test Loss=\"+str(l))\r\n",
    "    acc.append(a)\r\n",
    "    loss.append(l)"
   ],
   "outputs": [],
   "metadata": {}
  },
  {
   "cell_type": "markdown",
   "source": [
    "## Compare sizes"
   ],
   "metadata": {}
  },
  {
   "cell_type": "code",
   "execution_count": 34,
   "source": [
    "# we are mainly interested in the size of weights files\r\n",
    "cnn.save_weights(\"cnn_weights.h5\")\r\n",
    "os.path.getsize(\"cnn_weights.h5\")"
   ],
   "outputs": [
    {
     "output_type": "execute_result",
     "data": {
      "text/plain": [
       "2875408"
      ]
     },
     "metadata": {},
     "execution_count": 34
    }
   ],
   "metadata": {}
  },
  {
   "cell_type": "code",
   "execution_count": 7,
   "source": [
    "net.save_weights(\"sparsity_90_weights.h5\")\r\n",
    "os.path.getsize(\"sparsity_90_weights.h5\")"
   ],
   "outputs": [
    {
     "output_type": "execute_result",
     "data": {
      "text/plain": [
       "5742916"
      ]
     },
     "metadata": {},
     "execution_count": 7
    }
   ],
   "metadata": {}
  },
  {
   "cell_type": "code",
   "execution_count": 35,
   "source": [
    "cnn_for_pruning.save_weights(\"cnn_for_pruning_weights.h5\")\r\n",
    "os.path.getsize(\"cnn_for_pruning_weights.h5\")"
   ],
   "outputs": [
    {
     "output_type": "execute_result",
     "data": {
      "text/plain": [
       "5742908"
      ]
     },
     "metadata": {},
     "execution_count": 35
    }
   ],
   "metadata": {}
  },
  {
   "cell_type": "code",
   "execution_count": 20,
   "source": [
    "import tempfile\r\n",
    "\r\n",
    "def get_gzipped_model_size(model):\r\n",
    "    import os\r\n",
    "    import zipfile\r\n",
    "\r\n",
    "    _, keras_file = tempfile.mkstemp('.h5')\r\n",
    "    model.save(keras_file, include_optimizer=False)\r\n",
    "\r\n",
    "    _, zipped_file = tempfile.mkstemp('.zip')\r\n",
    "    with zipfile.ZipFile(zipped_file, 'w', compression=zipfile.ZIP_DEFLATED) as f:\r\n",
    "        f.write(keras_file)\r\n",
    "    \r\n",
    "    return os.path.getsize(zipped_file)\r\n",
    "\r\n",
    "# strip_pruning is necessary to see the compression benefits of pruning\r\n",
    "strip_cnn = tfmot.sparsity.keras.strip_pruning(cnn)\r\n",
    "strip_cnn.save_weights(\"strip_cnn_weights.h5\")\r\n",
    "print(\"Regular model, stripped:\", os.path.getsize(\"strip_cnn_weights.h5\"))\r\n",
    "\r\n",
    "strip_sparse = tfmot.sparsity.keras.strip_pruning(net)\r\n",
    "strip_sparse.save_weights(\"strip_sparse_weights.h5\")\r\n",
    "print(\"Sparse model, stripped: \", os.path.getsize(\"strip_sparse_weights.h5\"))\r\n",
    "\r\n",
    "print(\"Size of gzipped regular model: %.2f bytes\" % (get_gzipped_model_size(strip_cnn)))\r\n",
    "print(\"Size of gzipped sparse model:  %.2f bytes\" % (get_gzipped_model_size(strip_sparse)))"
   ],
   "outputs": [
    {
     "output_type": "stream",
     "name": "stdout",
     "text": [
      "Regular model, stripped: 2875408\n",
      "Sparse model, stripped:  2875408\n",
      "Size of gzipped regular model: 544832.00 bytes\n",
      "Size of gzipped sparse model:  544832.00 bytes\n"
     ]
    }
   ],
   "metadata": {}
  }
 ],
 "metadata": {
  "interpreter": {
   "hash": "26130839a7e87fd59e038942810dbb4909e5232b32b1ad521e6a6bc3043702c6"
  },
  "kernelspec": {
   "name": "python3",
   "display_name": "Python 3.6.5 64-bit ('base': conda)"
  },
  "language_info": {
   "name": "python",
   "version": "3.6.5",
   "mimetype": "text/x-python",
   "codemirror_mode": {
    "name": "ipython",
    "version": 3
   },
   "pygments_lexer": "ipython3",
   "nbconvert_exporter": "python",
   "file_extension": ".py"
  },
  "orig_nbformat": 4
 },
 "nbformat": 4,
 "nbformat_minor": 2
}