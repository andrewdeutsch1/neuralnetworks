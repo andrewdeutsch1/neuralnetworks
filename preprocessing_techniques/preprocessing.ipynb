{
 "cells": [
  {
   "cell_type": "markdown",
   "source": [
    "# Analyzing the effects of preprocessing techniques on the accuracy of a CNN for the CIFAR-100 dataset"
   ],
   "metadata": {}
  },
  {
   "cell_type": "markdown",
   "source": [
    "## Prepare data"
   ],
   "metadata": {}
  },
  {
   "cell_type": "code",
   "execution_count": 21,
   "source": [
    "import numpy as np\r\n",
    "import tensorflow as tf\r\n",
    "import matplotlib.pyplot as plt"
   ],
   "outputs": [],
   "metadata": {}
  },
  {
   "cell_type": "code",
   "execution_count": 22,
   "source": [
    "# obtain the dataset\r\n",
    "(x_train, y_train), (x_test, y_test) = tf.keras.datasets.cifar100.load_data()"
   ],
   "outputs": [],
   "metadata": {}
  },
  {
   "cell_type": "code",
   "execution_count": 23,
   "source": [
    "# find out size of the dataset\r\n",
    "(x_train.shape, x_test.shape)"
   ],
   "outputs": [
    {
     "output_type": "execute_result",
     "data": {
      "text/plain": [
       "((50000, 32, 32, 3), (10000, 32, 32, 3))"
      ]
     },
     "metadata": {},
     "execution_count": 23
    }
   ],
   "metadata": {}
  },
  {
   "cell_type": "code",
   "execution_count": 58,
   "source": [
    "# reshape the targets with one-hot encoding\r\n",
    "y_train = tf.keras.utils.to_categorical(y_train, 100)\r\n",
    "y_test = tf.keras.utils.to_categorical(y_test, 100)"
   ],
   "outputs": [],
   "metadata": {}
  },
  {
   "cell_type": "code",
   "execution_count": 59,
   "source": [
    "# normalize the dataset (not updated to RGB normalization)\r\n",
    "def normalize(data):\r\n",
    "    return (data - np.mean(data)) / np.std(data)\r\n",
    "\r\n",
    "x_train = normalize(x_train)\r\n",
    "x_test = normalize(x_test)"
   ],
   "outputs": [],
   "metadata": {}
  },
  {
   "cell_type": "markdown",
   "source": [
    "## Build CNN with different combinations of preprocessing layers"
   ],
   "metadata": {}
  },
  {
   "cell_type": "code",
   "execution_count": 127,
   "source": [
    "'''\r\n",
    "Note: the following results were obtained by commenting out either or both \r\n",
    "    of the preprocessing layers and running this cell and following cells\r\n",
    "    for each combination.\r\n",
    "'''\r\n",
    "\r\n",
    "# create a simple CNN with preprocessing layers\r\n",
    "cnn = tf.keras.models.Sequential([\r\n",
    "\r\n",
    "    tf.keras.layers.InputLayer(input_shape=(32, 32, 3)),\r\n",
    "\r\n",
    "    # preprocessing\r\n",
    "    tf.keras.layers.experimental.preprocessing.RandomFlip(),\r\n",
    "    tf.keras.layers.experimental.preprocessing.RandomCrop(28, 28),\r\n",
    "\r\n",
    "    # convolutional and pooling layers\r\n",
    "    tf.keras.layers.Conv2D(filters=28, activation='relu', kernel_size=(3,3)),\r\n",
    "    tf.keras.layers.MaxPooling2D((2,2)),\r\n",
    "    tf.keras.layers.Conv2D(filters=56, activation='relu', kernel_size=(3,3)),\r\n",
    "    tf.keras.layers.MaxPooling2D((2,2)),\r\n",
    "\r\n",
    "    # flattening and fully connected layers\r\n",
    "    tf.keras.layers.Flatten(),\r\n",
    "    tf.keras.layers.Dense(3000, activation='relu'),\r\n",
    "    tf.keras.layers.Dense(300, activation='relu'),\r\n",
    "    tf.keras.layers.Dense(100, activation='softmax')\r\n",
    "])"
   ],
   "outputs": [],
   "metadata": {}
  },
  {
   "cell_type": "code",
   "execution_count": null,
   "source": [
    "# compile the network and display a summary\r\n",
    "cnn.compile(optimizer='adam', loss='categorical_crossentropy', metrics=['accuracy'])\r\n",
    "cnn.summary()"
   ],
   "outputs": [
    {
     "output_type": "stream",
     "name": "stdout",
     "text": [
      "Model: \"sequential_14\"\n",
      "_________________________________________________________________\n",
      "Layer (type)                 Output Shape              Param #   \n",
      "=================================================================\n",
      "random_crop_13 (RandomCrop)  (None, 28, 28, 3)         0         \n",
      "_________________________________________________________________\n",
      "random_flip_1 (RandomFlip)   (None, 28, 28, 3)         0         \n",
      "_________________________________________________________________\n",
      "conv2d_30 (Conv2D)           (None, 26, 26, 28)        784       \n",
      "_________________________________________________________________\n",
      "max_pooling2d_30 (MaxPooling (None, 13, 13, 28)        0         \n",
      "_________________________________________________________________\n",
      "conv2d_31 (Conv2D)           (None, 11, 11, 56)        14168     \n",
      "_________________________________________________________________\n",
      "max_pooling2d_31 (MaxPooling (None, 5, 5, 56)          0         \n",
      "_________________________________________________________________\n",
      "flatten_7 (Flatten)          (None, 1400)              0         \n",
      "_________________________________________________________________\n",
      "dense_42 (Dense)             (None, 3000)              4203000   \n",
      "_________________________________________________________________\n",
      "dense_43 (Dense)             (None, 300)               900300    \n",
      "_________________________________________________________________\n",
      "dense_44 (Dense)             (None, 100)               30100     \n",
      "=================================================================\n",
      "Total params: 5,148,352\n",
      "Trainable params: 5,148,352\n",
      "Non-trainable params: 0\n",
      "_________________________________________________________________\n"
     ]
    }
   ],
   "metadata": {}
  },
  {
   "cell_type": "markdown",
   "source": [
    "## Train the networks, recording accuracy and loss"
   ],
   "metadata": {}
  },
  {
   "cell_type": "code",
   "execution_count": 114,
   "source": [
    "history = cnn.fit(x_train, y_train, epochs=20)"
   ],
   "outputs": [
    {
     "output_type": "stream",
     "name": "stdout",
     "text": [
      "Epoch 1/20\n",
      "1563/1563 [==============================] - 15s 9ms/step - loss: 4.0686 - accuracy: 0.0806\n",
      "Epoch 2/20\n",
      "1563/1563 [==============================] - 14s 9ms/step - loss: 3.2072 - accuracy: 0.2128\n",
      "Epoch 3/20\n",
      "1563/1563 [==============================] - 14s 9ms/step - loss: 2.8892 - accuracy: 0.2727\n",
      "Epoch 4/20\n",
      "1563/1563 [==============================] - 18s 11ms/step - loss: 2.6741 - accuracy: 0.3197\n",
      "Epoch 5/20\n",
      "1563/1563 [==============================] - 16s 10ms/step - loss: 2.5388 - accuracy: 0.3470\n",
      "Epoch 6/20\n",
      "1563/1563 [==============================] - 15s 9ms/step - loss: 2.4325 - accuracy: 0.3650\n",
      "Epoch 7/20\n",
      "1563/1563 [==============================] - 14s 9ms/step - loss: 2.3460 - accuracy: 0.3875\n",
      "Epoch 8/20\n",
      "1563/1563 [==============================] - 14s 9ms/step - loss: 2.2597 - accuracy: 0.4050\n",
      "Epoch 9/20\n",
      "1563/1563 [==============================] - 14s 9ms/step - loss: 2.2028 - accuracy: 0.4196\n",
      "Epoch 10/20\n",
      "1563/1563 [==============================] - 14s 9ms/step - loss: 2.1408 - accuracy: 0.4301\n",
      "Epoch 11/20\n",
      "1563/1563 [==============================] - 14s 9ms/step - loss: 2.1082 - accuracy: 0.4398\n",
      "Epoch 12/20\n",
      "1563/1563 [==============================] - 15s 9ms/step - loss: 2.0673 - accuracy: 0.4483\n",
      "Epoch 13/20\n",
      "1563/1563 [==============================] - 14s 9ms/step - loss: 2.0076 - accuracy: 0.4632\n",
      "Epoch 14/20\n",
      "1563/1563 [==============================] - 15s 9ms/step - loss: 1.9725 - accuracy: 0.4707\n",
      "Epoch 15/20\n",
      "1563/1563 [==============================] - 14s 9ms/step - loss: 1.9390 - accuracy: 0.4755\n",
      "Epoch 16/20\n",
      "1563/1563 [==============================] - 17s 11ms/step - loss: 1.8853 - accuracy: 0.4886\n",
      "Epoch 17/20\n",
      "1563/1563 [==============================] - 14s 9ms/step - loss: 1.8662 - accuracy: 0.4934\n",
      "Epoch 18/20\n",
      "1563/1563 [==============================] - 14s 9ms/step - loss: 1.8365 - accuracy: 0.4996\n",
      "Epoch 19/20\n",
      "1563/1563 [==============================] - 16s 10ms/step - loss: 1.7883 - accuracy: 0.5147\n",
      "Epoch 20/20\n",
      "1563/1563 [==============================] - 15s 10ms/step - loss: 1.7811 - accuracy: 0.5176\n"
     ]
    }
   ],
   "metadata": {}
  },
  {
   "cell_type": "code",
   "execution_count": 115,
   "source": [
    "# test the network and store the evaluations in a list for network comparison\r\n",
    "evaluations = []\r\n",
    "histories = []\r\n",
    "\r\n",
    "evaluations.append(cnn.evaluate(x_test, y_test))\r\n",
    "histories.append(history)"
   ],
   "outputs": [
    {
     "output_type": "stream",
     "name": "stdout",
     "text": [
      "313/313 [==============================] - 2s 7ms/step - loss: 2.5026 - accuracy: 0.3914\n"
     ]
    }
   ],
   "metadata": {}
  },
  {
   "cell_type": "markdown",
   "source": [
    "## Plot accuracy and loss for the different networks"
   ],
   "metadata": {}
  },
  {
   "cell_type": "code",
   "execution_count": 116,
   "source": [
    "# set labels and colors\r\n",
    "labels = ['no treatment', 'random cropping', 'random flipping', 'random cropping and flipping']\r\n",
    "color = ['red', 'orange', 'green', 'blue']"
   ],
   "outputs": [],
   "metadata": {}
  },
  {
   "cell_type": "code",
   "execution_count": 117,
   "source": [
    "# plot accuracy\r\n",
    "plt.title(\"Accuracy of CNN on CIFAR-100 dataset\")\r\n",
    "for i in range(len(histories)):\r\n",
    "    plt.plot(histories[i].history['accuracy'], label=labels[i], color=color[i])\r\n",
    "    plt.plot(20, evaluations[i][1], 'o', color=color[i])\r\n",
    "plt.legend()\r\n",
    "plt.xlabel('Epochs')\r\n",
    "plt.ylabel('Accuracy')\r\n",
    "plt.axis([-1,21,0,1])\r\n",
    "plt.savefig('preprocessing-accuracies', dpi=200)"
   ],
   "outputs": [
    {
     "output_type": "display_data",
     "data": {
      "text/plain": [
       "<Figure size 432x288 with 1 Axes>"
      ],
      "image/png": "[encoded data removed]"
     },
     "metadata": {}
    }
   ],
   "metadata": {}
  },
  {
   "cell_type": "code",
   "execution_count": 118,
   "source": [
    "# plot loss\r\n",
    "plt.title(\"Loss of CNN on CIFAR-100 dataset\")\r\n",
    "for i in range(len(histories)):\r\n",
    "    plt.plot(histories[i].history['loss'], label=labels[i], color=color[i])\r\n",
    "    plt.plot(20, evaluations[i][0], 'o', color=color[i])\r\n",
    "plt.legend()\r\n",
    "plt.xlabel('Epochs')\r\n",
    "plt.ylabel('Loss')\r\n",
    "plt.axis([-1,21,0,10])\r\n",
    "plt.savefig('preprocessing-losses', dpi=200)"
   ],
   "outputs": [
    {
     "output_type": "display_data",
     "data": {
      "text/plain": [
       "<Figure size 432x288 with 1 Axes>"
      ],
      "image/png": "[encoded data removed]"
     },
     "metadata": {}
    }
   ],
   "metadata": {}
  }
 ],
 "metadata": {
  "interpreter": {
   "hash": "26130839a7e87fd59e038942810dbb4909e5232b32b1ad521e6a6bc3043702c6"
  },
  "kernelspec": {
   "name": "python3",
   "display_name": "Python 3.6.5 64-bit ('base': conda)"
  },
  "language_info": {
   "name": "python",
   "version": "3.6.5"
  },
  "orig_nbformat": 4
 },
 "nbformat": 4,
 "nbformat_minor": 2
}