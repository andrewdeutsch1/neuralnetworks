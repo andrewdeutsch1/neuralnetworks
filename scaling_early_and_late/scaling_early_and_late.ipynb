{
  "cells": [
    {
      "cell_type": "markdown",
      "source": [
        "# Scaling early and late"
      ],
      "metadata": {
        "id": "dcnlPIjC5ewO"
      }
    },
    {
      "cell_type": "markdown",
      "source": [
        "## Initialize data"
      ],
      "metadata": {}
    },
    {
      "cell_type": "code",
      "execution_count": 118,
      "source": [
        "import matplotlib.pyplot as plt\r\n",
        "import nengo\r\n",
        "import numpy as np\r\n",
        "import tensorflow as tf\r\n",
        "import nengo_dl\r\n",
        "import copy\r\n",
        "\r\n",
        "seed = 0\r\n",
        "np.random.seed(seed)\r\n",
        "tf.random.set_seed(seed)"
      ],
      "outputs": [],
      "metadata": {
        "id": "z0oTxL6w5ewR"
      }
    },
    {
      "cell_type": "code",
      "execution_count": 119,
      "source": [
        "# obtain images\r\n",
        "(train_images, train_labels), (test_images,test_labels) = tf.keras.datasets.cifar10.load_data()\r\n",
        "\r\n",
        "# normalize data by color channel\r\n",
        "def normalize(array):\r\n",
        "    return (array - np.mean(array)) / np.std(array)\r\n",
        "\r\n",
        "train_images_R = normalize(train_images.transpose()[0].transpose())\r\n",
        "train_images_G = normalize(train_images.transpose()[1].transpose())\r\n",
        "train_images_B = normalize(train_images.transpose()[2].transpose())\r\n",
        "test_images_R = normalize(test_images.transpose()[0].transpose())\r\n",
        "test_images_G = normalize(test_images.transpose()[1].transpose())\r\n",
        "test_images_B = normalize(test_images.transpose()[2].transpose())\r\n",
        "\r\n",
        "train_images = np.array([train_images_R, train_images_G, train_images_B])\r\n",
        "test_images = np.array([test_images_R, test_images_G, test_images_B])\r\n",
        "\r\n",
        "train_images = np.moveaxis(train_images, 0, -1)\r\n",
        "test_images = np.moveaxis(test_images, 0, -1)\r\n",
        "\r\n",
        "# verify normalization\r\n",
        "print((train_images.shape, train_labels.shape), (test_images.shape, test_labels.shape))\r\n",
        "print('test mean:', np.mean(train_images))\r\n",
        "print('test stdv:', np.std(train_images))\r\n",
        "print('train mean:', np.mean(test_images))\r\n",
        "print('train stdv:', np.std(test_images))"
      ],
      "outputs": [
        {
          "output_type": "stream",
          "name": "stdout",
          "text": [
            "((50000, 32, 32, 3), (50000, 1)) ((10000, 32, 32, 3), (10000, 1))\n",
            "test mean: 5.4830214442821065e-17\n",
            "test stdv: 1.0000000000000002\n",
            "train mean: 8.14903700074865e-18\n",
            "train stdv: 1.0000000000000002\n"
          ]
        }
      ],
      "metadata": {}
    },
    {
      "cell_type": "code",
      "execution_count": 120,
      "source": [
        "# flatten images and add time dimension\r\n",
        "train_images = train_images.reshape((train_images.shape[0], 1, -1))\r\n",
        "train_labels = train_labels.reshape((train_labels.shape[0], 1, -1))\r\n",
        "test_images = test_images.reshape((test_images.shape[0], 1, -1))\r\n",
        "test_labels = test_labels.reshape((test_labels.shape[0], 1, -1))\r\n",
        "\r\n",
        "print((train_images.shape, train_labels.shape), (test_images.shape, test_labels.shape))"
      ],
      "outputs": [
        {
          "output_type": "stream",
          "name": "stdout",
          "text": [
            "((50000, 1, 3072), (50000, 1, 1)) ((10000, 1, 3072), (10000, 1, 1))\n"
          ]
        }
      ],
      "metadata": {
        "id": "MYgW3rU55ewS"
      }
    },
    {
      "cell_type": "markdown",
      "source": [
        "## Build convolutional network and convert to nengo-dl"
      ],
      "metadata": {}
    },
    {
      "cell_type": "markdown",
      "source": [
        "Choose one of the following models to obtain the same results"
      ],
      "metadata": {}
    },
    {
      "cell_type": "code",
      "execution_count": 4,
      "source": [
        "inp = tf.keras.Input(shape=(32, 32, 3))\r\n",
        "\r\n",
        "flatten = tf.keras.layers.Flatten()(inp)\r\n",
        "\r\n",
        "dense0 = tf.keras.layers.Dense(units=3000, activation=tf.nn.relu)(flatten)\r\n",
        "dense1 = tf.keras.layers.Dense(units=1500, activation=tf.nn.relu)(dense0)\r\n",
        "dense2 = tf.keras.layers.Dense(units=750, activation=tf.nn.relu)(dense1)\r\n",
        "dense3 = tf.keras.layers.Dense(units=375, activation=tf.nn.relu)(dense2)\r\n",
        "dense4 = tf.keras.layers.Dense(units=188, activation=tf.nn.relu)(dense3)\r\n",
        "\r\n",
        "out = tf.keras.layers.Dense(units=10)(dense4)\r\n",
        "\r\n",
        "model = tf.keras.Model(inputs=inp, outputs=out)"
      ],
      "outputs": [],
      "metadata": {
        "id": "JZ_bK1AB5ewU"
      }
    },
    {
      "cell_type": "code",
      "execution_count": 121,
      "source": [
        "inp = tf.keras.Input(shape=(32, 32, 3))\r\n",
        "\r\n",
        "conv0 = tf.keras.layers.Conv2D(filters=32, kernel_size=3, activation=tf.nn.relu)(inp)\r\n",
        "pool0 = tf.keras.layers.AveragePooling2D(pool_size=(2,2))(conv0)\r\n",
        "\r\n",
        "conv1 = tf.keras.layers.Conv2D(filters=64, kernel_size=3, activation=tf.nn.relu)(pool0)\r\n",
        "pool1 = tf.keras.layers.AveragePooling2D(pool_size=(2,2))(conv1)\r\n",
        "\r\n",
        "conv2 = tf.keras.layers.Conv2D(filters=128, kernel_size=3, activation=tf.nn.relu)(pool1)\r\n",
        "pool2 = tf.keras.layers.AveragePooling2D(pool_size=(2,2))(conv2)\r\n",
        "\r\n",
        "flatten = tf.keras.layers.Flatten()(pool2)\r\n",
        "\r\n",
        "dense0 = tf.keras.layers.Dense(units=300, activation=tf.nn.relu)(flatten)\r\n",
        "out = tf.keras.layers.Dense(units=10, name='out')(dense0)\r\n",
        "\r\n",
        "model = tf.keras.Model(inputs=inp, outputs=out)"
      ],
      "outputs": [],
      "metadata": {
        "id": "JZ_bK1AB5ewU"
      }
    },
    {
      "cell_type": "code",
      "execution_count": 122,
      "source": [
        "converter = nengo_dl.Converter(model)"
      ],
      "outputs": [],
      "metadata": {
        "id": "seOy_LqT5ewV"
      }
    },
    {
      "cell_type": "markdown",
      "source": [
        "## Train the non-spiking network"
      ],
      "metadata": {}
    },
    {
      "cell_type": "code",
      "execution_count": 9,
      "source": [
        "with nengo_dl.Simulator(converter.net, minibatch_size=200) as sim:\r\n",
        "    \r\n",
        "    sim.compile(\r\n",
        "        optimizer=tf.optimizers.Adam(0.001),\r\n",
        "        loss=tf.losses.SparseCategoricalCrossentropy(from_logits=True),\r\n",
        "        metrics=[tf.metrics.sparse_categorical_accuracy]\r\n",
        "    )\r\n",
        "\r\n",
        "    sim.fit(\r\n",
        "        {converter.inputs[inp]: train_images},\r\n",
        "        {converter.outputs[out]: train_labels},\r\n",
        "        validation_data=({converter.inputs[inp]: test_images}, {converter.outputs[out]: test_labels}),\r\n",
        "        epochs=20\r\n",
        "    )\r\n",
        "\r\n",
        "    # save the parameters\r\n",
        "    sim.save_params(\"./5_dense_params\")"
      ],
      "outputs": [
        {
          "output_type": "stream",
          "name": "stdout",
          "text": [
            "Build finished in 0:00:00                                                      \n",
            "Optimization finished in 0:00:00                                               \n",
            "Construction finished in 0:00:00                                               \n",
            "Epoch 1/20\n",
            "250/250 [==============================] - 13s 37ms/step - loss: 1.9963 - probe_loss: 1.9963 - probe_sparse_categorical_accuracy: 0.3183 - val_loss: 1.5610 - val_probe_loss: 1.5610 - val_probe_sparse_categorical_accuracy: 0.4454\n",
            "Epoch 2/20\n",
            "250/250 [==============================] - 8s 33ms/step - loss: 1.4911 - probe_loss: 1.4911 - probe_sparse_categorical_accuracy: 0.4729 - val_loss: 1.4304 - val_probe_loss: 1.4304 - val_probe_sparse_categorical_accuracy: 0.4977\n",
            "Epoch 3/20\n",
            "250/250 [==============================] - 9s 34ms/step - loss: 1.3702 - probe_loss: 1.3702 - probe_sparse_categorical_accuracy: 0.5150 - val_loss: 1.3961 - val_probe_loss: 1.3961 - val_probe_sparse_categorical_accuracy: 0.5111\n",
            "Epoch 4/20\n",
            "250/250 [==============================] - 17s 67ms/step - loss: 1.2485 - probe_loss: 1.2485 - probe_sparse_categorical_accuracy: 0.5573 - val_loss: 1.3767 - val_probe_loss: 1.3767 - val_probe_sparse_categorical_accuracy: 0.5207\n",
            "Epoch 5/20\n",
            "250/250 [==============================] - 17s 68ms/step - loss: 1.1651 - probe_loss: 1.1651 - probe_sparse_categorical_accuracy: 0.5902 - val_loss: 1.3531 - val_probe_loss: 1.3531 - val_probe_sparse_categorical_accuracy: 0.5385\n",
            "Epoch 6/20\n",
            "250/250 [==============================] - 13s 54ms/step - loss: 1.0659 - probe_loss: 1.0659 - probe_sparse_categorical_accuracy: 0.6254 - val_loss: 1.3541 - val_probe_loss: 1.3541 - val_probe_sparse_categorical_accuracy: 0.5340\n",
            "Epoch 7/20\n",
            "250/250 [==============================] - 11s 44ms/step - loss: 0.9974 - probe_loss: 0.9974 - probe_sparse_categorical_accuracy: 0.6483 - val_loss: 1.4219 - val_probe_loss: 1.4219 - val_probe_sparse_categorical_accuracy: 0.5396\n",
            "Epoch 8/20\n",
            "250/250 [==============================] - 13s 53ms/step - loss: 0.9108 - probe_loss: 0.9108 - probe_sparse_categorical_accuracy: 0.6766 - val_loss: 1.3815 - val_probe_loss: 1.3815 - val_probe_sparse_categorical_accuracy: 0.5498\n",
            "Epoch 9/20\n",
            "250/250 [==============================] - 10s 42ms/step - loss: 0.8362 - probe_loss: 0.8362 - probe_sparse_categorical_accuracy: 0.7000 - val_loss: 1.4270 - val_probe_loss: 1.4270 - val_probe_sparse_categorical_accuracy: 0.5371\n",
            "Epoch 10/20\n",
            "250/250 [==============================] - 10s 41ms/step - loss: 0.7760 - probe_loss: 0.7760 - probe_sparse_categorical_accuracy: 0.7204 - val_loss: 1.4622 - val_probe_loss: 1.4622 - val_probe_sparse_categorical_accuracy: 0.5540\n",
            "Epoch 11/20\n",
            "250/250 [==============================] - 9s 37ms/step - loss: 0.7037 - probe_loss: 0.7037 - probe_sparse_categorical_accuracy: 0.7492 - val_loss: 1.5502 - val_probe_loss: 1.5502 - val_probe_sparse_categorical_accuracy: 0.5461\n",
            "Epoch 12/20\n",
            "250/250 [==============================] - 10s 40ms/step - loss: 0.6474 - probe_loss: 0.6474 - probe_sparse_categorical_accuracy: 0.7700 - val_loss: 1.6144 - val_probe_loss: 1.6144 - val_probe_sparse_categorical_accuracy: 0.5442\n",
            "Epoch 13/20\n",
            "250/250 [==============================] - 10s 40ms/step - loss: 0.5853 - probe_loss: 0.5853 - probe_sparse_categorical_accuracy: 0.7926 - val_loss: 1.5959 - val_probe_loss: 1.5959 - val_probe_sparse_categorical_accuracy: 0.5413\n",
            "Epoch 14/20\n",
            "250/250 [==============================] - 10s 40ms/step - loss: 0.5309 - probe_loss: 0.5309 - probe_sparse_categorical_accuracy: 0.8128 - val_loss: 1.7669 - val_probe_loss: 1.7669 - val_probe_sparse_categorical_accuracy: 0.5434\n",
            "Epoch 15/20\n",
            "250/250 [==============================] - 10s 40ms/step - loss: 0.4901 - probe_loss: 0.4901 - probe_sparse_categorical_accuracy: 0.8265 - val_loss: 1.8575 - val_probe_loss: 1.8575 - val_probe_sparse_categorical_accuracy: 0.5453\n",
            "Epoch 16/20\n",
            "250/250 [==============================] - 10s 40ms/step - loss: 0.4430 - probe_loss: 0.4430 - probe_sparse_categorical_accuracy: 0.8437 - val_loss: 1.9792 - val_probe_loss: 1.9792 - val_probe_sparse_categorical_accuracy: 0.5511\n",
            "Epoch 17/20\n",
            "250/250 [==============================] - 12s 48ms/step - loss: 0.4033 - probe_loss: 0.4033 - probe_sparse_categorical_accuracy: 0.8590 - val_loss: 1.9731 - val_probe_loss: 1.9731 - val_probe_sparse_categorical_accuracy: 0.5441\n",
            "Epoch 18/20\n",
            "250/250 [==============================] - 10s 41ms/step - loss: 0.3776 - probe_loss: 0.3776 - probe_sparse_categorical_accuracy: 0.8674 - val_loss: 2.1611 - val_probe_loss: 2.1611 - val_probe_sparse_categorical_accuracy: 0.5503\n",
            "Epoch 19/20\n",
            "250/250 [==============================] - 10s 39ms/step - loss: 0.3478 - probe_loss: 0.3478 - probe_sparse_categorical_accuracy: 0.8781 - val_loss: 2.2333 - val_probe_loss: 2.2333 - val_probe_sparse_categorical_accuracy: 0.5505\n",
            "Epoch 20/20\n",
            "250/250 [==============================] - 9s 37ms/step - loss: 0.3270 - probe_loss: 0.3270 - probe_sparse_categorical_accuracy: 0.8848 - val_loss: 2.2770 - val_probe_loss: 2.2770 - val_probe_sparse_categorical_accuracy: 0.5520\n"
          ]
        }
      ],
      "metadata": {
        "id": "Es3hg9Q15ewV"
      }
    },
    {
      "cell_type": "markdown",
      "source": [
        "## Run the non-spiking network"
      ],
      "metadata": {}
    },
    {
      "cell_type": "code",
      "execution_count": 233,
      "source": [
        "def run_network(\r\n",
        "    activation,\r\n",
        "    params_file=\"3_conv_params\",\r\n",
        "    n_steps=30,\r\n",
        "    scale_firing_rates=1,\r\n",
        "    synapse=None,\r\n",
        "    n_test=400,\r\n",
        "):\r\n",
        "    # convert the keras model to a nengo network\r\n",
        "    nengo_converter = nengo_dl.Converter(\r\n",
        "        model,\r\n",
        "        swap_activations={tf.nn.relu: activation},\r\n",
        "        scale_firing_rates=scale_firing_rates,\r\n",
        "        synapse=synapse,\r\n",
        "    )\r\n",
        "\r\n",
        "    # get input/output objects\r\n",
        "    nengo_input = nengo_converter.inputs[inp]\r\n",
        "    nengo_output = nengo_converter.outputs[out]\r\n",
        "\r\n",
        "    # add a probe to the first convolutional layer to record activity.\r\n",
        "    # we'll only record from a subset of neurons, to save memory.\r\n",
        "    sample_neurons_conv0 = np.linspace(0, np.prod(conv0.shape[1:]), 300, endpoint=False, dtype=np.int32)\r\n",
        "    sample_neurons_conv1 = np.linspace(0, np.prod(conv1.shape[1:]), 300, endpoint=False, dtype=np.int32)\r\n",
        "    sample_neurons_conv2 = np.linspace(0, np.prod(conv2.shape[1:]), 300, endpoint=False, dtype=np.int32)\r\n",
        "    sample_neurons_dense0 = np.linspace(0, np.prod(dense0.shape[1:]), 300, endpoint=False, dtype=np.int32)\r\n",
        "\r\n",
        "    with nengo_converter.net:\r\n",
        "        conv0_probe = nengo.Probe(nengo_converter.layers[conv0][sample_neurons_conv0])\r\n",
        "        conv1_probe = nengo.Probe(nengo_converter.layers[conv1][sample_neurons_conv1])\r\n",
        "        conv2_probe = nengo.Probe(nengo_converter.layers[conv2][sample_neurons_conv2])\r\n",
        "        dense0_probe = nengo.Probe(nengo_converter.layers[dense0][sample_neurons_dense0])\r\n",
        "\r\n",
        "    # repeat inputs for some number of timesteps\r\n",
        "    tiled_test_images = np.tile(test_images[:n_test], (1, n_steps, 1))\r\n",
        "\r\n",
        "    # set some options to speed up simulation\r\n",
        "    with nengo_converter.net:\r\n",
        "        nengo_dl.configure_settings(stateful=False)\r\n",
        "\r\n",
        "    # build network, load in trained weights, run inference on test images\r\n",
        "    with nengo_dl.Simulator(\r\n",
        "        nengo_converter.net, minibatch_size=200, progress_bar=False\r\n",
        "    ) as nengo_sim:\r\n",
        "        nengo_sim.load_params(params_file)\r\n",
        "        data = nengo_sim.predict({nengo_input: tiled_test_images})\r\n",
        "\r\n",
        "    # compute accuracy on test data, using output of network on\r\n",
        "    # last timestep\r\n",
        "    predictions = np.argmax(data[nengo_output][:, -1], axis=-1)\r\n",
        "    accuracy = (predictions == test_labels[:n_test, 0, 0]).mean()\r\n",
        "    print(f\" test accuracy: {100 * accuracy:.2f}%\")\r\n",
        "\r\n",
        "    probe_names = ['conv0', 'conv1', 'conv2', 'dense']\r\n",
        "    rates_for_images = []\r\n",
        "\r\n",
        "    for ii in range(10):\r\n",
        "\r\n",
        "        if isinstance(scale_firing_rates, dict):\r\n",
        "            scaled_data = np.array([\r\n",
        "                data[conv0_probe][ii] * scale_firing_rates[model.layers[1]],\r\n",
        "                data[conv1_probe][ii] * scale_firing_rates[model.layers[3]],\r\n",
        "                data[conv2_probe][ii] * scale_firing_rates[model.layers[5]],\r\n",
        "                data[dense0_probe][ii] * scale_firing_rates[model.layers[8]],\r\n",
        "            ])\r\n",
        "        else:\r\n",
        "            scaled_data = np.array([\r\n",
        "                data[conv0_probe][ii] * scale_firing_rates,\r\n",
        "                data[conv1_probe][ii] * scale_firing_rates,\r\n",
        "                data[conv2_probe][ii] * scale_firing_rates,\r\n",
        "                data[dense0_probe][ii] * scale_firing_rates,\r\n",
        "            ])\r\n",
        "\r\n",
        "        if isinstance(activation, nengo.SpikingRectifiedLinear):\r\n",
        "            scaled_data *= 0.001\r\n",
        "            rates = np.array([np.sum(d, axis=0) / (n_steps * nengo_sim.dt) for d in scaled_data])\r\n",
        "        else:\r\n",
        "            rates = scaled_data\r\n",
        "\r\n",
        "        rates_for_images.append(rates)\r\n",
        "        # for l in range(len(probe_names)):\r\n",
        "        #     print(\"Image #\" + str(ii) + \":\\n  Layer \" + probe_names[l] + \":\\n    Mean Firing Rate = \" + str(rates[l].mean()) + \"\\n    Max Firing Rate = \" + str(rates[l].max()))\r\n",
        "\r\n",
        "    return (accuracy, np.array(rates_for_images).mean(axis=0))"
      ],
      "outputs": [],
      "metadata": {
        "id": "QnjBzML95ewX"
      }
    },
    {
      "cell_type": "code",
      "execution_count": 234,
      "source": [
        "baseline_accuracy, baseline_rates = run_network(activation=nengo.RectifiedLinear(), n_steps=10)"
      ],
      "outputs": [
        {
          "output_type": "stream",
          "name": "stdout",
          "text": [
            "WARNING:tensorflow:6 out of the last 11 calls to <function Model.make_predict_function.<locals>.predict_function at 0x00000172E46F9A60> triggered tf.function retracing. Tracing is expensive and the excessive number of tracings could be due to (1) creating @tf.function repeatedly in a loop, (2) passing tensors with different shapes, (3) passing Python objects instead of tensors. For (1), please define your @tf.function outside of the loop. For (2), @tf.function has experimental_relax_shapes=True option that relaxes argument shapes that can avoid unnecessary retracing. For (3), please refer to https://www.tensorflow.org/guide/function#controlling_retracing and https://www.tensorflow.org/api_docs/python/tf/function for  more details.\n"
          ]
        },
        {
          "output_type": "stream",
          "name": "stderr",
          "text": [
            "WARNING:tensorflow:6 out of the last 11 calls to <function Model.make_predict_function.<locals>.predict_function at 0x00000172E46F9A60> triggered tf.function retracing. Tracing is expensive and the excessive number of tracings could be due to (1) creating @tf.function repeatedly in a loop, (2) passing tensors with different shapes, (3) passing Python objects instead of tensors. For (1), please define your @tf.function outside of the loop. For (2), @tf.function has experimental_relax_shapes=True option that relaxes argument shapes that can avoid unnecessary retracing. For (3), please refer to https://www.tensorflow.org/guide/function#controlling_retracing and https://www.tensorflow.org/api_docs/python/tf/function for  more details.\n"
          ]
        },
        {
          "output_type": "stream",
          "name": "stdout",
          "text": [
            " test accuracy: 75.50%\n"
          ]
        }
      ],
      "metadata": {
        "id": "4vChmAYq5ewY"
      }
    },
    {
      "cell_type": "markdown",
      "source": [
        "## Scale the firing rates for each layer at a time"
      ],
      "metadata": {}
    },
    {
      "cell_type": "code",
      "execution_count": null,
      "source": [
        "synapse = 0.005\r\n",
        "base_scale_firing_rates = 50\r\n",
        "special_scale_firing_rates = 150\r\n",
        "accuracy_and_rates = []\r\n",
        "\r\n",
        "accuracy_and_rates.append(\r\n",
        "    run_network(\r\n",
        "        activation=nengo.SpikingRectifiedLinear(),\r\n",
        "        n_steps=60,\r\n",
        "        synapse=synapse,\r\n",
        "        scale_firing_rates=base_scale_firing_rates,\r\n",
        "    )\r\n",
        ")\r\n",
        "\r\n",
        "scale_firing_rates = {layer:base_scale_firing_rates for layer in model.layers}\r\n",
        "\r\n",
        "for l in [1, 3, 5, 8, 9]:\r\n",
        "    scale_firing_rates[model.layers[l]] = special_scale_firing_rates\r\n",
        "\r\n",
        "    print(\"Scaled layer: \" + model.layers[l]._name)\r\n",
        "    accuracy_and_rates.append(\r\n",
        "        run_network(\r\n",
        "            activation=nengo.SpikingRectifiedLinear(),\r\n",
        "            n_steps=60,\r\n",
        "            synapse=synapse,\r\n",
        "            scale_firing_rates=scale_firing_rates,\r\n",
        "        )\r\n",
        "    )\r\n",
        "    scale_firing_rates[model.layers[l]] = base_scale_firing_rates"
      ],
      "outputs": [],
      "metadata": {}
    },
    {
      "cell_type": "code",
      "execution_count": 236,
      "source": [
        "# create graph of accuracy\r\n",
        "accuracy_list = np.array([e[0] for e in accuracy_and_rates])\r\n",
        "rates_list = np.array([e[1] for e in accuracy_and_rates])\r\n",
        "\r\n",
        "fig, ax = plt.subplots(1,1)\r\n",
        "baseline = plt.Rectangle((-0.5,75.5), 6,0, fill=True, color='#B2D33B', linewidth=2, zorder=2)\r\n",
        "baseline.set_label('CNN = ' + str(baseline_accuracy * 100) + '%')\r\n",
        "ax = ax or plt.gca()\r\n",
        "ax.add_patch(baseline)\r\n",
        "ax.legend()\r\n",
        "\r\n",
        "def add_labels(y):\r\n",
        "    for i in range(len(y)):\r\n",
        "        plt.text(i, y[i]*100/2, str(round(y[i]*100,3)), ha='center')\r\n",
        "\r\n",
        "add_labels(accuracy_list)\r\n",
        "\r\n",
        "plt.xlabel(\"layer scaled\")\r\n",
        "plt.ylabel(\"accuracy (%)\")\r\n",
        "plt.title(\"CIFAR-10 Acc. for Individually Scaled Layers of SNN\\n(synapse=\" + str(synapse) + \", baseline_scale_firing_rates=\" + str(base_scale_firing_rates) + \", special_scale_firing_rates=\" + str(special_scale_firing_rates) + \")\", size=10)\r\n",
        "# labels = [layer._name for layer in model.layers[2:]]\r\n",
        "labels = ['none', 'conv_0', 'conv_1', 'conv_2', 'dense_0', 'out']\r\n",
        "plt.bar(labels, accuracy_list*100, color='#00ADDC')\r\n",
        "plt.xticks(rotation=0, size=8)\r\n",
        "plt.savefig(\"./scaling_early_and_late_images/3_conv/rates_\" + str(synapse)[2:] + \"_\" + str(base_scale_firing_rates) + \"_\" + str(special_scale_firing_rates), dpi=300)"
      ],
      "outputs": [
        {
          "output_type": "display_data",
          "data": {
            "text/plain": [
              "<Figure size 432x288 with 1 Axes>"
            ],
            "image/png": "[encoded data removed]"
          },
          "metadata": {}
        }
      ],
      "metadata": {}
    },
    {
      "cell_type": "code",
      "execution_count": null,
      "source": [
        "# scale layers in pairs\r\n",
        "synapse = 0.005\r\n",
        "base_scale_firing_rates = 50\r\n",
        "special_scale_firing_rates = 150\r\n",
        "accuracy_list = []\r\n",
        "\r\n",
        "accuracy_list.append(\r\n",
        "    run_network(\r\n",
        "        activation=nengo.SpikingRectifiedLinear(),\r\n",
        "        n_steps=60,\r\n",
        "        synapse=synapse,\r\n",
        "        scale_firing_rates=base_scale_firing_rates,\r\n",
        "    )\r\n",
        ")\r\n",
        "\r\n",
        "scale_firing_rates = {layer:base_scale_firing_rates for layer in model.layers}\r\n",
        "pairs = [(1,3), (3,5), (5, 8), (8, 9)]\r\n",
        "\r\n",
        "for pair in pairs:\r\n",
        "\r\n",
        "    scale_firing_rates[model.layers[pair[0]]] = special_scale_firing_rates\r\n",
        "    scale_firing_rates[model.layers[pair[1]]] = special_scale_firing_rates\r\n",
        "\r\n",
        "    print(\"Scaled layer: \" + model.layers[l]._name)\r\n",
        "    accuracy = run_network(\r\n",
        "        activation=nengo.SpikingRectifiedLinear(),\r\n",
        "        n_steps=60,\r\n",
        "        synapse=synapse,\r\n",
        "        scale_firing_rates=scale_firing_rates)\r\n",
        "\r\n",
        "    accuracy_list.append(accuracy)\r\n",
        "\r\n",
        "    scale_firing_rates[model.layers[pair[0]]] = base_scale_firing_rates\r\n",
        "    scale_firing_rates[model.layers[pair[1]]] = base_scale_firing_rates"
      ],
      "outputs": [],
      "metadata": {}
    },
    {
      "cell_type": "code",
      "execution_count": 167,
      "source": [
        "# create graph for scaled layer pairs\r\n",
        "fig, ax = plt.subplots(1,1)\r\n",
        "baseline = plt.Rectangle((-0.5,75.5), 5,0, fill=True, color='#B2D33B', linewidth=2, zorder=2)\r\n",
        "baseline.set_label('CNN = ' + str(baseline_accuracy * 100) + '%')\r\n",
        "ax = ax or plt.gca()\r\n",
        "ax.add_patch(baseline)\r\n",
        "ax.legend()\r\n",
        "\r\n",
        "def addlabels(y):\r\n",
        "    for i in range(len(y)):\r\n",
        "        plt.text(i, y[i]*100/2, str(round(y[i]*100,3)), ha='center')\r\n",
        "\r\n",
        "addlabels(accuracy_list)\r\n",
        "\r\n",
        "accuracy_list = np.array(accuracy_list)\r\n",
        "plt.xlabel(\"layers scaled\")\r\n",
        "plt.ylabel(\"accuracy (%)\")\r\n",
        "plt.title(\"CIFAR-10 Acc. for Scaled Layer Pairs of SNN\\n(synapse=\" + str(synapse) + \", baseline_scale_firing_rates=\" + str(base_scale_firing_rates) + \", special_scale_firing_rates=\" + str(special_scale_firing_rates) + \")\", size=10)\r\n",
        "# labels = [layer._name for layer in model.layers[2:]]\r\n",
        "labels = ['none', 'c0 & c1', 'c1 & c2', 'c2 & dense', 'dense & out']\r\n",
        "plt.bar(labels, accuracy_list*100, color='#00ADDC')\r\n",
        "plt.xticks(rotation=0, size=8)\r\n",
        "plt.savefig(\"./scaling_early_and_late_images/3_conv/barred_pairs_\" + str(synapse)[2:] + \"_\" + str(base_scale_firing_rates) + \"_\" + str(special_scale_firing_rates), dpi=300)"
      ],
      "outputs": [
        {
          "output_type": "display_data",
          "data": {
            "text/plain": [
              "<Figure size 432x288 with 1 Axes>"
            ],
            "image/png": "[encoded data removed]"
          },
          "metadata": {}
        }
      ],
      "metadata": {}
    }
  ],
  "metadata": {
    "colab": {
      "name": "keras-to-snn.ipynb",
      "provenance": []
    },
    "interpreter": {
      "hash": "26130839a7e87fd59e038942810dbb4909e5232b32b1ad521e6a6bc3043702c6"
    },
    "kernelspec": {
      "display_name": "Python 3.6.5 64-bit ('base': conda)",
      "name": "python3"
    },
    "language_info": {
      "codemirror_mode": {
        "name": "ipython",
        "version": 3
      },
      "file_extension": ".py",
      "mimetype": "text/x-python",
      "name": "python",
      "nbconvert_exporter": "python",
      "pygments_lexer": "ipython3",
      "version": "3.6.5"
    }
  },
  "nbformat": 4,
  "nbformat_minor": 2
}