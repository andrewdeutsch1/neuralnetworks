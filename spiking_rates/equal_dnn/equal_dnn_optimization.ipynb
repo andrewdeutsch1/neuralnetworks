{
  "cells": [
    {
      "cell_type": "markdown",
      "source": [
        "# Testing the effects of synapse and scaling_firing_rates on the accuracy of a converted spiking deep network."
      ],
      "metadata": {
        "id": "dcnlPIjC5ewO"
      }
    },
    {
      "cell_type": "markdown",
      "source": [
        "## Initialize data"
      ],
      "metadata": {}
    },
    {
      "cell_type": "code",
      "execution_count": 1,
      "source": [
        "import matplotlib.pyplot as plt\r\n",
        "import nengo\r\n",
        "import numpy as np\r\n",
        "import tensorflow as tf\r\n",
        "import nengo_dl\r\n",
        "\r\n",
        "seed = 0\r\n",
        "np.random.seed(seed)\r\n",
        "tf.random.set_seed(seed)"
      ],
      "outputs": [],
      "metadata": {
        "id": "z0oTxL6w5ewR"
      }
    },
    {
      "cell_type": "code",
      "execution_count": 2,
      "source": [
        "tf.keras.backend.clear_session()"
      ],
      "outputs": [],
      "metadata": {}
    },
    {
      "cell_type": "code",
      "execution_count": 3,
      "source": [
        "# obtain images\r\n",
        "(train_images, train_labels), (test_images,test_labels) = tf.keras.datasets.cifar10.load_data()\r\n",
        "\r\n",
        "# normalize data by color channel\r\n",
        "def normalize(array):\r\n",
        "    return (array - np.mean(array)) / np.std(array)\r\n",
        "\r\n",
        "train_images_R = normalize(train_images.transpose()[0].transpose())\r\n",
        "train_images_G = normalize(train_images.transpose()[1].transpose())\r\n",
        "train_images_B = normalize(train_images.transpose()[2].transpose())\r\n",
        "test_images_R = normalize(test_images.transpose()[0].transpose())\r\n",
        "test_images_G = normalize(test_images.transpose()[1].transpose())\r\n",
        "test_images_B = normalize(test_images.transpose()[2].transpose())\r\n",
        "\r\n",
        "train_images = np.array([train_images_R, train_images_G, train_images_B])\r\n",
        "test_images = np.array([test_images_R, test_images_G, test_images_B])\r\n",
        "\r\n",
        "train_images = np.moveaxis(train_images, 0, -1)\r\n",
        "test_images = np.moveaxis(test_images, 0, -1)\r\n",
        "\r\n",
        "# verify normalization\r\n",
        "print((train_images.shape, train_labels.shape), (test_images.shape, test_labels.shape))\r\n",
        "print('test mean:', np.mean(train_images))\r\n",
        "print('test stdv:', np.std(train_images))\r\n",
        "print('train mean:', np.mean(test_images))\r\n",
        "print('train stdv:', np.std(test_images))"
      ],
      "outputs": [
        {
          "output_type": "stream",
          "name": "stdout",
          "text": [
            "((50000, 32, 32, 3), (50000, 1)) ((10000, 32, 32, 3), (10000, 1))\n",
            "test mean: 5.4830214442821065e-17\n",
            "test stdv: 1.0000000000000002\n",
            "train mean: 8.14903700074865e-18\n",
            "train stdv: 1.0000000000000002\n"
          ]
        }
      ],
      "metadata": {}
    },
    {
      "cell_type": "code",
      "execution_count": 4,
      "source": [
        "# flatten images and add time dimension\r\n",
        "train_images = train_images.reshape((train_images.shape[0], 1, -1))\r\n",
        "train_labels = train_labels.reshape((train_labels.shape[0], 1, -1))\r\n",
        "test_images = test_images.reshape((test_images.shape[0], 1, -1))\r\n",
        "test_labels = test_labels.reshape((test_labels.shape[0], 1, -1))\r\n",
        "\r\n",
        "print((train_images.shape, train_labels.shape), (test_images.shape, test_labels.shape))"
      ],
      "outputs": [
        {
          "output_type": "stream",
          "name": "stdout",
          "text": [
            "((50000, 1, 3072), (50000, 1, 1)) ((10000, 1, 3072), (10000, 1, 1))\n"
          ]
        }
      ],
      "metadata": {
        "id": "MYgW3rU55ewS"
      }
    },
    {
      "cell_type": "markdown",
      "source": [
        "## Build network and convert to nengo-dl"
      ],
      "metadata": {}
    },
    {
      "cell_type": "code",
      "execution_count": 5,
      "source": [
        "inp = tf.keras.Input(shape=(32, 32, 3))\r\n",
        "\r\n",
        "flatten = tf.keras.layers.Flatten()(inp)\r\n",
        "\r\n",
        "# reduced to 200 neurons per layer (75 was too low)\r\n",
        "dense0 = tf.keras.layers.Dense(units=204, activation=tf.nn.relu, name='d0')(flatten)\r\n",
        "dense1 = tf.keras.layers.Dense(units=203, activation=tf.nn.relu, name='d1')(dense0)\r\n",
        "dense2 = tf.keras.layers.Dense(units=202, activation=tf.nn.relu, name='d2')(dense1)\r\n",
        "dense3 = tf.keras.layers.Dense(units=201, activation=tf.nn.relu, name='d3')(dense2)\r\n",
        "dense4 = tf.keras.layers.Dense(units=200, activation=tf.nn.relu, name='d4')(dense3)\r\n",
        "\r\n",
        "out = tf.keras.layers.Dense(units=10)(dense4)\r\n",
        "\r\n",
        "model = tf.keras.Model(inputs=inp, outputs=out)"
      ],
      "outputs": [],
      "metadata": {
        "id": "JZ_bK1AB5ewU"
      }
    },
    {
      "cell_type": "code",
      "execution_count": 6,
      "source": [
        "converter = nengo_dl.Converter(model)"
      ],
      "outputs": [],
      "metadata": {
        "id": "seOy_LqT5ewV"
      }
    },
    {
      "cell_type": "markdown",
      "source": [
        "## Train the non-spiking network"
      ],
      "metadata": {}
    },
    {
      "cell_type": "code",
      "execution_count": 7,
      "source": [
        "with nengo_dl.Simulator(converter.net, minibatch_size=200) as sim:\r\n",
        "    \r\n",
        "    sim.compile(\r\n",
        "        optimizer=tf.optimizers.Adam(0.001),\r\n",
        "        loss=tf.losses.SparseCategoricalCrossentropy(from_logits=True),\r\n",
        "        metrics=[tf.metrics.sparse_categorical_accuracy]\r\n",
        "    )\r\n",
        "\r\n",
        "    sim.fit(\r\n",
        "        {converter.inputs[inp]: train_images},\r\n",
        "        {converter.outputs[out]: train_labels},\r\n",
        "        validation_data=({converter.inputs[inp]: test_images}, {converter.outputs[out]: test_labels}),\r\n",
        "        epochs=20\r\n",
        "    )\r\n",
        "\r\n",
        "    # save the parameters\r\n",
        "    sim.save_params(\"./equal_dnn_params\")"
      ],
      "outputs": [
        {
          "output_type": "stream",
          "name": "stdout",
          "text": [
            "Build finished in 0:00:00                                                      \n",
            "Optimization finished in 0:00:00                                               \n",
            "Construction finished in 0:00:00                                               \n",
            "Epoch 1/20\n",
            "250/250 [==============================] - 7s 19ms/step - loss: 1.8235 - probe_loss: 1.8235 - probe_sparse_categorical_accuracy: 0.3453 - val_loss: 1.5512 - val_probe_loss: 1.5512 - val_probe_sparse_categorical_accuracy: 0.4483\n",
            "Epoch 2/20\n",
            "250/250 [==============================] - 4s 16ms/step - loss: 1.4836 - probe_loss: 1.4836 - probe_sparse_categorical_accuracy: 0.4724 - val_loss: 1.4345 - val_probe_loss: 1.4345 - val_probe_sparse_categorical_accuracy: 0.4901\n",
            "Epoch 3/20\n",
            "250/250 [==============================] - 4s 16ms/step - loss: 1.3652 - probe_loss: 1.3652 - probe_sparse_categorical_accuracy: 0.5158 - val_loss: 1.4359 - val_probe_loss: 1.4359 - val_probe_sparse_categorical_accuracy: 0.4898\n",
            "Epoch 4/20\n",
            "250/250 [==============================] - 4s 16ms/step - loss: 1.2715 - probe_loss: 1.2715 - probe_sparse_categorical_accuracy: 0.5466 - val_loss: 1.3968 - val_probe_loss: 1.3968 - val_probe_sparse_categorical_accuracy: 0.5137\n",
            "Epoch 5/20\n",
            "250/250 [==============================] - 4s 16ms/step - loss: 1.1856 - probe_loss: 1.1856 - probe_sparse_categorical_accuracy: 0.5815 - val_loss: 1.3875 - val_probe_loss: 1.3875 - val_probe_sparse_categorical_accuracy: 0.5198\n",
            "Epoch 6/20\n",
            "250/250 [==============================] - 4s 16ms/step - loss: 1.1034 - probe_loss: 1.1034 - probe_sparse_categorical_accuracy: 0.6068 - val_loss: 1.3578 - val_probe_loss: 1.3578 - val_probe_sparse_categorical_accuracy: 0.5255\n",
            "Epoch 7/20\n",
            "250/250 [==============================] - 4s 15ms/step - loss: 1.0440 - probe_loss: 1.0440 - probe_sparse_categorical_accuracy: 0.6304 - val_loss: 1.4119 - val_probe_loss: 1.4119 - val_probe_sparse_categorical_accuracy: 0.5269\n",
            "Epoch 8/20\n",
            "250/250 [==============================] - 4s 15ms/step - loss: 0.9746 - probe_loss: 0.9746 - probe_sparse_categorical_accuracy: 0.6521 - val_loss: 1.4096 - val_probe_loss: 1.4096 - val_probe_sparse_categorical_accuracy: 0.5279\n",
            "Epoch 9/20\n",
            "250/250 [==============================] - 4s 15ms/step - loss: 0.9104 - probe_loss: 0.9104 - probe_sparse_categorical_accuracy: 0.6741 - val_loss: 1.4245 - val_probe_loss: 1.4245 - val_probe_sparse_categorical_accuracy: 0.5216\n",
            "Epoch 10/20\n",
            "250/250 [==============================] - 4s 18ms/step - loss: 0.8617 - probe_loss: 0.8617 - probe_sparse_categorical_accuracy: 0.6918 - val_loss: 1.4836 - val_probe_loss: 1.4836 - val_probe_sparse_categorical_accuracy: 0.5252\n",
            "Epoch 11/20\n",
            "250/250 [==============================] - 4s 17ms/step - loss: 0.8018 - probe_loss: 0.8018 - probe_sparse_categorical_accuracy: 0.7130 - val_loss: 1.5105 - val_probe_loss: 1.5105 - val_probe_sparse_categorical_accuracy: 0.5234\n",
            "Epoch 12/20\n",
            "250/250 [==============================] - 4s 16ms/step - loss: 0.7465 - probe_loss: 0.7465 - probe_sparse_categorical_accuracy: 0.7369 - val_loss: 1.6222 - val_probe_loss: 1.6222 - val_probe_sparse_categorical_accuracy: 0.5175\n",
            "Epoch 13/20\n",
            "250/250 [==============================] - 4s 15ms/step - loss: 0.6822 - probe_loss: 0.6822 - probe_sparse_categorical_accuracy: 0.7563 - val_loss: 1.5969 - val_probe_loss: 1.5969 - val_probe_sparse_categorical_accuracy: 0.5271\n",
            "Epoch 14/20\n",
            "250/250 [==============================] - 4s 15ms/step - loss: 0.6309 - probe_loss: 0.6309 - probe_sparse_categorical_accuracy: 0.7750 - val_loss: 1.6622 - val_probe_loss: 1.6622 - val_probe_sparse_categorical_accuracy: 0.5278\n",
            "Epoch 15/20\n",
            "250/250 [==============================] - 4s 15ms/step - loss: 0.5807 - probe_loss: 0.5807 - probe_sparse_categorical_accuracy: 0.7929 - val_loss: 1.8321 - val_probe_loss: 1.8321 - val_probe_sparse_categorical_accuracy: 0.5204\n",
            "Epoch 16/20\n",
            "250/250 [==============================] - 4s 15ms/step - loss: 0.5374 - probe_loss: 0.5374 - probe_sparse_categorical_accuracy: 0.8059 - val_loss: 1.8203 - val_probe_loss: 1.8203 - val_probe_sparse_categorical_accuracy: 0.5265\n",
            "Epoch 17/20\n",
            "250/250 [==============================] - 5s 21ms/step - loss: 0.4905 - probe_loss: 0.4905 - probe_sparse_categorical_accuracy: 0.8253 - val_loss: 1.9778 - val_probe_loss: 1.9778 - val_probe_sparse_categorical_accuracy: 0.5167\n",
            "Epoch 18/20\n",
            "250/250 [==============================] - 5s 18ms/step - loss: 0.4713 - probe_loss: 0.4713 - probe_sparse_categorical_accuracy: 0.8316 - val_loss: 2.0149 - val_probe_loss: 2.0149 - val_probe_sparse_categorical_accuracy: 0.5236\n",
            "Epoch 19/20\n",
            "250/250 [==============================] - 4s 14ms/step - loss: 0.4310 - probe_loss: 0.4310 - probe_sparse_categorical_accuracy: 0.8487 - val_loss: 2.0940 - val_probe_loss: 2.0940 - val_probe_sparse_categorical_accuracy: 0.5173\n",
            "Epoch 20/20\n",
            "250/250 [==============================] - 4s 14ms/step - loss: 0.3918 - probe_loss: 0.3918 - probe_sparse_categorical_accuracy: 0.8595 - val_loss: 2.1584 - val_probe_loss: 2.1584 - val_probe_sparse_categorical_accuracy: 0.5204\n"
          ]
        }
      ],
      "metadata": {
        "id": "Es3hg9Q15ewV"
      }
    },
    {
      "cell_type": "markdown",
      "source": [
        "## Run the non-spiking network"
      ],
      "metadata": {}
    },
    {
      "cell_type": "code",
      "execution_count": 8,
      "source": [
        "def run_network(\r\n",
        "    activation,\r\n",
        "    params_file=\"equal_dnn_params\",\r\n",
        "    n_steps=30,\r\n",
        "    scale_firing_rates=1,\r\n",
        "    synapse=None,\r\n",
        "    n_test=400,\r\n",
        "):\r\n",
        "    # convert the keras model to a nengo network\r\n",
        "    nengo_converter = nengo_dl.Converter(\r\n",
        "        model,\r\n",
        "        swap_activations={tf.nn.relu: activation},\r\n",
        "        scale_firing_rates=scale_firing_rates,\r\n",
        "        synapse=synapse,\r\n",
        "    )\r\n",
        "\r\n",
        "    # get input/output objects\r\n",
        "    nengo_input = nengo_converter.inputs[inp]\r\n",
        "    nengo_output = nengo_converter.outputs[out]\r\n",
        "\r\n",
        "    # repeat inputs for some number of timesteps\r\n",
        "    tiled_test_images = np.tile(test_images[:n_test], (1, n_steps, 1))\r\n",
        "\r\n",
        "    # set some options to speed up simulation\r\n",
        "    with nengo_converter.net:\r\n",
        "        nengo_dl.configure_settings(stateful=False)\r\n",
        "\r\n",
        "    # build network, load in trained weights, run inference on test images\r\n",
        "    with nengo_dl.Simulator(\r\n",
        "        nengo_converter.net, minibatch_size=10, progress_bar=False\r\n",
        "    ) as nengo_sim:\r\n",
        "        nengo_sim.load_params(params_file)\r\n",
        "        data = nengo_sim.predict({nengo_input: tiled_test_images})\r\n",
        "\r\n",
        "    # compute accuracy on test data, using output of network on\r\n",
        "    # last timestep\r\n",
        "    predictions = np.argmax(data[nengo_output][:, -1], axis=-1)\r\n",
        "    accuracy = (predictions == test_labels[:n_test, 0, 0]).mean()\r\n",
        "    print(f\"    Test accuracy: {100 * accuracy:.2f}%\")\r\n",
        "\r\n",
        "    return accuracy"
      ],
      "outputs": [],
      "metadata": {
        "id": "QnjBzML95ewX"
      }
    },
    {
      "cell_type": "code",
      "execution_count": 9,
      "source": [
        "baseline_accuracy = run_network(activation=nengo.RectifiedLinear(), n_steps=10)"
      ],
      "outputs": [
        {
          "output_type": "stream",
          "name": "stdout",
          "text": [
            "    Test accuracy: 53.00%\n"
          ]
        }
      ],
      "metadata": {
        "id": "4vChmAYq5ewY"
      }
    },
    {
      "cell_type": "markdown",
      "source": [
        "## Apply synaptic smoothing and scale firing rates"
      ],
      "metadata": {}
    },
    {
      "cell_type": "code",
      "execution_count": 10,
      "source": [
        "# specify the size of the grid: (synapse, scale_firing_rates)\r\n",
        "grid_size = (5, 10)\r\n",
        "scaling_baseline = 1\r\n",
        "synapse_increment = 0.005\r\n",
        "\r\n",
        "synapse_values = [synapse_increment*x for x in range(grid_size[0])]\r\n",
        "scale_firing_rates_values = range(1, 81, 10)\r\n",
        "accuracy_grid = []\r\n",
        "\r\n",
        "for synapse in synapse_values:\r\n",
        "    print(f\"synapse={synapse:.3f}\")\r\n",
        "    accuracy_grid.append([])\r\n",
        "\r\n",
        "    for scale_firing_rates in scale_firing_rates_values:\r\n",
        "        print(f\"  scale_firing_rates={scale_firing_rates:.3f}\")\r\n",
        "        accuracy = run_network(\r\n",
        "            activation=nengo.SpikingRectifiedLinear(),\r\n",
        "            n_steps=60,\r\n",
        "            synapse=synapse,\r\n",
        "            scale_firing_rates=scale_firing_rates)         \r\n",
        "        accuracy_grid[-1].append(accuracy)"
      ],
      "outputs": [
        {
          "output_type": "stream",
          "name": "stdout",
          "text": [
            "synapse=0.000\n",
            "  scale_firing_rates=1.000\n",
            "    Test accuracy: 8.75%\n",
            "  scale_firing_rates=11.000\n",
            "    Test accuracy: 14.25%\n",
            "  scale_firing_rates=21.000\n",
            "    Test accuracy: 13.75%\n",
            "  scale_firing_rates=31.000\n",
            "    Test accuracy: 17.25%\n",
            "  scale_firing_rates=41.000\n",
            "    Test accuracy: 21.50%\n",
            "  scale_firing_rates=51.000\n",
            "    Test accuracy: 20.75%\n",
            "  scale_firing_rates=61.000\n",
            "    Test accuracy: 28.25%\n",
            "  scale_firing_rates=71.000\n",
            "    Test accuracy: 28.50%\n",
            "synapse=0.005\n",
            "  scale_firing_rates=1.000\n",
            "    Test accuracy: 7.50%\n",
            "  scale_firing_rates=11.000\n",
            "    Test accuracy: 33.75%\n",
            "  scale_firing_rates=21.000\n",
            "    Test accuracy: 40.75%\n",
            "  scale_firing_rates=31.000\n",
            "    Test accuracy: 46.00%\n",
            "  scale_firing_rates=41.000\n",
            "    Test accuracy: 45.50%\n",
            "  scale_firing_rates=51.000\n",
            "    Test accuracy: 45.50%\n",
            "  scale_firing_rates=61.000\n",
            "    Test accuracy: 46.25%\n",
            "  scale_firing_rates=71.000\n",
            "    Test accuracy: 46.50%\n",
            "synapse=0.010\n",
            "  scale_firing_rates=1.000\n",
            "    Test accuracy: 7.50%\n",
            "  scale_firing_rates=11.000\n",
            "    Test accuracy: 13.75%\n",
            "  scale_firing_rates=21.000\n",
            "    Test accuracy: 36.00%\n",
            "  scale_firing_rates=31.000\n",
            "    Test accuracy: 40.75%\n",
            "  scale_firing_rates=41.000\n",
            "    Test accuracy: 45.75%\n",
            "  scale_firing_rates=51.000\n",
            "    Test accuracy: 48.25%\n",
            "  scale_firing_rates=61.000\n",
            "    Test accuracy: 46.00%\n",
            "  scale_firing_rates=71.000\n",
            "    Test accuracy: 46.50%\n",
            "synapse=0.015\n",
            "  scale_firing_rates=1.000\n",
            "    Test accuracy: 7.50%\n",
            "  scale_firing_rates=11.000\n",
            "    Test accuracy: 7.50%\n",
            "  scale_firing_rates=21.000\n",
            "    Test accuracy: 16.50%\n",
            "  scale_firing_rates=31.000\n",
            "    Test accuracy: 30.25%\n",
            "  scale_firing_rates=41.000\n",
            "    Test accuracy: 39.50%\n",
            "  scale_firing_rates=51.000\n",
            "    Test accuracy: 43.50%\n",
            "  scale_firing_rates=61.000\n",
            "    Test accuracy: 48.75%\n",
            "  scale_firing_rates=71.000\n",
            "    Test accuracy: 48.25%\n",
            "synapse=0.020\n",
            "  scale_firing_rates=1.000\n",
            "    Test accuracy: 7.50%\n",
            "  scale_firing_rates=11.000\n",
            "    Test accuracy: 7.50%\n",
            "  scale_firing_rates=21.000\n",
            "    Test accuracy: 7.50%\n",
            "  scale_firing_rates=31.000\n",
            "    Test accuracy: 10.50%\n",
            "  scale_firing_rates=41.000\n",
            "    Test accuracy: 19.00%\n",
            "  scale_firing_rates=51.000\n",
            "    Test accuracy: 26.25%\n",
            "  scale_firing_rates=61.000\n",
            "    Test accuracy: 31.00%\n",
            "  scale_firing_rates=71.000\n",
            "    Test accuracy: 36.75%\n"
          ]
        }
      ],
      "metadata": {}
    },
    {
      "cell_type": "code",
      "execution_count": 16,
      "source": [
        "accuracy_grid = np.matrix(accuracy_grid)\r\n",
        "\r\n",
        "fig, ax = plt.subplots(1,1)\r\n",
        "\r\n",
        "plt.xlabel(\"scale_firing_rates\")\r\n",
        "plt.ylabel(\"synapse (s)\")\r\n",
        "plt.title(\"CIFAR-10 Test Acc. of SNN (DNN=53%)\")\r\n",
        "\r\n",
        "ax.set_xticklabels([1] + [1, 11, 21, 31, 41, 51, 61, 71])\r\n",
        "ax.set_yticklabels([0] + [synapse_increment*s for s in range(grid_size[0])])\r\n",
        "\r\n",
        "img = ax.imshow(accuracy_grid, origin='lower')\r\n",
        "fig.colorbar(img)\r\n",
        "plt.savefig(\"./images/reduced_dense_accuracy_grid\", dpi=400)"
      ],
      "outputs": [
        {
          "output_type": "display_data",
          "data": {
            "text/plain": [
              "<Figure size 432x288 with 2 Axes>"
            ],
            "image/png": "[encoded data removed]"
          },
          "metadata": {}
        }
      ],
      "metadata": {}
    }
  ],
  "metadata": {
    "colab": {
      "name": "keras-to-snn.ipynb",
      "provenance": []
    },
    "interpreter": {
      "hash": "26130839a7e87fd59e038942810dbb4909e5232b32b1ad521e6a6bc3043702c6"
    },
    "kernelspec": {
      "name": "python3",
      "display_name": "Python 3.6.5 64-bit ('base': conda)"
    },
    "language_info": {
      "codemirror_mode": {
        "name": "ipython",
        "version": 3
      },
      "file_extension": ".py",
      "mimetype": "text/x-python",
      "name": "python",
      "nbconvert_exporter": "python",
      "pygments_lexer": "ipython3",
      "version": "3.6.5"
    }
  },
  "nbformat": 4,
  "nbformat_minor": 2
}