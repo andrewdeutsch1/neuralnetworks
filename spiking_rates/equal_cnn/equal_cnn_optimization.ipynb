{
  "cells": [
    {
      "cell_type": "markdown",
      "source": [
        "# Testing the effects of synapse and scaling_firing_rates on the accuracy of a converted spiking convolutional network."
      ],
      "metadata": {
        "id": "dcnlPIjC5ewO"
      }
    },
    {
      "cell_type": "markdown",
      "source": [
        "## Initialize data"
      ],
      "metadata": {}
    },
    {
      "cell_type": "code",
      "execution_count": 2,
      "source": [
        "import matplotlib.pyplot as plt\r\n",
        "import nengo\r\n",
        "import numpy as np\r\n",
        "import tensorflow as tf\r\n",
        "import nengo_dl\r\n",
        "\r\n",
        "seed = 0\r\n",
        "np.random.seed(seed)\r\n",
        "tf.random.set_seed(seed)"
      ],
      "outputs": [],
      "metadata": {
        "id": "z0oTxL6w5ewR"
      }
    },
    {
      "cell_type": "code",
      "execution_count": 3,
      "source": [
        "tf.keras.backend.clear_session()"
      ],
      "outputs": [],
      "metadata": {}
    },
    {
      "cell_type": "code",
      "execution_count": 4,
      "source": [
        "# obtain images\r\n",
        "(train_images, train_labels), (test_images,test_labels) = tf.keras.datasets.cifar10.load_data()\r\n",
        "\r\n",
        "# normalize data by color channel\r\n",
        "def normalize(array):\r\n",
        "    return (array - np.mean(array)) / np.std(array)\r\n",
        "\r\n",
        "train_images_R = normalize(train_images.transpose()[0].transpose())\r\n",
        "train_images_G = normalize(train_images.transpose()[1].transpose())\r\n",
        "train_images_B = normalize(train_images.transpose()[2].transpose())\r\n",
        "test_images_R = normalize(test_images.transpose()[0].transpose())\r\n",
        "test_images_G = normalize(test_images.transpose()[1].transpose())\r\n",
        "test_images_B = normalize(test_images.transpose()[2].transpose())\r\n",
        "\r\n",
        "train_images = np.array([train_images_R, train_images_G, train_images_B])\r\n",
        "test_images = np.array([test_images_R, test_images_G, test_images_B])\r\n",
        "\r\n",
        "train_images = np.moveaxis(train_images, 0, -1)\r\n",
        "test_images = np.moveaxis(test_images, 0, -1)\r\n",
        "\r\n",
        "# verify normalization\r\n",
        "print((train_images.shape, train_labels.shape), (test_images.shape, test_labels.shape))\r\n",
        "print('test mean:', np.mean(train_images))\r\n",
        "print('test stdv:', np.std(train_images))\r\n",
        "print('train mean:', np.mean(test_images))\r\n",
        "print('train stdv:', np.std(test_images))"
      ],
      "outputs": [
        {
          "output_type": "stream",
          "name": "stdout",
          "text": [
            "((50000, 32, 32, 3), (50000, 1)) ((10000, 32, 32, 3), (10000, 1))\n",
            "test mean: 5.4830214442821065e-17\n",
            "test stdv: 1.0000000000000002\n",
            "train mean: 8.14903700074865e-18\n",
            "train stdv: 1.0000000000000002\n"
          ]
        }
      ],
      "metadata": {}
    },
    {
      "cell_type": "code",
      "execution_count": 5,
      "source": [
        "# flatten images and add time dimension\r\n",
        "train_images = train_images.reshape((train_images.shape[0], 1, -1))\r\n",
        "train_labels = train_labels.reshape((train_labels.shape[0], 1, -1))\r\n",
        "test_images = test_images.reshape((test_images.shape[0], 1, -1))\r\n",
        "test_labels = test_labels.reshape((test_labels.shape[0], 1, -1))\r\n",
        "\r\n",
        "print((train_images.shape, train_labels.shape), (test_images.shape, test_labels.shape))"
      ],
      "outputs": [
        {
          "output_type": "stream",
          "name": "stdout",
          "text": [
            "((50000, 1, 3072), (50000, 1, 1)) ((10000, 1, 3072), (10000, 1, 1))\n"
          ]
        }
      ],
      "metadata": {
        "id": "MYgW3rU55ewS"
      }
    },
    {
      "cell_type": "markdown",
      "source": [
        "## Build network and convert to nengo-dl"
      ],
      "metadata": {}
    },
    {
      "cell_type": "code",
      "execution_count": 6,
      "source": [
        "inp = tf.keras.Input(shape=(32, 32, 3))\r\n",
        "\r\n",
        "conv0 = tf.keras.layers.Conv2D(filters=32, kernel_size=2, activation=tf.nn.relu)(inp)\r\n",
        "\r\n",
        "pool0 = tf.keras.layers.AveragePooling2D(pool_size=(2,2))(skip0)\r\n",
        "\r\n",
        "conv1 = tf.keras.layers.Conv2D(filters=32, kernel_size=2, activation=tf.nn.relu)(pool0)\r\n",
        "pool1 = tf.keras.layers.AveragePooling2D(pool_size=(2,2))(conv1)\r\n",
        "\r\n",
        "conv2 = tf.keras.layers.Conv2D(filters=32, kernel_size=2, activation=tf.nn.relu)(pool1)\r\n",
        "pool2 = tf.keras.layers.AveragePooling2D(pool_size=(2,2))(conv2)\r\n",
        "\r\n",
        "flatten = tf.keras.layers.Flatten()(pool2)\r\n",
        "\r\n",
        "dense0 = tf.keras.layers.Dense(units=300, activation=tf.nn.relu)(flatten)\r\n",
        "out = tf.keras.layers.Dense(units=10)(dense0)\r\n",
        "\r\n",
        "model = tf.keras.Model(inputs=inp, outputs=out)"
      ],
      "outputs": [],
      "metadata": {
        "id": "JZ_bK1AB5ewU"
      }
    },
    {
      "cell_type": "code",
      "execution_count": 7,
      "source": [
        "converter = nengo_dl.Converter(model)"
      ],
      "outputs": [],
      "metadata": {
        "id": "seOy_LqT5ewV"
      }
    },
    {
      "cell_type": "markdown",
      "source": [
        "## Train the non-spiking network"
      ],
      "metadata": {}
    },
    {
      "cell_type": "code",
      "execution_count": 8,
      "source": [
        "with nengo_dl.Simulator(converter.net, minibatch_size=200) as sim:\r\n",
        "    \r\n",
        "    sim.compile(\r\n",
        "        optimizer=tf.optimizers.Adam(0.001),\r\n",
        "        loss=tf.losses.SparseCategoricalCrossentropy(from_logits=True),\r\n",
        "        metrics=[tf.metrics.sparse_categorical_accuracy]\r\n",
        "    )\r\n",
        "\r\n",
        "    sim.fit(\r\n",
        "        {converter.inputs[inp]: train_images},\r\n",
        "        {converter.outputs[out]: train_labels},\r\n",
        "        validation_data=({converter.inputs[inp]: test_images}, {converter.outputs[out]: test_labels}),\r\n",
        "        epochs=20\r\n",
        "    )\r\n",
        "\r\n",
        "    # save the parameters\r\n",
        "    sim.save_params(\"./equal_cnn_params\")"
      ],
      "outputs": [
        {
          "output_type": "stream",
          "name": "stdout",
          "text": [
            "Build finished in 0:00:00                                                      \n",
            "Optimization finished in 0:00:00                                               \n",
            "Construction finished in 0:00:00                                               \n",
            "Epoch 1/20\n",
            "250/250 [==============================] - 36s 78ms/step - loss: 1.8804 - probe_loss: 1.8804 - probe_sparse_categorical_accuracy: 0.3228 - val_loss: 1.3881 - val_probe_loss: 1.3881 - val_probe_sparse_categorical_accuracy: 0.4935\n",
            "Epoch 2/20\n",
            "250/250 [==============================] - 27s 108ms/step - loss: 1.3620 - probe_loss: 1.3620 - probe_sparse_categorical_accuracy: 0.5126 - val_loss: 1.2629 - val_probe_loss: 1.2629 - val_probe_sparse_categorical_accuracy: 0.5420\n",
            "Epoch 3/20\n",
            "250/250 [==============================] - 17s 66ms/step - loss: 1.2355 - probe_loss: 1.2355 - probe_sparse_categorical_accuracy: 0.5632 - val_loss: 1.1757 - val_probe_loss: 1.1757 - val_probe_sparse_categorical_accuracy: 0.5793\n",
            "Epoch 4/20\n",
            "250/250 [==============================] - 18s 72ms/step - loss: 1.1503 - probe_loss: 1.1503 - probe_sparse_categorical_accuracy: 0.5926 - val_loss: 1.1207 - val_probe_loss: 1.1207 - val_probe_sparse_categorical_accuracy: 0.5971\n",
            "Epoch 5/20\n",
            "250/250 [==============================] - 16s 66ms/step - loss: 1.0836 - probe_loss: 1.0836 - probe_sparse_categorical_accuracy: 0.6195 - val_loss: 1.0755 - val_probe_loss: 1.0755 - val_probe_sparse_categorical_accuracy: 0.6168\n",
            "Epoch 6/20\n",
            "250/250 [==============================] - 16s 65ms/step - loss: 1.0339 - probe_loss: 1.0339 - probe_sparse_categorical_accuracy: 0.6389 - val_loss: 1.0944 - val_probe_loss: 1.0944 - val_probe_sparse_categorical_accuracy: 0.6190\n",
            "Epoch 7/20\n",
            "250/250 [==============================] - 19s 76ms/step - loss: 0.9879 - probe_loss: 0.9879 - probe_sparse_categorical_accuracy: 0.6530 - val_loss: 1.0139 - val_probe_loss: 1.0139 - val_probe_sparse_categorical_accuracy: 0.6427\n",
            "Epoch 8/20\n",
            "250/250 [==============================] - 18s 74ms/step - loss: 0.9351 - probe_loss: 0.9351 - probe_sparse_categorical_accuracy: 0.6694 - val_loss: 0.9959 - val_probe_loss: 0.9959 - val_probe_sparse_categorical_accuracy: 0.6493\n",
            "Epoch 9/20\n",
            "250/250 [==============================] - 26s 105ms/step - loss: 0.8983 - probe_loss: 0.8983 - probe_sparse_categorical_accuracy: 0.6859 - val_loss: 0.9680 - val_probe_loss: 0.9680 - val_probe_sparse_categorical_accuracy: 0.6580\n",
            "Epoch 10/20\n",
            "250/250 [==============================] - 23s 92ms/step - loss: 0.8604 - probe_loss: 0.8604 - probe_sparse_categorical_accuracy: 0.6998 - val_loss: 0.9466 - val_probe_loss: 0.9466 - val_probe_sparse_categorical_accuracy: 0.6726\n",
            "Epoch 11/20\n",
            "250/250 [==============================] - 21s 83ms/step - loss: 0.8285 - probe_loss: 0.8285 - probe_sparse_categorical_accuracy: 0.7138 - val_loss: 0.9190 - val_probe_loss: 0.9190 - val_probe_sparse_categorical_accuracy: 0.6791\n",
            "Epoch 12/20\n",
            "250/250 [==============================] - 22s 86ms/step - loss: 0.7949 - probe_loss: 0.7949 - probe_sparse_categorical_accuracy: 0.7225 - val_loss: 0.9122 - val_probe_loss: 0.9122 - val_probe_sparse_categorical_accuracy: 0.6853\n",
            "Epoch 13/20\n",
            "250/250 [==============================] - 21s 84ms/step - loss: 0.7642 - probe_loss: 0.7642 - probe_sparse_categorical_accuracy: 0.7311 - val_loss: 0.8884 - val_probe_loss: 0.8884 - val_probe_sparse_categorical_accuracy: 0.6931\n",
            "Epoch 14/20\n",
            "250/250 [==============================] - 21s 86ms/step - loss: 0.7373 - probe_loss: 0.7373 - probe_sparse_categorical_accuracy: 0.7444 - val_loss: 0.8995 - val_probe_loss: 0.8995 - val_probe_sparse_categorical_accuracy: 0.6918\n",
            "Epoch 15/20\n",
            "250/250 [==============================] - 23s 92ms/step - loss: 0.7142 - probe_loss: 0.7142 - probe_sparse_categorical_accuracy: 0.7502 - val_loss: 0.9079 - val_probe_loss: 0.9079 - val_probe_sparse_categorical_accuracy: 0.6888\n",
            "Epoch 16/20\n",
            "250/250 [==============================] - 22s 88ms/step - loss: 0.6845 - probe_loss: 0.6845 - probe_sparse_categorical_accuracy: 0.7647 - val_loss: 0.9048 - val_probe_loss: 0.9048 - val_probe_sparse_categorical_accuracy: 0.6943\n",
            "Epoch 17/20\n",
            "250/250 [==============================] - 21s 85ms/step - loss: 0.6531 - probe_loss: 0.6531 - probe_sparse_categorical_accuracy: 0.7702 - val_loss: 0.8818 - val_probe_loss: 0.8818 - val_probe_sparse_categorical_accuracy: 0.6976\n",
            "Epoch 18/20\n",
            "250/250 [==============================] - 21s 85ms/step - loss: 0.6334 - probe_loss: 0.6334 - probe_sparse_categorical_accuracy: 0.7799 - val_loss: 0.8894 - val_probe_loss: 0.8894 - val_probe_sparse_categorical_accuracy: 0.6965\n",
            "Epoch 19/20\n",
            "250/250 [==============================] - 22s 89ms/step - loss: 0.6125 - probe_loss: 0.6125 - probe_sparse_categorical_accuracy: 0.7850 - val_loss: 0.8977 - val_probe_loss: 0.8977 - val_probe_sparse_categorical_accuracy: 0.6985\n",
            "Epoch 20/20\n",
            "250/250 [==============================] - 20s 79ms/step - loss: 0.5847 - probe_loss: 0.5847 - probe_sparse_categorical_accuracy: 0.7965 - val_loss: 0.8607 - val_probe_loss: 0.8607 - val_probe_sparse_categorical_accuracy: 0.7060\n"
          ]
        }
      ],
      "metadata": {
        "id": "Es3hg9Q15ewV"
      }
    },
    {
      "cell_type": "markdown",
      "source": [
        "## Run the non-spiking network"
      ],
      "metadata": {}
    },
    {
      "cell_type": "code",
      "execution_count": 9,
      "source": [
        "def run_network(\r\n",
        "    activation,\r\n",
        "    params_file=\"equal_cnn_params\",\r\n",
        "    n_steps=30,\r\n",
        "    scale_firing_rates=1,\r\n",
        "    synapse=None,\r\n",
        "    n_test=400,\r\n",
        "):\r\n",
        "    # convert the keras model to a nengo network\r\n",
        "    nengo_converter = nengo_dl.Converter(\r\n",
        "        model,\r\n",
        "        swap_activations={tf.nn.relu: activation},\r\n",
        "        scale_firing_rates=scale_firing_rates,\r\n",
        "        synapse=synapse,\r\n",
        "    )\r\n",
        "\r\n",
        "    # get input/output objects\r\n",
        "    nengo_input = nengo_converter.inputs[inp]\r\n",
        "    nengo_output = nengo_converter.outputs[out]\r\n",
        "\r\n",
        "    # repeat inputs for some number of timesteps\r\n",
        "    tiled_test_images = np.tile(test_images[:n_test], (1, n_steps, 1))\r\n",
        "\r\n",
        "    # set some options to speed up simulation\r\n",
        "    with nengo_converter.net:\r\n",
        "        nengo_dl.configure_settings(stateful=False)\r\n",
        "\r\n",
        "    # build network, load in trained weights, run inference on test images\r\n",
        "    with nengo_dl.Simulator(\r\n",
        "        nengo_converter.net, minibatch_size=10, progress_bar=False\r\n",
        "    ) as nengo_sim:\r\n",
        "        nengo_sim.load_params(params_file)\r\n",
        "        data = nengo_sim.predict({nengo_input: tiled_test_images})\r\n",
        "\r\n",
        "    # compute accuracy on test data, using output of network on\r\n",
        "    # last timestep\r\n",
        "    predictions = np.argmax(data[nengo_output][:, -1], axis=-1)\r\n",
        "    accuracy = (predictions == test_labels[:n_test, 0, 0]).mean()\r\n",
        "    print(f\"    Test accuracy: {100 * accuracy:.2f}%\")\r\n",
        "\r\n",
        "    return accuracy"
      ],
      "outputs": [],
      "metadata": {
        "id": "QnjBzML95ewX"
      }
    },
    {
      "cell_type": "code",
      "execution_count": 10,
      "source": [
        "baseline_accuracy = run_network(activation=nengo.RectifiedLinear(), n_steps=10)"
      ],
      "outputs": [
        {
          "output_type": "stream",
          "name": "stdout",
          "text": [
            "    Test accuracy: 73.25%\n"
          ]
        }
      ],
      "metadata": {
        "id": "4vChmAYq5ewY"
      }
    },
    {
      "cell_type": "markdown",
      "source": [
        "## Apply synaptic smoothing and scale firing rates"
      ],
      "metadata": {}
    },
    {
      "cell_type": "code",
      "execution_count": 11,
      "source": [
        "# specify the size of the grid: (synapse, scale_firing_rates)\r\n",
        "grid_size = (5, 10)\r\n",
        "scaling_baseline = 1\r\n",
        "synapse_increment = 0.005\r\n",
        "\r\n",
        "synapse_values = [synapse_increment*x for x in range(grid_size[0])]\r\n",
        "scale_firing_rates_values = range(20, 120, 10)\r\n",
        "accuracy_grid = []\r\n",
        "\r\n",
        "for synapse in synapse_values:\r\n",
        "    print(f\"synapse={synapse:.3f}\")\r\n",
        "    accuracy_grid.append([])\r\n",
        "\r\n",
        "    for scale_firing_rates in scale_firing_rates_values:\r\n",
        "        print(f\"  scale_firing_rates={scale_firing_rates:.3f}\")\r\n",
        "        accuracy = run_network(\r\n",
        "            activation=nengo.SpikingRectifiedLinear(),\r\n",
        "            n_steps=60,\r\n",
        "            synapse=synapse,\r\n",
        "            scale_firing_rates=scale_firing_rates)         \r\n",
        "        accuracy_grid[-1].append(accuracy)"
      ],
      "outputs": [
        {
          "output_type": "stream",
          "name": "stdout",
          "text": [
            "synapse=0.000\n",
            "  scale_firing_rates=20.000\n",
            "    Test accuracy: 11.00%\n",
            "  scale_firing_rates=30.000\n",
            "    Test accuracy: 12.25%\n",
            "  scale_firing_rates=40.000\n",
            "    Test accuracy: 11.00%\n",
            "  scale_firing_rates=50.000\n",
            "    Test accuracy: 11.25%\n",
            "  scale_firing_rates=60.000\n",
            "    Test accuracy: 15.25%\n",
            "  scale_firing_rates=70.000\n",
            "    Test accuracy: 14.00%\n",
            "  scale_firing_rates=80.000\n",
            "    Test accuracy: 11.75%\n",
            "  scale_firing_rates=90.000\n",
            "    Test accuracy: 15.00%\n",
            "  scale_firing_rates=100.000\n",
            "    Test accuracy: 16.00%\n",
            "  scale_firing_rates=110.000\n",
            "    Test accuracy: 14.25%\n",
            "synapse=0.005\n",
            "  scale_firing_rates=20.000\n",
            "    Test accuracy: 7.50%\n",
            "  scale_firing_rates=30.000\n",
            "    Test accuracy: 14.00%\n",
            "  scale_firing_rates=40.000\n",
            "    Test accuracy: 32.50%\n",
            "  scale_firing_rates=50.000\n",
            "    Test accuracy: 44.75%\n",
            "  scale_firing_rates=60.000\n",
            "    Test accuracy: 50.00%\n",
            "  scale_firing_rates=70.000\n",
            "    Test accuracy: 57.75%\n",
            "  scale_firing_rates=80.000\n",
            "    Test accuracy: 60.25%\n",
            "  scale_firing_rates=90.000\n",
            "    Test accuracy: 63.00%\n",
            "  scale_firing_rates=100.000\n",
            "    Test accuracy: 65.00%\n",
            "  scale_firing_rates=110.000\n",
            "    Test accuracy: 67.25%\n",
            "synapse=0.010\n",
            "  scale_firing_rates=20.000\n",
            "    Test accuracy: 7.50%\n",
            "  scale_firing_rates=30.000\n",
            "    Test accuracy: 8.00%\n",
            "  scale_firing_rates=40.000\n",
            "    Test accuracy: 12.00%\n",
            "  scale_firing_rates=50.000\n",
            "    Test accuracy: 30.00%\n",
            "  scale_firing_rates=60.000\n",
            "    Test accuracy: 42.25%\n",
            "  scale_firing_rates=70.000\n",
            "    Test accuracy: 54.25%\n",
            "  scale_firing_rates=80.000\n",
            "    Test accuracy: 59.25%\n",
            "  scale_firing_rates=90.000\n",
            "    Test accuracy: 61.00%\n",
            "  scale_firing_rates=100.000\n",
            "    Test accuracy: 63.75%\n",
            "  scale_firing_rates=110.000\n",
            "    Test accuracy: 66.50%\n",
            "synapse=0.015\n",
            "  scale_firing_rates=20.000\n",
            "    Test accuracy: 7.50%\n",
            "  scale_firing_rates=30.000\n",
            "    Test accuracy: 7.50%\n",
            "  scale_firing_rates=40.000\n",
            "    Test accuracy: 8.00%\n",
            "  scale_firing_rates=50.000\n",
            "    Test accuracy: 11.75%\n",
            "  scale_firing_rates=60.000\n",
            "    Test accuracy: 22.00%\n",
            "  scale_firing_rates=70.000\n",
            "    Test accuracy: 35.00%\n",
            "  scale_firing_rates=80.000\n",
            "    Test accuracy: 46.00%\n",
            "  scale_firing_rates=90.000\n",
            "    Test accuracy: 50.25%\n",
            "  scale_firing_rates=100.000\n",
            "    Test accuracy: 56.75%\n",
            "  scale_firing_rates=110.000\n",
            "    Test accuracy: 57.75%\n",
            "synapse=0.020\n",
            "  scale_firing_rates=20.000\n",
            "    Test accuracy: 7.50%\n",
            "  scale_firing_rates=30.000\n",
            "    Test accuracy: 7.50%\n",
            "  scale_firing_rates=40.000\n",
            "    Test accuracy: 7.50%\n",
            "  scale_firing_rates=50.000\n",
            "    Test accuracy: 7.50%\n",
            "  scale_firing_rates=60.000\n",
            "    Test accuracy: 10.25%\n",
            "  scale_firing_rates=70.000\n",
            "    Test accuracy: 16.25%\n",
            "  scale_firing_rates=80.000\n",
            "    Test accuracy: 25.75%\n",
            "  scale_firing_rates=90.000\n",
            "    Test accuracy: 36.50%\n",
            "  scale_firing_rates=100.000\n",
            "    Test accuracy: 44.75%\n",
            "  scale_firing_rates=110.000\n",
            "    Test accuracy: 43.75%\n"
          ]
        }
      ],
      "metadata": {}
    },
    {
      "cell_type": "code",
      "execution_count": 13,
      "source": [
        "accuracy_grid = np.matrix(accuracy_grid)\r\n",
        "\r\n",
        "fig, ax = plt.subplots(1,1)\r\n",
        "\r\n",
        "plt.xlabel(\"scale_firing_rates\")\r\n",
        "plt.ylabel(\"synapse (s)\")\r\n",
        "plt.title(\"CIFAR-10 Test Acc. of SNN (CNN=73.25%)\")\r\n",
        "\r\n",
        "ax.set_xticklabels([20, 20, 40, 60, 80, 100, 120])\r\n",
        "ax.set_yticklabels([0, 0, 0.005, 0.010, 0.015, 0.020])\r\n",
        "\r\n",
        "img = ax.imshow(accuracy_grid, origin='lower')\r\n",
        "fig.colorbar(img)\r\n",
        "plt.savefig(\"./images/egalitarian_conv_accuracy_grid\", dpi=400)"
      ],
      "outputs": [
        {
          "output_type": "display_data",
          "data": {
            "text/plain": [
              "<Figure size 432x288 with 2 Axes>"
            ],
            "image/png": "[encoded data removed]"
          },
          "metadata": {}
        }
      ],
      "metadata": {}
    }
  ],
  "metadata": {
    "colab": {
      "name": "keras-to-snn.ipynb",
      "provenance": []
    },
    "interpreter": {
      "hash": "26130839a7e87fd59e038942810dbb4909e5232b32b1ad521e6a6bc3043702c6"
    },
    "kernelspec": {
      "name": "python3",
      "display_name": "Python 3.6.5 64-bit ('base': conda)"
    },
    "language_info": {
      "codemirror_mode": {
        "name": "ipython",
        "version": 3
      },
      "file_extension": ".py",
      "mimetype": "text/x-python",
      "name": "python",
      "nbconvert_exporter": "python",
      "pygments_lexer": "ipython3",
      "version": "3.6.5"
    }
  },
  "nbformat": 4,
  "nbformat_minor": 2
}