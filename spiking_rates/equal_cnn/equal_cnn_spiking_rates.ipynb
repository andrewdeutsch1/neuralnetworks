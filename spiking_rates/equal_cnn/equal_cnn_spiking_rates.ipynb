{
  "cells": [
    {
      "cell_type": "markdown",
      "source": [
        "# Spiking Rates for a model with 5 dense layers of equal neurons"
      ],
      "metadata": {
        "id": "dcnlPIjC5ewO"
      }
    },
    {
      "cell_type": "markdown",
      "source": [
        "## Initialize data"
      ],
      "metadata": {}
    },
    {
      "cell_type": "code",
      "execution_count": 1,
      "source": [
        "import matplotlib.pyplot as plt\r\n",
        "import nengo\r\n",
        "import numpy as np\r\n",
        "import tensorflow as tf\r\n",
        "import nengo_dl\r\n",
        "import copy\r\n",
        "\r\n",
        "seed = 0\r\n",
        "np.random.seed(seed)\r\n",
        "tf.random.set_seed(seed)"
      ],
      "outputs": [],
      "metadata": {
        "id": "z0oTxL6w5ewR"
      }
    },
    {
      "cell_type": "code",
      "execution_count": 2,
      "source": [
        "# obtain images\r\n",
        "(train_images, train_labels), (test_images,test_labels) = tf.keras.datasets.cifar10.load_data()\r\n",
        "\r\n",
        "# normalize data by color channel\r\n",
        "def normalize(array):\r\n",
        "    return (array - np.mean(array)) / np.std(array)\r\n",
        "\r\n",
        "train_images_R = normalize(train_images.transpose()[0].transpose())\r\n",
        "train_images_G = normalize(train_images.transpose()[1].transpose())\r\n",
        "train_images_B = normalize(train_images.transpose()[2].transpose())\r\n",
        "test_images_R = normalize(test_images.transpose()[0].transpose())\r\n",
        "test_images_G = normalize(test_images.transpose()[1].transpose())\r\n",
        "test_images_B = normalize(test_images.transpose()[2].transpose())\r\n",
        "\r\n",
        "train_images = np.array([train_images_R, train_images_G, train_images_B])\r\n",
        "test_images = np.array([test_images_R, test_images_G, test_images_B])\r\n",
        "\r\n",
        "train_images = np.moveaxis(train_images, 0, -1)\r\n",
        "test_images = np.moveaxis(test_images, 0, -1)\r\n",
        "\r\n",
        "# verify normalization\r\n",
        "print((train_images.shape, train_labels.shape), (test_images.shape, test_labels.shape))\r\n",
        "print('test mean:', np.mean(train_images))\r\n",
        "print('test stdv:', np.std(train_images))\r\n",
        "print('train mean:', np.mean(test_images))\r\n",
        "print('train stdv:', np.std(test_images))"
      ],
      "outputs": [
        {
          "output_type": "stream",
          "name": "stdout",
          "text": [
            "((50000, 32, 32, 3), (50000, 1)) ((10000, 32, 32, 3), (10000, 1))\n",
            "test mean: 5.4830214442821065e-17\n",
            "test stdv: 1.0000000000000002\n",
            "train mean: 8.14903700074865e-18\n",
            "train stdv: 1.0000000000000002\n"
          ]
        }
      ],
      "metadata": {}
    },
    {
      "cell_type": "code",
      "execution_count": 3,
      "source": [
        "# flatten images and add time dimension\r\n",
        "train_images = train_images.reshape((train_images.shape[0], 1, -1))\r\n",
        "train_labels = train_labels.reshape((train_labels.shape[0], 1, -1))\r\n",
        "test_images = test_images.reshape((test_images.shape[0], 1, -1))\r\n",
        "test_labels = test_labels.reshape((test_labels.shape[0], 1, -1))\r\n",
        "\r\n",
        "print((train_images.shape, train_labels.shape), (test_images.shape, test_labels.shape))"
      ],
      "outputs": [
        {
          "output_type": "stream",
          "name": "stdout",
          "text": [
            "((50000, 1, 3072), (50000, 1, 1)) ((10000, 1, 3072), (10000, 1, 1))\n"
          ]
        }
      ],
      "metadata": {
        "id": "MYgW3rU55ewS"
      }
    },
    {
      "cell_type": "markdown",
      "source": [
        "## Build network and convert to nengo-dl"
      ],
      "metadata": {}
    },
    {
      "cell_type": "code",
      "execution_count": 4,
      "source": [
        "inp = tf.keras.Input(shape=(32, 32, 3))\r\n",
        "\r\n",
        "conv0 = tf.keras.layers.Conv2D(filters=32, kernel_size=2, activation=tf.nn.relu)(inp)\r\n",
        "pool0 = tf.keras.layers.AveragePooling2D(pool_size=(2,2))(conv0)\r\n",
        "\r\n",
        "conv1 = tf.keras.layers.Conv2D(filters=32, kernel_size=2, activation=tf.nn.relu)(pool0)\r\n",
        "pool1 = tf.keras.layers.AveragePooling2D(pool_size=(2,2))(conv1)\r\n",
        "\r\n",
        "conv2 = tf.keras.layers.Conv2D(filters=32, kernel_size=2, activation=tf.nn.relu)(pool1)\r\n",
        "pool2 = tf.keras.layers.AveragePooling2D(pool_size=(2,2))(conv2)\r\n",
        "\r\n",
        "flatten = tf.keras.layers.Flatten()(pool2)\r\n",
        "\r\n",
        "dense0 = tf.keras.layers.Dense(units=300, activation=tf.nn.relu)(flatten)\r\n",
        "out = tf.keras.layers.Dense(units=10)(dense0)\r\n",
        "\r\n",
        "model = tf.keras.Model(inputs=inp, outputs=out)"
      ],
      "outputs": [],
      "metadata": {
        "id": "JZ_bK1AB5ewU"
      }
    },
    {
      "cell_type": "code",
      "execution_count": 5,
      "source": [
        "converter = nengo_dl.Converter(model)"
      ],
      "outputs": [],
      "metadata": {
        "id": "seOy_LqT5ewV"
      }
    },
    {
      "cell_type": "markdown",
      "source": [
        "## Train the non-spiking network"
      ],
      "metadata": {}
    },
    {
      "cell_type": "code",
      "execution_count": 61,
      "source": [
        "with nengo_dl.Simulator(converter.net, minibatch_size=200) as sim:\r\n",
        "    \r\n",
        "    sim.compile(\r\n",
        "        optimizer=tf.optimizers.Adam(0.001),\r\n",
        "        loss=tf.losses.SparseCategoricalCrossentropy(from_logits=True),\r\n",
        "        metrics=[tf.metrics.sparse_categorical_accuracy]\r\n",
        "    )\r\n",
        "\r\n",
        "    sim.fit(\r\n",
        "        {converter.inputs[inp]: train_images},\r\n",
        "        {converter.outputs[out]: train_labels},\r\n",
        "        validation_data=({converter.inputs[inp]: test_images}, {converter.outputs[out]: test_labels}),\r\n",
        "        epochs=20\r\n",
        "    )\r\n",
        "\r\n",
        "    # save the parameters\r\n",
        "    sim.save_params(\"./equal_cnn_params\")"
      ],
      "outputs": [
        {
          "output_type": "stream",
          "name": "stdout",
          "text": [
            "Build finished in 0:00:00                                                      \n",
            "Optimization finished in 0:00:00                                               \n",
            "Construction finished in 0:00:00                                               \n",
            "Epoch 1/20\n",
            "250/250 [==============================] - 39s 79ms/step - loss: 1.8004 - probe_loss: 1.8004 - probe_sparse_categorical_accuracy: 0.3441 - val_loss: 1.3571 - val_probe_loss: 1.3571 - val_probe_sparse_categorical_accuracy: 0.5067\n",
            "Epoch 2/20\n",
            "250/250 [==============================] - 19s 76ms/step - loss: 1.3209 - probe_loss: 1.3209 - probe_sparse_categorical_accuracy: 0.5270 - val_loss: 1.2044 - val_probe_loss: 1.2044 - val_probe_sparse_categorical_accuracy: 0.5704\n",
            "Epoch 3/20\n",
            "250/250 [==============================] - 22s 86ms/step - loss: 1.1490 - probe_loss: 1.1490 - probe_sparse_categorical_accuracy: 0.5938 - val_loss: 1.0642 - val_probe_loss: 1.0642 - val_probe_sparse_categorical_accuracy: 0.6231\n",
            "Epoch 4/20\n",
            "250/250 [==============================] - 19s 75ms/step - loss: 1.0186 - probe_loss: 1.0186 - probe_sparse_categorical_accuracy: 0.6429 - val_loss: 0.9830 - val_probe_loss: 0.9830 - val_probe_sparse_categorical_accuracy: 0.6544\n",
            "Epoch 5/20\n",
            "250/250 [==============================] - 20s 80ms/step - loss: 0.9409 - probe_loss: 0.9409 - probe_sparse_categorical_accuracy: 0.6722 - val_loss: 0.9459 - val_probe_loss: 0.9459 - val_probe_sparse_categorical_accuracy: 0.6681\n",
            "Epoch 6/20\n",
            "250/250 [==============================] - 22s 87ms/step - loss: 0.8663 - probe_loss: 0.8663 - probe_sparse_categorical_accuracy: 0.6979 - val_loss: 0.8864 - val_probe_loss: 0.8864 - val_probe_sparse_categorical_accuracy: 0.6923\n",
            "Epoch 7/20\n",
            "250/250 [==============================] - 24s 96ms/step - loss: 0.8032 - probe_loss: 0.8032 - probe_sparse_categorical_accuracy: 0.7195 - val_loss: 0.8820 - val_probe_loss: 0.8820 - val_probe_sparse_categorical_accuracy: 0.6913\n",
            "Epoch 8/20\n",
            "250/250 [==============================] - 20s 82ms/step - loss: 0.7484 - probe_loss: 0.7484 - probe_sparse_categorical_accuracy: 0.7363 - val_loss: 0.8132 - val_probe_loss: 0.8132 - val_probe_sparse_categorical_accuracy: 0.7180\n",
            "Epoch 9/20\n",
            "250/250 [==============================] - 24s 94ms/step - loss: 0.6910 - probe_loss: 0.6910 - probe_sparse_categorical_accuracy: 0.7582 - val_loss: 0.7992 - val_probe_loss: 0.7992 - val_probe_sparse_categorical_accuracy: 0.7201\n",
            "Epoch 10/20\n",
            "250/250 [==============================] - 28s 112ms/step - loss: 0.6388 - probe_loss: 0.6388 - probe_sparse_categorical_accuracy: 0.7781 - val_loss: 0.7950 - val_probe_loss: 0.7950 - val_probe_sparse_categorical_accuracy: 0.7285\n",
            "Epoch 11/20\n",
            "250/250 [==============================] - 24s 98ms/step - loss: 0.5960 - probe_loss: 0.5960 - probe_sparse_categorical_accuracy: 0.7939 - val_loss: 0.7759 - val_probe_loss: 0.7759 - val_probe_sparse_categorical_accuracy: 0.7344\n",
            "Epoch 12/20\n",
            "250/250 [==============================] - 25s 99ms/step - loss: 0.5585 - probe_loss: 0.5585 - probe_sparse_categorical_accuracy: 0.8048 - val_loss: 0.8084 - val_probe_loss: 0.8084 - val_probe_sparse_categorical_accuracy: 0.7223\n",
            "Epoch 13/20\n",
            "250/250 [==============================] - 24s 97ms/step - loss: 0.5275 - probe_loss: 0.5275 - probe_sparse_categorical_accuracy: 0.8164 - val_loss: 0.7732 - val_probe_loss: 0.7732 - val_probe_sparse_categorical_accuracy: 0.7406\n",
            "Epoch 14/20\n",
            "250/250 [==============================] - 26s 105ms/step - loss: 0.4718 - probe_loss: 0.4718 - probe_sparse_categorical_accuracy: 0.8346 - val_loss: 0.7909 - val_probe_loss: 0.7909 - val_probe_sparse_categorical_accuracy: 0.7407\n",
            "Epoch 15/20\n",
            "250/250 [==============================] - 28s 112ms/step - loss: 0.4564 - probe_loss: 0.4564 - probe_sparse_categorical_accuracy: 0.8399 - val_loss: 0.7959 - val_probe_loss: 0.7959 - val_probe_sparse_categorical_accuracy: 0.7442\n",
            "Epoch 16/20\n",
            "250/250 [==============================] - 26s 102ms/step - loss: 0.4209 - probe_loss: 0.4209 - probe_sparse_categorical_accuracy: 0.8540 - val_loss: 0.7752 - val_probe_loss: 0.7752 - val_probe_sparse_categorical_accuracy: 0.7504\n",
            "Epoch 17/20\n",
            "250/250 [==============================] - 30s 121ms/step - loss: 0.3794 - probe_loss: 0.3794 - probe_sparse_categorical_accuracy: 0.8679 - val_loss: 0.8021 - val_probe_loss: 0.8021 - val_probe_sparse_categorical_accuracy: 0.7427\n",
            "Epoch 18/20\n",
            "250/250 [==============================] - 26s 105ms/step - loss: 0.3559 - probe_loss: 0.3559 - probe_sparse_categorical_accuracy: 0.8786 - val_loss: 0.8229 - val_probe_loss: 0.8229 - val_probe_sparse_categorical_accuracy: 0.7536\n",
            "Epoch 19/20\n",
            "250/250 [==============================] - 35s 141ms/step - loss: 0.3092 - probe_loss: 0.3092 - probe_sparse_categorical_accuracy: 0.8959 - val_loss: 0.8490 - val_probe_loss: 0.8490 - val_probe_sparse_categorical_accuracy: 0.7519\n",
            "Epoch 20/20\n",
            "250/250 [==============================] - 28s 113ms/step - loss: 0.2945 - probe_loss: 0.2945 - probe_sparse_categorical_accuracy: 0.8963 - val_loss: 0.8382 - val_probe_loss: 0.8382 - val_probe_sparse_categorical_accuracy: 0.7542\n"
          ]
        }
      ],
      "metadata": {
        "id": "Es3hg9Q15ewV"
      }
    },
    {
      "cell_type": "markdown",
      "source": [
        "## Run the non-spiking network"
      ],
      "metadata": {}
    },
    {
      "cell_type": "code",
      "execution_count": 6,
      "source": [
        "probed_layers = [conv0, conv1, conv2, dense0]\r\n",
        "\r\n",
        "probed_layer_to_model_layer_dict = {\r\n",
        "    inp.ref(): model.layers[0],\r\n",
        "    conv0.ref(): model.layers[1],\r\n",
        "    conv1.ref(): model.layers[3],\r\n",
        "    conv2.ref(): model.layers[5],\r\n",
        "    dense0.ref(): model.layers[8],\r\n",
        "    out.ref(): model.layers[-1],\r\n",
        "}"
      ],
      "outputs": [],
      "metadata": {}
    },
    {
      "cell_type": "code",
      "execution_count": 7,
      "source": [
        "def run_network(\r\n",
        "    activation,\r\n",
        "    params_file=\"equal_cnn_params\",\r\n",
        "    n_steps=30,\r\n",
        "    scale_firing_rates=1,\r\n",
        "    synapse=None,\r\n",
        "    n_test=400,\r\n",
        "    n_images_for_rates=1,\r\n",
        "    n_sample_neurons=100,\r\n",
        "):\r\n",
        "    # convert the keras model to a nengo network\r\n",
        "    nengo_converter = nengo_dl.Converter(\r\n",
        "        model,\r\n",
        "        swap_activations={tf.nn.relu: activation},\r\n",
        "        scale_firing_rates=scale_firing_rates,\r\n",
        "        synapse=synapse,\r\n",
        "    )\r\n",
        "\r\n",
        "    # get input/output objects\r\n",
        "    nengo_input = nengo_converter.inputs[inp]\r\n",
        "    nengo_output = nengo_converter.outputs[out]\r\n",
        "\r\n",
        "    # add a probe to the first convolutional layer to record activity.\r\n",
        "    # we'll only record from a subset of neurons, to save memory.\r\n",
        "    sample_neurons = np.array([\r\n",
        "        np.linspace(0, np.prod(layer.shape[1:]), n_sample_neurons, endpoint=False, dtype=np.int32) for layer in probed_layers\r\n",
        "    ])\r\n",
        "\r\n",
        "    # set probes\r\n",
        "    with nengo_converter.net:\r\n",
        "        probes = np.array([\r\n",
        "            nengo.Probe(nengo_converter.layers[probed_layers[l]][sample_neurons[l]]) for l in range(len(probed_layers))\r\n",
        "        ])\r\n",
        "\r\n",
        "    probe_to_model_layer_dict = { probes[l]: probed_layer_to_model_layer_dict[probed_layers[l].ref()] for l in range(len(probed_layers)) }\r\n",
        "\r\n",
        "    # repeat inputs for some number of timesteps\r\n",
        "    tiled_test_images = np.tile(test_images[:n_test], (1, n_steps, 1))\r\n",
        "\r\n",
        "    # set some options to speed up simulation\r\n",
        "    with nengo_converter.net:\r\n",
        "        nengo_dl.configure_settings(stateful=False)\r\n",
        "\r\n",
        "    # build network, load in trained weights, run inference on test images\r\n",
        "    with nengo_dl.Simulator(nengo_converter.net, minibatch_size=200, progress_bar=False) as nengo_sim:\r\n",
        "        nengo_sim.load_params(params_file)\r\n",
        "        data = nengo_sim.predict({nengo_input: tiled_test_images})\r\n",
        "\r\n",
        "    # compute accuracy on test data, using output of network on\r\n",
        "    # last timestep\r\n",
        "    predictions = np.argmax(data[nengo_output][:, -1], axis=-1)\r\n",
        "    accuracy = (predictions == test_labels[:n_test, 0, 0]).mean()\r\n",
        "    print(f\" test accuracy: {100 * accuracy:.2f}%\")\r\n",
        "\r\n",
        "    rates_for_images = []\r\n",
        "    for image in range(n_images_for_rates):\r\n",
        "        if isinstance(scale_firing_rates, dict):\r\n",
        "            scaled_data = np.array([\r\n",
        "                data[probe][image] * scale_firing_rates[probe_to_model_layer_dict[probe]] for probe in probes\r\n",
        "            ])\r\n",
        "        else:\r\n",
        "            scaled_data = np.array([\r\n",
        "                data[probe][image] * scale_firing_rates for probe in probes\r\n",
        "            ])\r\n",
        "                \r\n",
        "        if isinstance(activation, nengo.SpikingRectifiedLinear) or isinstance(activation, nengo.LIF):\r\n",
        "            scaled_data /= n_sample_neurons\r\n",
        "            layer_rates = np.array([\r\n",
        "                np.sum(scaled_data[i], axis=0) / (n_steps * nengo_sim.dt) for i in range(len(scaled_data))\r\n",
        "            ])\r\n",
        "        else:\r\n",
        "            layer_rates = scaled_data\r\n",
        "\r\n",
        "        rates_for_images.append(layer_rates)\r\n",
        "       \r\n",
        "    avg_layer_rates = np.mean(np.array(rates_for_images), axis=0)\r\n",
        "\r\n",
        "    return (accuracy, avg_layer_rates)"
      ],
      "outputs": [],
      "metadata": {
        "id": "QnjBzML95ewX"
      }
    },
    {
      "cell_type": "code",
      "execution_count": 8,
      "source": [
        "baseline_accuracy, baseline_rates = run_network(activation=nengo.RectifiedLinear(), n_steps=10)"
      ],
      "outputs": [
        {
          "output_type": "stream",
          "name": "stdout",
          "text": [
            " test accuracy: 73.25%\n"
          ]
        }
      ],
      "metadata": {
        "id": "4vChmAYq5ewY"
      }
    },
    {
      "cell_type": "code",
      "execution_count": 11,
      "source": [
        "n_steps=60\r\n",
        "synapse=0.005\r\n",
        "scale_firing_rates=200\r\n",
        "n_images_for_rates=100\r\n",
        "n_sample_neurons=100\r\n",
        "\r\n",
        "spiking_accuracy, spiking_rates = run_network(\r\n",
        "        activation=nengo.SpikingRectifiedLinear(), \r\n",
        "        n_steps=n_steps, \r\n",
        "        synapse=synapse, \r\n",
        "        scale_firing_rates=scale_firing_rates,\r\n",
        "        n_images_for_rates=n_images_for_rates,\r\n",
        "        n_sample_neurons=n_sample_neurons,\r\n",
        "    )"
      ],
      "outputs": [
        {
          "output_type": "stream",
          "name": "stdout",
          "text": [
            " test accuracy: 71.25%\n"
          ]
        }
      ],
      "metadata": {}
    },
    {
      "cell_type": "code",
      "execution_count": 18,
      "source": [
        "# create plots of layer rates\r\n",
        "import seaborn as sns\r\n",
        "sns.set_style(\"white\")\r\n",
        "for l in range(len(spiking_rates)):\r\n",
        "    rate_data = spiking_rates[l]\r\n",
        "\r\n",
        "    plt.xlabel(\"Firing Rate (Hz)\")\r\n",
        "    plt.ylabel(\"Relative Neuron Count\")\r\n",
        "    plt.title(\"Firing Rate Distribution in SNN\"+str(l)+\" (Acc.=\" + str(spiking_accuracy) + \")\\n(synapse=\"+str(synapse)+\", scale_firing_rates=\"+str(scale_firing_rates)+\", CNN=\"+str(baseline_accuracy)+\")\")\r\n",
        "    labels = ['conv0', 'conv1', 'conv2', 'dense0']\r\n",
        "\r\n",
        "    kwargs = dict(hist_kws={'alpha':.5}, kde_kws={'linewidth':2})\r\n",
        "    \r\n",
        "    # for l in rate_data:\r\n",
        "    s = sns.distplot(rate_data, bins=20, label=labels[l], norm_hist=False, **kwargs) # color=sns.color_palette()[l]\r\n",
        "    s.legend()\r\n",
        "    plt.savefig(\"./images/layer_\"+str(l)+\"_bar_spiking_rates_\"+str(n_images_for_rates)+\"im_\"+str(synapse)[2:]+\"_\"+str(scale_firing_rates)+\"_neurons=\"+str(n_sample_neurons), dpi=300)\r\n",
        "    # plt.close()"
      ],
      "outputs": [
        {
          "output_type": "stream",
          "name": "stderr",
          "text": [
            "C:\\Users\\andre\\Anaconda3\\lib\\site-packages\\matplotlib\\axes\\_axes.py:6462: UserWarning: The 'normed' kwarg is deprecated, and has been replaced by the 'density' kwarg.\n",
            "  warnings.warn(\"The 'normed' kwarg is deprecated, and has been \"\n",
            "C:\\Users\\andre\\Anaconda3\\lib\\site-packages\\matplotlib\\axes\\_axes.py:6462: UserWarning: The 'normed' kwarg is deprecated, and has been replaced by the 'density' kwarg.\n",
            "  warnings.warn(\"The 'normed' kwarg is deprecated, and has been \"\n",
            "C:\\Users\\andre\\Anaconda3\\lib\\site-packages\\matplotlib\\axes\\_axes.py:6462: UserWarning: The 'normed' kwarg is deprecated, and has been replaced by the 'density' kwarg.\n",
            "  warnings.warn(\"The 'normed' kwarg is deprecated, and has been \"\n",
            "C:\\Users\\andre\\Anaconda3\\lib\\site-packages\\matplotlib\\axes\\_axes.py:6462: UserWarning: The 'normed' kwarg is deprecated, and has been replaced by the 'density' kwarg.\n",
            "  warnings.warn(\"The 'normed' kwarg is deprecated, and has been \"\n"
          ]
        },
        {
          "output_type": "display_data",
          "data": {
            "text/plain": [
              "<Figure size 432x288 with 1 Axes>"
            ],
            "image/png": "[encoded data removed]"
          },
          "metadata": {}
        }
      ],
      "metadata": {}
    },
    {
      "cell_type": "code",
      "execution_count": 29,
      "source": [
        "# create plots of layer rates\r\n",
        "rate_data = spiking_rates.swapaxes(0, 1)\r\n",
        "\r\n",
        "plt.xlabel(\"layer\")\r\n",
        "plt.ylabel(\"firing rate (Hz)\")\r\n",
        "plt.title(\"Firing Rate Statistics by Layer of SNN (Acc.=\" + str(spiking_accuracy) + \")\\n(synapse=\"+str(synapse)+\", scale_firing_rates=\"+str(scale_firing_rates)+\", CNN=\"+str(baseline_accuracy)+\")\")\r\n",
        "\r\n",
        "labels = ['conv0', 'conv1', 'conv2', 'dense0']\r\n",
        "plt.boxplot(rate_data, labels=labels, showfliers=True)\r\n",
        "plt.savefig(\"./images/spiking_rates_\"+str(n_images_for_rates)+\"im_\"+str(synapse)[2:]+\"_\"+str(scale_firing_rates)+\"_neurons=\"+str(n_sample_neurons), dpi=400)"
      ],
      "outputs": [
        {
          "output_type": "display_data",
          "data": {
            "text/plain": [
              "<Figure size 432x288 with 1 Axes>"
            ],
            "image/png": "[encoded data removed]"
          },
          "metadata": {}
        }
      ],
      "metadata": {}
    },
    {
      "cell_type": "markdown",
      "source": [
        "## Scale the firing rates for each layer at a time"
      ],
      "metadata": {}
    },
    {
      "cell_type": "code",
      "execution_count": null,
      "source": [
        "synapse = 0.005\r\n",
        "base_scale_firing_rates = 50\r\n",
        "special_scale_firing_rates = 200\r\n",
        "accuracy_and_rates = []\r\n",
        "\r\n",
        "accuracy_and_rates.append(\r\n",
        "    run_network(\r\n",
        "        activation=nengo.SpikingRectifiedLinear(),\r\n",
        "        n_steps=60,\r\n",
        "        synapse=synapse,\r\n",
        "        scale_firing_rates=special_scale_firing_rates,\r\n",
        "    )\r\n",
        ")\r\n",
        "\r\n",
        "accuracy_and_rates.append(\r\n",
        "    run_network(\r\n",
        "        activation=nengo.SpikingRectifiedLinear(),\r\n",
        "        n_steps=60,\r\n",
        "        synapse=synapse,\r\n",
        "        scale_firing_rates=base_scale_firing_rates,\r\n",
        "    )\r\n",
        ")\r\n",
        "\r\n",
        "scale_firing_rates = {layer:base_scale_firing_rates for layer in model.layers}\r\n",
        "\r\n",
        "for l in [1, 3, 5, 8]:\r\n",
        "    scale_firing_rates[model.layers[l]] = special_scale_firing_rates\r\n",
        "\r\n",
        "    print(\"Scaled layer: \" + model.layers[l]._name)\r\n",
        "    accuracy_and_rates.append(\r\n",
        "        run_network(\r\n",
        "            activation=nengo.SpikingRectifiedLinear(),\r\n",
        "            n_steps=60,\r\n",
        "            synapse=synapse,\r\n",
        "            scale_firing_rates=scale_firing_rates,\r\n",
        "        )\r\n",
        "    )\r\n",
        "    scale_firing_rates[model.layers[l]] = base_scale_firing_rates"
      ],
      "outputs": [],
      "metadata": {}
    },
    {
      "cell_type": "code",
      "execution_count": 25,
      "source": [
        "# create graph of accuracy\r\n",
        "accuracy_list = np.array([e[0] for e in accuracy_and_rates])\r\n",
        "\r\n",
        "fig, ax = plt.subplots(1,1)\r\n",
        "baseline = plt.Rectangle((-0.5,73.25), 6,0, fill=True, color='#B2D33B', linewidth=2, zorder=2)\r\n",
        "baseline.set_label('CNN = ' + str(baseline_accuracy * 100) + '%')\r\n",
        "ax = ax or plt.gca()\r\n",
        "ax.add_patch(baseline)\r\n",
        "ax.legend()\r\n",
        "\r\n",
        "def add_labels(y):\r\n",
        "    for i in range(len(y)):\r\n",
        "        plt.text(i, y[i]*100/2, str(round(y[i]*100,3)), ha='center')\r\n",
        "\r\n",
        "add_labels(accuracy_list)\r\n",
        "\r\n",
        "plt.xlabel(\"layer scaled\")\r\n",
        "plt.ylabel(\"accuracy (%)\")\r\n",
        "plt.title(\"CIFAR-10 Acc. for Individually Scaled Layers of SNN\\n(synapse=\" + str(synapse) + \", baseline_scale_firing_rates=\" + str(base_scale_firing_rates) + \", special_scale_firing_rates=\" + str(special_scale_firing_rates) + \")\", size=10)\r\n",
        "\r\n",
        "labels = ['all', 'none', 'conv0', 'conv1', 'conv2', 'dense0']\r\n",
        "plt.bar(labels, accuracy_list*100, color='#00ADDC')\r\n",
        "plt.xticks(rotation=0, size=8)\r\n",
        "plt.savefig(\"./images/individually_scaled_layers_\" + str(synapse)[2:] + \"_\" + str(base_scale_firing_rates) + \"_\" + str(special_scale_firing_rates), dpi=300)"
      ],
      "outputs": [
        {
          "output_type": "display_data",
          "data": {
            "text/plain": [
              "<Figure size 432x288 with 1 Axes>"
            ],
            "image/png": "[encoded data removed]"
          },
          "metadata": {}
        }
      ],
      "metadata": {}
    },
    {
      "cell_type": "code",
      "execution_count": null,
      "source": [
        "# scale layers in pairs\r\n",
        "synapse = 0.005\r\n",
        "base_scale_firing_rates = 50\r\n",
        "special_scale_firing_rates = 150\r\n",
        "accuracy_list = []\r\n",
        "\r\n",
        "accuracy_list.append(\r\n",
        "    run_network(\r\n",
        "        activation=nengo.SpikingRectifiedLinear(),\r\n",
        "        n_steps=60,\r\n",
        "        synapse=synapse,\r\n",
        "        scale_firing_rates=base_scale_firing_rates,\r\n",
        "    )\r\n",
        ")\r\n",
        "\r\n",
        "scale_firing_rates = {layer:base_scale_firing_rates for layer in model.layers}\r\n",
        "pairs = [(1,3), (3,5), (5, 8), (8, 9)]\r\n",
        "\r\n",
        "for pair in pairs:\r\n",
        "\r\n",
        "    scale_firing_rates[model.layers[pair[0]]] = special_scale_firing_rates\r\n",
        "    scale_firing_rates[model.layers[pair[1]]] = special_scale_firing_rates\r\n",
        "\r\n",
        "    print(\"Scaled layer: \" + model.layers[l]._name)\r\n",
        "    accuracy = run_network(\r\n",
        "        activation=nengo.SpikingRectifiedLinear(),\r\n",
        "        n_steps=60,\r\n",
        "        synapse=synapse,\r\n",
        "        scale_firing_rates=scale_firing_rates)\r\n",
        "\r\n",
        "    accuracy_list.append(accuracy)\r\n",
        "\r\n",
        "    scale_firing_rates[model.layers[pair[0]]] = base_scale_firing_rates\r\n",
        "    scale_firing_rates[model.layers[pair[1]]] = base_scale_firing_rates"
      ],
      "outputs": [],
      "metadata": {}
    },
    {
      "cell_type": "code",
      "execution_count": 167,
      "source": [
        "# create graph for scaling in pairs\r\n",
        "fig, ax = plt.subplots(1,1)\r\n",
        "baseline = plt.Rectangle((-0.5,75.5), 5,0, fill=True, color='#B2D33B', linewidth=2, zorder=2)\r\n",
        "baseline.set_label('CNN = ' + str(baseline_accuracy * 100) + '%')\r\n",
        "ax = ax or plt.gca()\r\n",
        "ax.add_patch(baseline)\r\n",
        "ax.legend()\r\n",
        "\r\n",
        "def addlabels(y):\r\n",
        "    for i in range(len(y)):\r\n",
        "        plt.text(i, y[i]*100/2, str(round(y[i]*100,3)), ha='center')\r\n",
        "\r\n",
        "addlabels(accuracy_list)\r\n",
        "\r\n",
        "accuracy_list = np.array(accuracy_list)\r\n",
        "plt.xlabel(\"layers scaled\")\r\n",
        "plt.ylabel(\"accuracy (%)\")\r\n",
        "plt.title(\"CIFAR-10 Acc. for Scaled Layer Pairs of SNN\\n(synapse=\" + str(synapse) + \", baseline_scale_firing_rates=\" + str(base_scale_firing_rates) + \", special_scale_firing_rates=\" + str(special_scale_firing_rates) + \")\", size=10)\r\n",
        "# labels = [layer._name for layer in model.layers[2:]]\r\n",
        "labels = ['none', 'c0 & c1', 'c1 & c2', 'c2 & dense', 'dense & out']\r\n",
        "plt.bar(labels, accuracy_list*100, color='#00ADDC')\r\n",
        "plt.xticks(rotation=0, size=8)\r\n",
        "plt.savefig(\"./scaling_early_and_late_images/3_conv/barred_pairs_\" + str(synapse)[2:] + \"_\" + str(base_scale_firing_rates) + \"_\" + str(special_scale_firing_rates), dpi=300)"
      ],
      "outputs": [
        {
          "output_type": "display_data",
          "data": {
            "text/plain": [
              "<Figure size 432x288 with 1 Axes>"
            ],
            "image/png": "[encoded data removed]"
          },
          "metadata": {}
        }
      ],
      "metadata": {}
    }
  ],
  "metadata": {
    "colab": {
      "name": "keras-to-snn.ipynb",
      "provenance": []
    },
    "interpreter": {
      "hash": "26130839a7e87fd59e038942810dbb4909e5232b32b1ad521e6a6bc3043702c6"
    },
    "kernelspec": {
      "name": "python3",
      "display_name": "Python 3.6.5 64-bit ('base': conda)"
    },
    "language_info": {
      "codemirror_mode": {
        "name": "ipython",
        "version": 3
      },
      "file_extension": ".py",
      "mimetype": "text/x-python",
      "name": "python",
      "nbconvert_exporter": "python",
      "pygments_lexer": "ipython3",
      "version": "3.6.5"
    }
  },
  "nbformat": 4,
  "nbformat_minor": 2
}