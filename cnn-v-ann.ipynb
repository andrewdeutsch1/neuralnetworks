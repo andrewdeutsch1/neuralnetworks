{
 "cells": [
  {
   "cell_type": "markdown",
   "source": [
    "# CNN vs ANN CIFAR10 Dataset Analysis"
   ],
   "metadata": {}
  },
  {
   "cell_type": "markdown",
   "source": [
    "## Prepare data"
   ],
   "metadata": {}
  },
  {
   "cell_type": "code",
   "execution_count": 1,
   "source": [
    "import tensorflow as tf\r\n",
    "from tensorflow.keras import datasets, layers, models\r\n",
    "import matplotlib.pyplot as plt\r\n",
    "import numpy as np\r\n",
    "import datetime"
   ],
   "outputs": [],
   "metadata": {}
  },
  {
   "cell_type": "code",
   "execution_count": 2,
   "source": [
    "# obtain the dataset\r\n",
    "(x_train, y_train), (x_test, y_test) = datasets.cifar10.load_data()\r\n",
    "(x_train.shape, x_test.shape)"
   ],
   "outputs": [
    {
     "output_type": "execute_result",
     "data": {
      "text/plain": [
       "((50000, 32, 32, 3), (10000, 32, 32, 3))"
      ]
     },
     "metadata": {},
     "execution_count": 2
    }
   ],
   "metadata": {}
  },
  {
   "cell_type": "code",
   "execution_count": 3,
   "source": [
    "# set up label data\r\n",
    "y_train = y_train.reshape(-1,)\r\n",
    "classes = [\"airplane\", \"automobile\", \"bird\", \"cat\", \"deer\", \"dog\", \"frog\", \"horse\", \"ship\", \"truck\"]"
   ],
   "outputs": [],
   "metadata": {}
  },
  {
   "cell_type": "code",
   "execution_count": 4,
   "source": [
    "# plot an image from CIFAR-10\r\n",
    "def plot_sample(x, y, index):\r\n",
    "    plt.figure(figsize= (15,2))\r\n",
    "    plt.imshow(x[index])\r\n",
    "    plt.xlabel(classes[y[index]])\r\n",
    "    \r\n",
    "plot_sample(x_train, y_train, 0)"
   ],
   "outputs": [
    {
     "output_type": "display_data",
     "data": {
      "text/plain": [
       "<Figure size 1080x144 with 1 Axes>"
      ],
      "image/svg+xml": "<?xml version=\"1.0\" encoding=\"utf-8\" standalone=\"no\"?>\r\n<!DOCTYPE svg PUBLIC \"-//W3C//DTD SVG 1.1//EN\"\r\n  \"http://www.w3.org/Graphics/SVG/1.1/DTD/svg11.dtd\">\r\n<!-- Created with matplotlib (http://matplotlib.org/) -->\r\n<svg height=\"156.97625pt\" version=\"1.1\" viewBox=\"0 0 146.345 156.97625\" width=\"146.345pt\" xmlns=\"http://www.w3.org/2000/svg\" xmlns:xlink=\"http://www.w3.org/1999/xlink\">\r\n <defs>\r\n  <style type=\"text/css\">\r\n*{stroke-linecap:butt;stroke-linejoin:round;}\r\n  </style>\r\n </defs>\r\n <g id=\"figure_1\">\r\n  <g id=\"patch_1\">\r\n   <path d=\"M 0 156.97625 \r\nL 146.345 156.97625 \r\nL 146.345 0 \r\nL 0 0 \r\nz\r\n\" style=\"fill:none;\"/>\r\n  </g>\r\n  <g id=\"axes_1\">\r\n   <g id=\"patch_2\">\r\n    <path d=\"M 26.925 119.42 \r\nL 135.645 119.42 \r\nL 135.645 10.7 \r\nL 26.925 10.7 \r\nz\r\n\" style=\"fill:#ffffff;\"/>\r\n   </g>\r\n   <g clip-path=\"url(#p1c8edb2739)\">\r\n    <image height=\"109\" id=\"imaged15f630f4f\" transform=\"scale(1 -1)translate(0 -109)\" width=\"109\" x=\"26.925\" xlink:href=\"data:image/png;base64,\r\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\" y=\"-10.42\"/>\r\n   </g>\r\n   <g id=\"matplotlib.axis_1\">\r\n    <g id=\"xtick_1\">\r\n     <g id=\"line2d_1\">\r\n      <defs>\r\n       <path d=\"M 0 0 \r\nL 0 3.5 \r\n\" id=\"m330912da76\" style=\"stroke:#000000;stroke-width:0.8;\"/>\r\n      </defs>\r\n      <g>\r\n       <use style=\"stroke:#000000;stroke-width:0.8;\" x=\"28.62375\" xlink:href=\"#m330912da76\" y=\"119.42\"/>\r\n      </g>\r\n     </g>\r\n     <g id=\"text_1\">\r\n      <!-- 0 -->\r\n      <defs>\r\n       <path d=\"M 31.78125 66.40625 \r\nQ 24.171875 66.40625 20.328125 58.90625 \r\nQ 16.5 51.421875 16.5 36.375 \r\nQ 16.5 21.390625 20.328125 13.890625 \r\nQ 24.171875 6.390625 31.78125 6.390625 \r\nQ 39.453125 6.390625 43.28125 13.890625 \r\nQ 47.125 21.390625 47.125 36.375 \r\nQ 47.125 51.421875 43.28125 58.90625 \r\nQ 39.453125 66.40625 31.78125 66.40625 \r\nz\r\nM 31.78125 74.21875 \r\nQ 44.046875 74.21875 50.515625 64.515625 \r\nQ 56.984375 54.828125 56.984375 36.375 \r\nQ 56.984375 17.96875 50.515625 8.265625 \r\nQ 44.046875 -1.421875 31.78125 -1.421875 \r\nQ 19.53125 -1.421875 13.0625 8.265625 \r\nQ 6.59375 17.96875 6.59375 36.375 \r\nQ 6.59375 54.828125 13.0625 64.515625 \r\nQ 19.53125 74.21875 31.78125 74.21875 \r\nz\r\n\" id=\"DejaVuSans-30\"/>\r\n      </defs>\r\n      <g transform=\"translate(25.4425 134.018438)scale(0.1 -0.1)\">\r\n       <use xlink:href=\"#DejaVuSans-30\"/>\r\n      </g>\r\n     </g>\r\n    </g>\r\n    <g id=\"xtick_2\">\r\n     <g id=\"line2d_2\">\r\n      <g>\r\n       <use style=\"stroke:#000000;stroke-width:0.8;\" x=\"96.57375\" xlink:href=\"#m330912da76\" y=\"119.42\"/>\r\n      </g>\r\n     </g>\r\n     <g id=\"text_2\">\r\n      <!-- 20 -->\r\n      <defs>\r\n       <path d=\"M 19.1875 8.296875 \r\nL 53.609375 8.296875 \r\nL 53.609375 0 \r\nL 7.328125 0 \r\nL 7.328125 8.296875 \r\nQ 12.9375 14.109375 22.625 23.890625 \r\nQ 32.328125 33.6875 34.8125 36.53125 \r\nQ 39.546875 41.84375 41.421875 45.53125 \r\nQ 43.3125 49.21875 43.3125 52.78125 \r\nQ 43.3125 58.59375 39.234375 62.25 \r\nQ 35.15625 65.921875 28.609375 65.921875 \r\nQ 23.96875 65.921875 18.8125 64.3125 \r\nQ 13.671875 62.703125 7.8125 59.421875 \r\nL 7.8125 69.390625 \r\nQ 13.765625 71.78125 18.9375 73 \r\nQ 24.125 74.21875 28.421875 74.21875 \r\nQ 39.75 74.21875 46.484375 68.546875 \r\nQ 53.21875 62.890625 53.21875 53.421875 \r\nQ 53.21875 48.921875 51.53125 44.890625 \r\nQ 49.859375 40.875 45.40625 35.40625 \r\nQ 44.1875 33.984375 37.640625 27.21875 \r\nQ 31.109375 20.453125 19.1875 8.296875 \r\nz\r\n\" id=\"DejaVuSans-32\"/>\r\n      </defs>\r\n      <g transform=\"translate(90.21125 134.018438)scale(0.1 -0.1)\">\r\n       <use xlink:href=\"#DejaVuSans-32\"/>\r\n       <use x=\"63.623047\" xlink:href=\"#DejaVuSans-30\"/>\r\n      </g>\r\n     </g>\r\n    </g>\r\n    <g id=\"text_3\">\r\n     <!-- frog -->\r\n     <defs>\r\n      <path d=\"M 37.109375 75.984375 \r\nL 37.109375 68.5 \r\nL 28.515625 68.5 \r\nQ 23.6875 68.5 21.796875 66.546875 \r\nQ 19.921875 64.59375 19.921875 59.515625 \r\nL 19.921875 54.6875 \r\nL 34.71875 54.6875 \r\nL 34.71875 47.703125 \r\nL 19.921875 47.703125 \r\nL 19.921875 0 \r\nL 10.890625 0 \r\nL 10.890625 47.703125 \r\nL 2.296875 47.703125 \r\nL 2.296875 54.6875 \r\nL 10.890625 54.6875 \r\nL 10.890625 58.5 \r\nQ 10.890625 67.625 15.140625 71.796875 \r\nQ 19.390625 75.984375 28.609375 75.984375 \r\nz\r\n\" id=\"DejaVuSans-66\"/>\r\n      <path d=\"M 41.109375 46.296875 \r\nQ 39.59375 47.171875 37.8125 47.578125 \r\nQ 36.03125 48 33.890625 48 \r\nQ 26.265625 48 22.1875 43.046875 \r\nQ 18.109375 38.09375 18.109375 28.8125 \r\nL 18.109375 0 \r\nL 9.078125 0 \r\nL 9.078125 54.6875 \r\nL 18.109375 54.6875 \r\nL 18.109375 46.1875 \r\nQ 20.953125 51.171875 25.484375 53.578125 \r\nQ 30.03125 56 36.53125 56 \r\nQ 37.453125 56 38.578125 55.875 \r\nQ 39.703125 55.765625 41.0625 55.515625 \r\nz\r\n\" id=\"DejaVuSans-72\"/>\r\n      <path d=\"M 30.609375 48.390625 \r\nQ 23.390625 48.390625 19.1875 42.75 \r\nQ 14.984375 37.109375 14.984375 27.296875 \r\nQ 14.984375 17.484375 19.15625 11.84375 \r\nQ 23.34375 6.203125 30.609375 6.203125 \r\nQ 37.796875 6.203125 41.984375 11.859375 \r\nQ 46.1875 17.53125 46.1875 27.296875 \r\nQ 46.1875 37.015625 41.984375 42.703125 \r\nQ 37.796875 48.390625 30.609375 48.390625 \r\nz\r\nM 30.609375 56 \r\nQ 42.328125 56 49.015625 48.375 \r\nQ 55.71875 40.765625 55.71875 27.296875 \r\nQ 55.71875 13.875 49.015625 6.21875 \r\nQ 42.328125 -1.421875 30.609375 -1.421875 \r\nQ 18.84375 -1.421875 12.171875 6.21875 \r\nQ 5.515625 13.875 5.515625 27.296875 \r\nQ 5.515625 40.765625 12.171875 48.375 \r\nQ 18.84375 56 30.609375 56 \r\nz\r\n\" id=\"DejaVuSans-6f\"/>\r\n      <path d=\"M 45.40625 27.984375 \r\nQ 45.40625 37.75 41.375 43.109375 \r\nQ 37.359375 48.484375 30.078125 48.484375 \r\nQ 22.859375 48.484375 18.828125 43.109375 \r\nQ 14.796875 37.75 14.796875 27.984375 \r\nQ 14.796875 18.265625 18.828125 12.890625 \r\nQ 22.859375 7.515625 30.078125 7.515625 \r\nQ 37.359375 7.515625 41.375 12.890625 \r\nQ 45.40625 18.265625 45.40625 27.984375 \r\nz\r\nM 54.390625 6.78125 \r\nQ 54.390625 -7.171875 48.1875 -13.984375 \r\nQ 42 -20.796875 29.203125 -20.796875 \r\nQ 24.46875 -20.796875 20.265625 -20.09375 \r\nQ 16.0625 -19.390625 12.109375 -17.921875 \r\nL 12.109375 -9.1875 \r\nQ 16.0625 -11.328125 19.921875 -12.34375 \r\nQ 23.78125 -13.375 27.78125 -13.375 \r\nQ 36.625 -13.375 41.015625 -8.765625 \r\nQ 45.40625 -4.15625 45.40625 5.171875 \r\nL 45.40625 9.625 \r\nQ 42.625 4.78125 38.28125 2.390625 \r\nQ 33.9375 0 27.875 0 \r\nQ 17.828125 0 11.671875 7.65625 \r\nQ 5.515625 15.328125 5.515625 27.984375 \r\nQ 5.515625 40.671875 11.671875 48.328125 \r\nQ 17.828125 56 27.875 56 \r\nQ 33.9375 56 38.28125 53.609375 \r\nQ 42.625 51.21875 45.40625 46.390625 \r\nL 45.40625 54.6875 \r\nL 54.390625 54.6875 \r\nz\r\n\" id=\"DejaVuSans-67\"/>\r\n     </defs>\r\n     <g transform=\"translate(71.237344 147.696562)scale(0.1 -0.1)\">\r\n      <use xlink:href=\"#DejaVuSans-66\"/>\r\n      <use x=\"35.205078\" xlink:href=\"#DejaVuSans-72\"/>\r\n      <use x=\"76.287109\" xlink:href=\"#DejaVuSans-6f\"/>\r\n      <use x=\"137.46875\" xlink:href=\"#DejaVuSans-67\"/>\r\n     </g>\r\n    </g>\r\n   </g>\r\n   <g id=\"matplotlib.axis_2\">\r\n    <g id=\"ytick_1\">\r\n     <g id=\"line2d_3\">\r\n      <defs>\r\n       <path d=\"M 0 0 \r\nL -3.5 0 \r\n\" id=\"mea8c1891a4\" style=\"stroke:#000000;stroke-width:0.8;\"/>\r\n      </defs>\r\n      <g>\r\n       <use style=\"stroke:#000000;stroke-width:0.8;\" x=\"26.925\" xlink:href=\"#mea8c1891a4\" y=\"12.39875\"/>\r\n      </g>\r\n     </g>\r\n     <g id=\"text_4\">\r\n      <!-- 0 -->\r\n      <g transform=\"translate(13.5625 16.197969)scale(0.1 -0.1)\">\r\n       <use xlink:href=\"#DejaVuSans-30\"/>\r\n      </g>\r\n     </g>\r\n    </g>\r\n    <g id=\"ytick_2\">\r\n     <g id=\"line2d_4\">\r\n      <g>\r\n       <use style=\"stroke:#000000;stroke-width:0.8;\" x=\"26.925\" xlink:href=\"#mea8c1891a4\" y=\"46.37375\"/>\r\n      </g>\r\n     </g>\r\n     <g id=\"text_5\">\r\n      <!-- 10 -->\r\n      <defs>\r\n       <path d=\"M 12.40625 8.296875 \r\nL 28.515625 8.296875 \r\nL 28.515625 63.921875 \r\nL 10.984375 60.40625 \r\nL 10.984375 69.390625 \r\nL 28.421875 72.90625 \r\nL 38.28125 72.90625 \r\nL 38.28125 8.296875 \r\nL 54.390625 8.296875 \r\nL 54.390625 0 \r\nL 12.40625 0 \r\nz\r\n\" id=\"DejaVuSans-31\"/>\r\n      </defs>\r\n      <g transform=\"translate(7.2 50.172969)scale(0.1 -0.1)\">\r\n       <use xlink:href=\"#DejaVuSans-31\"/>\r\n       <use x=\"63.623047\" xlink:href=\"#DejaVuSans-30\"/>\r\n      </g>\r\n     </g>\r\n    </g>\r\n    <g id=\"ytick_3\">\r\n     <g id=\"line2d_5\">\r\n      <g>\r\n       <use style=\"stroke:#000000;stroke-width:0.8;\" x=\"26.925\" xlink:href=\"#mea8c1891a4\" y=\"80.34875\"/>\r\n      </g>\r\n     </g>\r\n     <g id=\"text_6\">\r\n      <!-- 20 -->\r\n      <g transform=\"translate(7.2 84.147969)scale(0.1 -0.1)\">\r\n       <use xlink:href=\"#DejaVuSans-32\"/>\r\n       <use x=\"63.623047\" xlink:href=\"#DejaVuSans-30\"/>\r\n      </g>\r\n     </g>\r\n    </g>\r\n    <g id=\"ytick_4\">\r\n     <g id=\"line2d_6\">\r\n      <g>\r\n       <use style=\"stroke:#000000;stroke-width:0.8;\" x=\"26.925\" xlink:href=\"#mea8c1891a4\" y=\"114.32375\"/>\r\n      </g>\r\n     </g>\r\n     <g id=\"text_7\">\r\n      <!-- 30 -->\r\n      <defs>\r\n       <path d=\"M 40.578125 39.3125 \r\nQ 47.65625 37.796875 51.625 33 \r\nQ 55.609375 28.21875 55.609375 21.1875 \r\nQ 55.609375 10.40625 48.1875 4.484375 \r\nQ 40.765625 -1.421875 27.09375 -1.421875 \r\nQ 22.515625 -1.421875 17.65625 -0.515625 \r\nQ 12.796875 0.390625 7.625 2.203125 \r\nL 7.625 11.71875 \r\nQ 11.71875 9.328125 16.59375 8.109375 \r\nQ 21.484375 6.890625 26.8125 6.890625 \r\nQ 36.078125 6.890625 40.9375 10.546875 \r\nQ 45.796875 14.203125 45.796875 21.1875 \r\nQ 45.796875 27.640625 41.28125 31.265625 \r\nQ 36.765625 34.90625 28.71875 34.90625 \r\nL 20.21875 34.90625 \r\nL 20.21875 43.015625 \r\nL 29.109375 43.015625 \r\nQ 36.375 43.015625 40.234375 45.921875 \r\nQ 44.09375 48.828125 44.09375 54.296875 \r\nQ 44.09375 59.90625 40.109375 62.90625 \r\nQ 36.140625 65.921875 28.71875 65.921875 \r\nQ 24.65625 65.921875 20.015625 65.03125 \r\nQ 15.375 64.15625 9.8125 62.3125 \r\nL 9.8125 71.09375 \r\nQ 15.4375 72.65625 20.34375 73.4375 \r\nQ 25.25 74.21875 29.59375 74.21875 \r\nQ 40.828125 74.21875 47.359375 69.109375 \r\nQ 53.90625 64.015625 53.90625 55.328125 \r\nQ 53.90625 49.265625 50.4375 45.09375 \r\nQ 46.96875 40.921875 40.578125 39.3125 \r\nz\r\n\" id=\"DejaVuSans-33\"/>\r\n      </defs>\r\n      <g transform=\"translate(7.2 118.122969)scale(0.1 -0.1)\">\r\n       <use xlink:href=\"#DejaVuSans-33\"/>\r\n       <use x=\"63.623047\" xlink:href=\"#DejaVuSans-30\"/>\r\n      </g>\r\n     </g>\r\n    </g>\r\n   </g>\r\n   <g id=\"patch_3\">\r\n    <path d=\"M 26.925 119.42 \r\nL 26.925 10.7 \r\n\" style=\"fill:none;stroke:#000000;stroke-linecap:square;stroke-linejoin:miter;stroke-width:0.8;\"/>\r\n   </g>\r\n   <g id=\"patch_4\">\r\n    <path d=\"M 135.645 119.42 \r\nL 135.645 10.7 \r\n\" style=\"fill:none;stroke:#000000;stroke-linecap:square;stroke-linejoin:miter;stroke-width:0.8;\"/>\r\n   </g>\r\n   <g id=\"patch_5\">\r\n    <path d=\"M 26.925 119.42 \r\nL 135.645 119.42 \r\n\" style=\"fill:none;stroke:#000000;stroke-linecap:square;stroke-linejoin:miter;stroke-width:0.8;\"/>\r\n   </g>\r\n   <g id=\"patch_6\">\r\n    <path d=\"M 26.925 10.7 \r\nL 135.645 10.7 \r\n\" style=\"fill:none;stroke:#000000;stroke-linecap:square;stroke-linejoin:miter;stroke-width:0.8;\"/>\r\n   </g>\r\n  </g>\r\n </g>\r\n <defs>\r\n  <clipPath id=\"p1c8edb2739\">\r\n   <rect height=\"108.72\" width=\"108.72\" x=\"26.925\" y=\"10.7\"/>\r\n  </clipPath>\r\n </defs>\r\n</svg>\r\n",
      "image/png": "[encoded data removed]"
     },
     "metadata": {}
    }
   ],
   "metadata": {}
  },
  {
   "cell_type": "code",
   "execution_count": 7,
   "source": [
    "# normalize our data by color channel\r\n",
    "def normalize(array):\r\n",
    "    return (array - np.mean(array)) / np.std(array)\r\n",
    "\r\n",
    "n_vals = np.array([[0.4914, 0.4822, 0.4465], [0.247, 0.243, 0.261]])\r\n",
    "\r\n",
    "x_train_R = x_train.transpose()[0].transpose()\r\n",
    "x_train_G = x_train.transpose()[1].transpose()\r\n",
    "x_train_B = x_train.transpose()[2].transpose()\r\n",
    "\r\n",
    "x_test_R = x_test.transpose()[0].transpose()\r\n",
    "x_test_G = x_test.transpose()[1].transpose()\r\n",
    "x_test_B = x_test.transpose()[2].transpose()\r\n",
    "\r\n",
    "x_train = normalize(x_train)\r\n",
    "x_test = normalize(x_test)"
   ],
   "outputs": [],
   "metadata": {}
  },
  {
   "cell_type": "markdown",
   "source": [
    "## Build, Train, and Test an Artificial Neural Network with TensorBoard callbacks"
   ],
   "metadata": {}
  },
  {
   "cell_type": "code",
   "execution_count": 57,
   "source": [
    "log_dir = \"C:/Users/andre/neural/log/fit/\" + datetime.datetime.now().strftime(\"%Y-%m-%d-%H.%M.%S\")\r\n",
    "tb_callback = tf.keras.callbacks.TensorBoard(log_dir=log_dir, update_freq=1)\r\n",
    "\r\n",
    "# build ANN\r\n",
    "ann = models.Sequential([\r\n",
    "    layers.Flatten(input_shape=(32,32,3)),\r\n",
    "    layers.Dense(1200, activation='relu'),\r\n",
    "    layers.Dense(2841, activation='relu'),\r\n",
    "    layers.Dense(10, activation='sigmoid')\r\n",
    "])\r\n",
    "\r\n",
    "ann.compile(optimizer='SGD', loss='sparse_categorical_crossentropy', metrics=['accuracy'])\r\n",
    "\r\n",
    "ann.summary()"
   ],
   "outputs": [
    {
     "output_type": "stream",
     "name": "stdout",
     "text": [
      "Model: \"sequential_3\"\n",
      "_________________________________________________________________\n",
      "Layer (type)                 Output Shape              Param #   \n",
      "=================================================================\n",
      "flatten_3 (Flatten)          (None, 3072)              0         \n",
      "_________________________________________________________________\n",
      "dense_9 (Dense)              (None, 1200)              3687600   \n",
      "_________________________________________________________________\n",
      "dense_10 (Dense)             (None, 2841)              3412041   \n",
      "_________________________________________________________________\n",
      "dense_11 (Dense)             (None, 10)                28420     \n",
      "=================================================================\n",
      "Total params: 7,128,061\n",
      "Trainable params: 7,128,061\n",
      "Non-trainable params: 0\n",
      "_________________________________________________________________\n"
     ]
    }
   ],
   "metadata": {}
  },
  {
   "cell_type": "code",
   "execution_count": 55,
   "source": [
    "# train and record accuracy and loss of ANN\r\n",
    "ann_history = ann.fit(x_train, y_train, epochs=20, callbacks=[tb_callback])\r\n",
    "ann.save(\"C:/Users/andre/neural/saved-networks\")"
   ],
   "outputs": [
    {
     "output_type": "stream",
     "name": "stdout",
     "text": [
      "Epoch 1/20\n",
      "1563/1563 [==============================] - 12s 7ms/step - loss: 1.7644 - accuracy: 0.3745\n",
      "Epoch 2/20\n",
      "1563/1563 [==============================] - 10s 7ms/step - loss: 1.3724 - accuracy: 0.5250\n",
      "Epoch 3/20\n",
      "1563/1563 [==============================] - 10s 7ms/step - loss: 1.2174 - accuracy: 0.5818\n",
      "Epoch 4/20\n",
      "1563/1563 [==============================] - 10s 7ms/step - loss: 1.0971 - accuracy: 0.6281\n",
      "Epoch 5/20\n",
      "1563/1563 [==============================] - 10s 6ms/step - loss: 0.9862 - accuracy: 0.6653\n",
      "Epoch 6/20\n",
      "1563/1563 [==============================] - 10s 6ms/step - loss: 0.8893 - accuracy: 0.7019\n",
      "Epoch 7/20\n",
      "1563/1563 [==============================] - 10s 6ms/step - loss: 0.7848 - accuracy: 0.7438\n",
      "Epoch 8/20\n",
      "1563/1563 [==============================] - 17s 11ms/step - loss: 0.6924 - accuracy: 0.7742\n",
      "Epoch 9/20\n",
      "1563/1563 [==============================] - 11s 7ms/step - loss: 0.5964 - accuracy: 0.8136\n",
      "Epoch 10/20\n",
      "1563/1563 [==============================] - 10s 6ms/step - loss: 0.5241 - accuracy: 0.8368\n",
      "Epoch 11/20\n",
      "1563/1563 [==============================] - 13s 8ms/step - loss: 0.4393 - accuracy: 0.8702\n",
      "Epoch 12/20\n",
      "1563/1563 [==============================] - 10s 6ms/step - loss: 0.3799 - accuracy: 0.8881\n",
      "Epoch 13/20\n",
      "1563/1563 [==============================] - 11s 7ms/step - loss: 0.3162 - accuracy: 0.9127\n",
      "Epoch 14/20\n",
      "1563/1563 [==============================] - 10s 6ms/step - loss: 0.2638 - accuracy: 0.9319\n",
      "Epoch 15/20\n",
      "1563/1563 [==============================] - 9s 6ms/step - loss: 0.2152 - accuracy: 0.9493\n",
      "Epoch 16/20\n",
      "1563/1563 [==============================] - 10s 6ms/step - loss: 0.1732 - accuracy: 0.9620\n",
      "Epoch 17/20\n",
      "1563/1563 [==============================] - 12s 8ms/step - loss: 0.1361 - accuracy: 0.9733\n",
      "Epoch 18/20\n",
      "1563/1563 [==============================] - 10s 6ms/step - loss: 0.1132 - accuracy: 0.9777\n",
      "Epoch 19/20\n",
      "1563/1563 [==============================] - 9s 6ms/step - loss: 0.0873 - accuracy: 0.9871\n",
      "Epoch 20/20\n",
      "1563/1563 [==============================] - 12s 7ms/step - loss: 0.0657 - accuracy: 0.9922\n",
      "INFO:tensorflow:Assets written to: C:/Users/andre/neural/saved-networks\\assets\n"
     ]
    }
   ],
   "metadata": {}
  },
  {
   "cell_type": "code",
   "execution_count": 58,
   "source": [
    "# test accuracy and loss\r\n",
    "ann_acc = ann.evaluate(x_test, y_test)[1]\r\n",
    "ann_loss = ann.evaluate(x_test, y_test)[0]"
   ],
   "outputs": [
    {
     "output_type": "stream",
     "name": "stdout",
     "text": [
      "313/313 [==============================] - 1s 3ms/step - loss: 2.4866 - accuracy: 0.0897\n",
      "313/313 [==============================] - 1s 3ms/step - loss: 2.4830 - accuracy: 0.0877\n"
     ]
    }
   ],
   "metadata": {}
  },
  {
   "cell_type": "markdown",
   "source": [
    "## Build, Train, and Test a Convolutional Neural Network with TensorBoard callbacks"
   ],
   "metadata": {}
  },
  {
   "cell_type": "code",
   "execution_count": 59,
   "source": [
    "# build CNN\r\n",
    "cnn = models.Sequential([\r\n",
    "    \r\n",
    "    # cnn\r\n",
    "    layers.Conv2D(filters=32, activation='relu', kernel_size=(3,3), input_shape=(32,32,3)),\r\n",
    "    layers.MaxPooling2D((2,2)),\r\n",
    "    layers.Conv2D(filters=64, activation='relu', kernel_size=(3,3)),\r\n",
    "    layers.MaxPooling2D((2,2)),\r\n",
    "\r\n",
    "    # dense\r\n",
    "    layers.Flatten(),\r\n",
    "    layers.Dense(3000, activation='relu'),\r\n",
    "    layers.Dense(64, activation='relu'),\r\n",
    "    layers.Dense(10, activation='softmax') # softmax normalizes the probabilities\r\n",
    "])\r\n",
    "\r\n",
    "cnn.compile(optimizer='adam', loss=\"sparse_categorical_crossentropy\", metrics=[\"accuracy\"])\r\n",
    "\r\n",
    "cnn.summary()"
   ],
   "outputs": [
    {
     "output_type": "stream",
     "name": "stdout",
     "text": [
      "Model: \"sequential_4\"\n",
      "_________________________________________________________________\n",
      "Layer (type)                 Output Shape              Param #   \n",
      "=================================================================\n",
      "conv2d (Conv2D)              (None, 30, 30, 32)        896       \n",
      "_________________________________________________________________\n",
      "max_pooling2d (MaxPooling2D) (None, 15, 15, 32)        0         \n",
      "_________________________________________________________________\n",
      "conv2d_1 (Conv2D)            (None, 13, 13, 64)        18496     \n",
      "_________________________________________________________________\n",
      "max_pooling2d_1 (MaxPooling2 (None, 6, 6, 64)          0         \n",
      "_________________________________________________________________\n",
      "flatten_4 (Flatten)          (None, 2304)              0         \n",
      "_________________________________________________________________\n",
      "dense_12 (Dense)             (None, 3000)              6915000   \n",
      "_________________________________________________________________\n",
      "dense_13 (Dense)             (None, 64)                192064    \n",
      "_________________________________________________________________\n",
      "dense_14 (Dense)             (None, 10)                650       \n",
      "=================================================================\n",
      "Total params: 7,127,106\n",
      "Trainable params: 7,127,106\n",
      "Non-trainable params: 0\n",
      "_________________________________________________________________\n"
     ]
    }
   ],
   "metadata": {}
  },
  {
   "cell_type": "code",
   "execution_count": 60,
   "source": [
    "# train and record accuracy and loss of CNN\r\n",
    "cnn_history = cnn.fit(x_train, y_train, epochs=20, callbacks=[tb_callback])\r\n",
    "cnn.save(\"C:/Users/andre/neural/saved-networks\")"
   ],
   "outputs": [
    {
     "output_type": "stream",
     "name": "stdout",
     "text": [
      "Epoch 1/20\n",
      "1563/1563 [==============================] - 25s 11ms/step - loss: 1.5380 - accuracy: 0.4438\n",
      "Epoch 2/20\n",
      "1563/1563 [==============================] - 17s 11ms/step - loss: 0.8949 - accuracy: 0.6890\n",
      "Epoch 3/20\n",
      "1563/1563 [==============================] - 17s 11ms/step - loss: 0.6176 - accuracy: 0.7859\n",
      "Epoch 4/20\n",
      "1563/1563 [==============================] - 20s 13ms/step - loss: 0.3863 - accuracy: 0.8651\n",
      "Epoch 5/20\n",
      "1563/1563 [==============================] - 20s 13ms/step - loss: 0.1969 - accuracy: 0.9336\n",
      "Epoch 6/20\n",
      "1563/1563 [==============================] - 20s 13ms/step - loss: 0.1221 - accuracy: 0.9602\n",
      "Epoch 7/20\n",
      "1563/1563 [==============================] - 21s 13ms/step - loss: 0.0915 - accuracy: 0.9690\n",
      "Epoch 8/20\n",
      "1563/1563 [==============================] - 17s 11ms/step - loss: 0.0801 - accuracy: 0.9725\n",
      "Epoch 9/20\n",
      "1563/1563 [==============================] - 17s 11ms/step - loss: 0.0720 - accuracy: 0.9761\n",
      "Epoch 10/20\n",
      "1563/1563 [==============================] - 17s 11ms/step - loss: 0.0693 - accuracy: 0.9780\n",
      "Epoch 11/20\n",
      "1563/1563 [==============================] - 20s 13ms/step - loss: 0.0501 - accuracy: 0.9838\n",
      "Epoch 12/20\n",
      "1563/1563 [==============================] - 18s 12ms/step - loss: 0.0651 - accuracy: 0.9804\n",
      "Epoch 13/20\n",
      "1563/1563 [==============================] - 19s 12ms/step - loss: 0.0514 - accuracy: 0.9838\n",
      "Epoch 14/20\n",
      "1563/1563 [==============================] - 20s 13ms/step - loss: 0.0514 - accuracy: 0.9847\n",
      "Epoch 15/20\n",
      "1563/1563 [==============================] - 21s 13ms/step - loss: 0.0485 - accuracy: 0.9855\n",
      "Epoch 16/20\n",
      "1563/1563 [==============================] - 21s 13ms/step - loss: 0.0443 - accuracy: 0.9852\n",
      "Epoch 17/20\n",
      "1563/1563 [==============================] - 21s 14ms/step - loss: 0.0407 - accuracy: 0.9877\n",
      "Epoch 18/20\n",
      "1563/1563 [==============================] - 19s 12ms/step - loss: 0.0385 - accuracy: 0.9887\n",
      "Epoch 19/20\n",
      "1563/1563 [==============================] - 21s 13ms/step - loss: 0.0399 - accuracy: 0.9888\n",
      "Epoch 20/20\n",
      "1563/1563 [==============================] - 23s 15ms/step - loss: 0.0324 - accuracy: 0.9898\n",
      "INFO:tensorflow:Assets written to: C:/Users/andre/neural/saved-networks\\assets\n"
     ]
    }
   ],
   "metadata": {}
  },
  {
   "cell_type": "code",
   "execution_count": 62,
   "source": [
    "# evaluate CNN\r\n",
    "cnn_acc = cnn.evaluate(x_test, y_test)[1]\r\n",
    "cnn_loss = cnn.evaluate(x_test, y_test)[0]"
   ],
   "outputs": [
    {
     "output_type": "stream",
     "name": "stdout",
     "text": [
      "313/313 [==============================] - 1s 4ms/step - loss: 2.1747 - accuracy: 0.7109\n",
      "313/313 [==============================] - 1s 4ms/step - loss: 2.1747 - accuracy: 0.7109\n"
     ]
    }
   ],
   "metadata": {}
  },
  {
   "cell_type": "markdown",
   "source": [
    "## Visually compare ANN to CNN"
   ],
   "metadata": {}
  },
  {
   "cell_type": "code",
   "execution_count": 63,
   "source": [
    "plt.title(\"Accuracy on Training Data\")\r\n",
    "plt.plot(ann_history.history['accuracy'])\r\n",
    "plt.plot(cnn_history.history['accuracy'])\r\n",
    "plt.plot(20, ann_acc, 'o', color='C0')\r\n",
    "plt.plot(20, cnn_acc, 'o', color='orange')\r\n",
    "plt.legend([\"ANN\", \"CNN\", \"ANN Test\", \"CNN Test\"])\r\n",
    "plt.xlabel(\"Epochs\")\r\n",
    "plt.ylabel(\"Accuracy\")\r\n",
    "plt.savefig(\"cifar10-accuracies\", dpi=200)"
   ],
   "outputs": [
    {
     "output_type": "display_data",
     "data": {
      "text/plain": [
       "<Figure size 432x288 with 1 Axes>"
      ],
      "image/png": "[encoded data removed]"
     },
     "metadata": {}
    }
   ],
   "metadata": {}
  },
  {
   "cell_type": "code",
   "execution_count": 64,
   "source": [
    "plt.title(\"Loss on Training Data\")\r\n",
    "plt.plot(ann_history.history['loss'])\r\n",
    "plt.plot(cnn_history.history['loss'])\r\n",
    "plt.plot(20, ann_loss, 'o', c=\"C0\")\r\n",
    "plt.plot(20, cnn_loss, 'o', color='orange')\r\n",
    "plt.legend([\"ANN\", \"CNN\", \"ANN Test\", \"CNN Test\"])\r\n",
    "plt.xlabel(\"Epochs\")\r\n",
    "plt.ylabel(\"Loss\")\r\n",
    "plt.savefig(\"cifar10-losses\", dpi=200)"
   ],
   "outputs": [
    {
     "output_type": "display_data",
     "data": {
      "text/plain": [
       "<Figure size 432x288 with 1 Axes>"
      ],
      "image/png": "[encoded data removed]"
     },
     "metadata": {}
    }
   ],
   "metadata": {}
  }
 ],
 "metadata": {
  "interpreter": {
   "hash": "26130839a7e87fd59e038942810dbb4909e5232b32b1ad521e6a6bc3043702c6"
  },
  "kernelspec": {
   "name": "python3",
   "display_name": "Python 3.6.5 64-bit ('base': conda)"
  },
  "language_info": {
   "codemirror_mode": {
    "name": "ipython",
    "version": 3
   },
   "file_extension": ".py",
   "mimetype": "text/x-python",
   "name": "python",
   "nbconvert_exporter": "python",
   "pygments_lexer": "ipython3",
   "version": "3.6.5"
  },
  "orig_nbformat": 4
 },
 "nbformat": 4,
 "nbformat_minor": 2
}