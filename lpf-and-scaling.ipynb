{
  "cells": [
    {
      "cell_type": "markdown",
      "source": [
        "# Testing the effects of low-pass filters and scaling of firing rates on the accuracy of a converted spiking convolutional network."
      ],
      "metadata": {
        "id": "dcnlPIjC5ewO"
      }
    },
    {
      "cell_type": "markdown",
      "source": [
        "## Initialize data"
      ],
      "metadata": {}
    },
    {
      "cell_type": "code",
      "execution_count": 7,
      "source": [
        "import matplotlib.pyplot as plt\r\n",
        "import nengo\r\n",
        "import numpy as np\r\n",
        "import tensorflow as tf\r\n",
        "import nengo_dl\r\n",
        "\r\n",
        "seed = 0\r\n",
        "np.random.seed(seed)\r\n",
        "tf.random.set_seed(seed)"
      ],
      "outputs": [],
      "metadata": {
        "id": "z0oTxL6w5ewR"
      }
    },
    {
      "cell_type": "code",
      "execution_count": 8,
      "source": [
        "# obtain images\r\n",
        "(train_images, train_labels), (test_images,test_labels) = tf.keras.datasets.cifar10.load_data()\r\n",
        "\r\n",
        "# one-hot encoding\r\n",
        "# train_labels = tf.keras.utils.to_categorical(train_labels, 10)\r\n",
        "# test_labels = tf.keras.utils.to_categorical(test_labels, 10)\r\n",
        "\r\n",
        "# normalize data by color channel\r\n",
        "def normalize(array):\r\n",
        "    return (array - np.mean(array)) / np.std(array)\r\n",
        "\r\n",
        "train_images_R = normalize(train_images.transpose()[0].transpose())\r\n",
        "train_images_G = normalize(train_images.transpose()[1].transpose())\r\n",
        "train_images_B = normalize(train_images.transpose()[2].transpose())\r\n",
        "test_images_R = normalize(test_images.transpose()[0].transpose())\r\n",
        "test_images_G = normalize(test_images.transpose()[1].transpose())\r\n",
        "test_images_B = normalize(test_images.transpose()[2].transpose())\r\n",
        "\r\n",
        "train_images = np.array([train_images_R, train_images_G, train_images_B])\r\n",
        "test_images = np.array([test_images_R, test_images_G, test_images_B])\r\n",
        "\r\n",
        "train_images = np.moveaxis(train_images, 0, -1)\r\n",
        "test_images = np.moveaxis(test_images, 0, -1)\r\n",
        "\r\n",
        "# verify normalization\r\n",
        "print((train_images.shape, train_labels.shape), (test_images.shape, test_labels.shape))\r\n",
        "print('test mean:', np.mean(train_images))\r\n",
        "print('test stdv:', np.std(train_images))\r\n",
        "print('train mean:', np.mean(test_images))\r\n",
        "print('train stdv:', np.std(test_images))"
      ],
      "outputs": [
        {
          "output_type": "stream",
          "name": "stdout",
          "text": [
            "((50000, 32, 32, 3), (50000, 1)) ((10000, 32, 32, 3), (10000, 1))\n",
            "test mean: 5.4830214442821065e-17\n",
            "test stdv: 1.0000000000000002\n",
            "train mean: 8.14903700074865e-18\n",
            "train stdv: 1.0000000000000002\n"
          ]
        }
      ],
      "metadata": {}
    },
    {
      "cell_type": "code",
      "execution_count": 9,
      "source": [
        "# flatten images and add time dimension\r\n",
        "train_images = train_images.reshape((train_images.shape[0], 1, -1))\r\n",
        "train_labels = train_labels.reshape((train_labels.shape[0], 1, -1))\r\n",
        "test_images = test_images.reshape((test_images.shape[0], 1, -1))\r\n",
        "test_labels = test_labels.reshape((test_labels.shape[0], 1, -1))\r\n",
        "\r\n",
        "print((train_images.shape, train_labels.shape), (test_images.shape, test_labels.shape))"
      ],
      "outputs": [
        {
          "output_type": "stream",
          "name": "stdout",
          "text": [
            "((50000, 1, 3072), (50000, 1, 1)) ((10000, 1, 3072), (10000, 1, 1))\n"
          ]
        }
      ],
      "metadata": {
        "id": "MYgW3rU55ewS"
      }
    },
    {
      "cell_type": "markdown",
      "source": [
        "## Build convolutional network and convert to nengo-dl"
      ],
      "metadata": {}
    },
    {
      "cell_type": "code",
      "execution_count": 10,
      "source": [
        "inp = tf.keras.Input(shape=(32, 32, 3))\r\n",
        "\r\n",
        "conv = tf.keras.layers.Conv2D(filters=28, kernel_size=(3,3), activation=tf.nn.relu)(inp)\r\n",
        "pool = tf.keras.layers.AveragePooling2D(pool_size=(2,2))(conv)\r\n",
        "\r\n",
        "flatten = tf.keras.layers.Flatten()(pool)\r\n",
        "\r\n",
        "dense = tf.keras.layers.Dense(units=100, activation=tf.nn.relu)(flatten)\r\n",
        "out = tf.keras.layers.Dense(units=10)(dense)\r\n",
        "\r\n",
        "model = tf.keras.Model(inputs=inp, outputs=out)"
      ],
      "outputs": [],
      "metadata": {
        "id": "JZ_bK1AB5ewU"
      }
    },
    {
      "cell_type": "code",
      "execution_count": 11,
      "source": [
        "converter = nengo_dl.Converter(model)"
      ],
      "outputs": [],
      "metadata": {
        "id": "seOy_LqT5ewV"
      }
    },
    {
      "cell_type": "markdown",
      "source": [
        "## Train the non-spiking network"
      ],
      "metadata": {}
    },
    {
      "cell_type": "code",
      "execution_count": 12,
      "source": [
        "with nengo_dl.Simulator(converter.net, minibatch_size=200) as sim:\r\n",
        "    \r\n",
        "    sim.compile(\r\n",
        "        optimizer=tf.optimizers.Adam(0.001),\r\n",
        "        loss=tf.losses.SparseCategoricalCrossentropy(from_logits=True),\r\n",
        "        metrics=[tf.metrics.sparse_categorical_accuracy]\r\n",
        "    )\r\n",
        "\r\n",
        "    sim.fit(\r\n",
        "        {converter.inputs[inp]: train_images},\r\n",
        "        {converter.outputs[out]: train_labels},\r\n",
        "        validation_data=({converter.inputs[inp]: test_images}, {converter.outputs[out]: test_labels}),\r\n",
        "        epochs=25\r\n",
        "    )\r\n",
        "\r\n",
        "    # save the parameters\r\n",
        "    sim.save_params(\"./lpf-and-scaling_params\")"
      ],
      "outputs": [
        {
          "output_type": "stream",
          "name": "stdout",
          "text": [
            "Build finished in 0:00:00                                                      \n",
            "Optimization finished in 0:00:00                                               \n",
            "Construction finished in 0:00:00                                               \n",
            "Epoch 1/25\n",
            "250/250 [==============================] - 8s 26ms/step - loss: 1.7402 - probe_loss: 1.7402 - probe_sparse_categorical_accuracy: 0.3877 - val_loss: 1.2752 - val_probe_loss: 1.2752 - val_probe_sparse_categorical_accuracy: 0.5482\n",
            "Epoch 2/25\n",
            "250/250 [==============================] - 6s 25ms/step - loss: 1.2110 - probe_loss: 1.2110 - probe_sparse_categorical_accuracy: 0.5733 - val_loss: 1.1641 - val_probe_loss: 1.1641 - val_probe_sparse_categorical_accuracy: 0.5847\n",
            "Epoch 3/25\n",
            "250/250 [==============================] - 6s 26ms/step - loss: 1.0792 - probe_loss: 1.0792 - probe_sparse_categorical_accuracy: 0.6257 - val_loss: 1.1221 - val_probe_loss: 1.1221 - val_probe_sparse_categorical_accuracy: 0.6006\n",
            "Epoch 4/25\n",
            "250/250 [==============================] - 6s 26ms/step - loss: 0.9830 - probe_loss: 0.9830 - probe_sparse_categorical_accuracy: 0.6562 - val_loss: 1.0738 - val_probe_loss: 1.0738 - val_probe_sparse_categorical_accuracy: 0.6244\n",
            "Epoch 5/25\n",
            "250/250 [==============================] - 6s 26ms/step - loss: 0.9032 - probe_loss: 0.9032 - probe_sparse_categorical_accuracy: 0.6874 - val_loss: 1.0635 - val_probe_loss: 1.0635 - val_probe_sparse_categorical_accuracy: 0.6288\n",
            "Epoch 6/25\n",
            "250/250 [==============================] - 6s 25ms/step - loss: 0.8641 - probe_loss: 0.8641 - probe_sparse_categorical_accuracy: 0.7014 - val_loss: 1.0571 - val_probe_loss: 1.0571 - val_probe_sparse_categorical_accuracy: 0.6333\n",
            "Epoch 7/25\n",
            "250/250 [==============================] - 6s 25ms/step - loss: 0.7960 - probe_loss: 0.7960 - probe_sparse_categorical_accuracy: 0.7242 - val_loss: 1.0562 - val_probe_loss: 1.0562 - val_probe_sparse_categorical_accuracy: 0.6408\n",
            "Epoch 8/25\n",
            "250/250 [==============================] - 7s 28ms/step - loss: 0.7514 - probe_loss: 0.7514 - probe_sparse_categorical_accuracy: 0.7419 - val_loss: 1.0493 - val_probe_loss: 1.0493 - val_probe_sparse_categorical_accuracy: 0.6443\n",
            "Epoch 9/25\n",
            "250/250 [==============================] - 9s 37ms/step - loss: 0.7097 - probe_loss: 0.7097 - probe_sparse_categorical_accuracy: 0.7557 - val_loss: 1.0539 - val_probe_loss: 1.0539 - val_probe_sparse_categorical_accuracy: 0.6409\n",
            "Epoch 10/25\n",
            "250/250 [==============================] - 9s 37ms/step - loss: 0.6704 - probe_loss: 0.6704 - probe_sparse_categorical_accuracy: 0.7702 - val_loss: 1.0720 - val_probe_loss: 1.0720 - val_probe_sparse_categorical_accuracy: 0.6439\n",
            "Epoch 11/25\n",
            "250/250 [==============================] - 7s 29ms/step - loss: 0.6267 - probe_loss: 0.6267 - probe_sparse_categorical_accuracy: 0.7843 - val_loss: 1.1012 - val_probe_loss: 1.1012 - val_probe_sparse_categorical_accuracy: 0.6332\n",
            "Epoch 12/25\n",
            "250/250 [==============================] - 12s 48ms/step - loss: 0.5943 - probe_loss: 0.5943 - probe_sparse_categorical_accuracy: 0.7972 - val_loss: 1.1134 - val_probe_loss: 1.1134 - val_probe_sparse_categorical_accuracy: 0.6378\n",
            "Epoch 13/25\n",
            "250/250 [==============================] - 9s 37ms/step - loss: 0.5570 - probe_loss: 0.5570 - probe_sparse_categorical_accuracy: 0.8093 - val_loss: 1.1059 - val_probe_loss: 1.1059 - val_probe_sparse_categorical_accuracy: 0.6478\n",
            "Epoch 14/25\n",
            "250/250 [==============================] - 7s 29ms/step - loss: 0.5222 - probe_loss: 0.5222 - probe_sparse_categorical_accuracy: 0.8262 - val_loss: 1.1509 - val_probe_loss: 1.1509 - val_probe_sparse_categorical_accuracy: 0.6355\n",
            "Epoch 15/25\n",
            "250/250 [==============================] - 7s 29ms/step - loss: 0.4913 - probe_loss: 0.4913 - probe_sparse_categorical_accuracy: 0.8329 - val_loss: 1.2095 - val_probe_loss: 1.2095 - val_probe_sparse_categorical_accuracy: 0.6285\n",
            "Epoch 16/25\n",
            "250/250 [==============================] - 7s 29ms/step - loss: 0.4604 - probe_loss: 0.4604 - probe_sparse_categorical_accuracy: 0.8449 - val_loss: 1.1808 - val_probe_loss: 1.1808 - val_probe_sparse_categorical_accuracy: 0.6413\n",
            "Epoch 17/25\n",
            "250/250 [==============================] - 7s 29ms/step - loss: 0.4238 - probe_loss: 0.4238 - probe_sparse_categorical_accuracy: 0.8576 - val_loss: 1.2419 - val_probe_loss: 1.2419 - val_probe_sparse_categorical_accuracy: 0.6386\n",
            "Epoch 18/25\n",
            "250/250 [==============================] - 7s 29ms/step - loss: 0.3988 - probe_loss: 0.3988 - probe_sparse_categorical_accuracy: 0.8680 - val_loss: 1.2686 - val_probe_loss: 1.2686 - val_probe_sparse_categorical_accuracy: 0.6325\n",
            "Epoch 19/25\n",
            "250/250 [==============================] - 7s 29ms/step - loss: 0.3703 - probe_loss: 0.3703 - probe_sparse_categorical_accuracy: 0.8779 - val_loss: 1.3341 - val_probe_loss: 1.3341 - val_probe_sparse_categorical_accuracy: 0.6306\n",
            "Epoch 20/25\n",
            "250/250 [==============================] - 7s 29ms/step - loss: 0.3469 - probe_loss: 0.3469 - probe_sparse_categorical_accuracy: 0.8884 - val_loss: 1.3364 - val_probe_loss: 1.3364 - val_probe_sparse_categorical_accuracy: 0.6328\n",
            "Epoch 21/25\n",
            "250/250 [==============================] - 7s 29ms/step - loss: 0.3134 - probe_loss: 0.3134 - probe_sparse_categorical_accuracy: 0.8995 - val_loss: 1.4097 - val_probe_loss: 1.4097 - val_probe_sparse_categorical_accuracy: 0.6277\n",
            "Epoch 22/25\n",
            "250/250 [==============================] - 7s 29ms/step - loss: 0.2974 - probe_loss: 0.2974 - probe_sparse_categorical_accuracy: 0.9043 - val_loss: 1.4298 - val_probe_loss: 1.4298 - val_probe_sparse_categorical_accuracy: 0.6273\n",
            "Epoch 23/25\n",
            "250/250 [==============================] - 7s 29ms/step - loss: 0.2673 - probe_loss: 0.2673 - probe_sparse_categorical_accuracy: 0.9159 - val_loss: 1.4952 - val_probe_loss: 1.4952 - val_probe_sparse_categorical_accuracy: 0.6287\n",
            "Epoch 24/25\n",
            "250/250 [==============================] - 7s 29ms/step - loss: 0.2463 - probe_loss: 0.2463 - probe_sparse_categorical_accuracy: 0.9237 - val_loss: 1.5389 - val_probe_loss: 1.5389 - val_probe_sparse_categorical_accuracy: 0.6247\n",
            "Epoch 25/25\n",
            "250/250 [==============================] - 7s 29ms/step - loss: 0.2261 - probe_loss: 0.2261 - probe_sparse_categorical_accuracy: 0.9309 - val_loss: 1.6241 - val_probe_loss: 1.6241 - val_probe_sparse_categorical_accuracy: 0.6214\n"
          ]
        }
      ],
      "metadata": {
        "id": "Es3hg9Q15ewV"
      }
    },
    {
      "cell_type": "markdown",
      "source": [
        "## Run the non-spiking network"
      ],
      "metadata": {}
    },
    {
      "cell_type": "code",
      "execution_count": 20,
      "source": [
        "def run_network(\r\n",
        "    activation,\r\n",
        "    params_file=\"lpf-and-scaling_params\",\r\n",
        "    n_steps=30,\r\n",
        "    scale_firing_rates=1,\r\n",
        "    synapse=None,\r\n",
        "    n_test=400,\r\n",
        "):\r\n",
        "    # convert the keras model to a nengo network\r\n",
        "    nengo_converter = nengo_dl.Converter(\r\n",
        "        model,\r\n",
        "        swap_activations={tf.nn.relu: activation},\r\n",
        "        scale_firing_rates=scale_firing_rates,\r\n",
        "        synapse=synapse,\r\n",
        "    )\r\n",
        "\r\n",
        "    # get input/output objects\r\n",
        "    nengo_input = nengo_converter.inputs[inp]\r\n",
        "    nengo_output = nengo_converter.outputs[out]\r\n",
        "\r\n",
        "    # repeat inputs for some number of timesteps\r\n",
        "    tiled_test_images = np.tile(test_images[:n_test], (1, n_steps, 1))\r\n",
        "\r\n",
        "    # set some options to speed up simulation\r\n",
        "    with nengo_converter.net:\r\n",
        "        nengo_dl.configure_settings(stateful=False)\r\n",
        "\r\n",
        "    # build network, load in trained weights, run inference on test images\r\n",
        "    with nengo_dl.Simulator(\r\n",
        "        nengo_converter.net, minibatch_size=10, progress_bar=False\r\n",
        "    ) as nengo_sim:\r\n",
        "        nengo_sim.load_params(params_file)\r\n",
        "        data = nengo_sim.predict({nengo_input: tiled_test_images})\r\n",
        "\r\n",
        "    # compute accuracy on test data, using output of network on\r\n",
        "    # last timestep\r\n",
        "    predictions = np.argmax(data[nengo_output][:, -1], axis=-1)\r\n",
        "    accuracy = (predictions == test_labels[:n_test, 0, 0]).mean()\r\n",
        "    print(f\"    test accuracy: {100 * accuracy:.2f}%\")\r\n",
        "\r\n",
        "    return accuracy"
      ],
      "outputs": [],
      "metadata": {
        "id": "QnjBzML95ewX"
      }
    },
    {
      "cell_type": "code",
      "execution_count": 21,
      "source": [
        "run_network(activation=nengo.RectifiedLinear(), n_steps=10)"
      ],
      "outputs": [
        {
          "output_type": "stream",
          "name": "stdout",
          "text": [
            "    test accuracy: 59.00%\n"
          ]
        },
        {
          "output_type": "execute_result",
          "data": {
            "text/plain": [
              "0.59"
            ]
          },
          "metadata": {},
          "execution_count": 21
        }
      ],
      "metadata": {
        "id": "4vChmAYq5ewY"
      }
    },
    {
      "cell_type": "markdown",
      "source": [
        "## Apply synaptic smoothing and scale firing rates"
      ],
      "metadata": {}
    },
    {
      "cell_type": "code",
      "execution_count": 130,
      "source": [
        "# specify the size of the grid: (synapse, scale_firing_rates)\r\n",
        "grid_size = (10, 10)\r\n",
        "scaling_baseline = 1\r\n",
        "synapse_increment = 0.01 # synapse_increment was 0.005 for 20x20\r\n",
        "                            # = 0.001 for 10x10_zoomed_out\r\n",
        "                            # = 0.003 for long\r\n",
        "\r\n",
        "synapse_values = [synapse_increment*x for x in range(grid_size[0])]\r\n",
        "scale_firing_rates_values = range(1, 100, 10) # 10 to 30 for 20x20, 20 to 30 for 10x10_zoomed_out, 20 to 40 for long\r\n",
        "accuracy_grid = []\r\n",
        "\r\n",
        "for synapse in synapse_values:\r\n",
        "    print(f\"Synapse={synapse:.3f}\")\r\n",
        "    accuracy_grid.append([])\r\n",
        "\r\n",
        "    for scale_firing_rates in scale_firing_rates_values:\r\n",
        "        print(f\"  Scale firing rates={scale_firing_rates:.3f}\")\r\n",
        "        accuracy = run_network(\r\n",
        "                        activation=nengo.SpikingRectifiedLinear(),\r\n",
        "                        n_steps=60,\r\n",
        "                        synapse=synapse,\r\n",
        "                        scale_firing_rates=scale_firing_rates)         \r\n",
        "        accuracy_grid[-1].append(accuracy)"
      ],
      "outputs": [
        {
          "output_type": "stream",
          "name": "stdout",
          "text": [
            "Synapse=0.000\n",
            "  Scale firing rates=1.000\n",
            "    test accuracy: 7.50%\n",
            "  Scale firing rates=11.000\n",
            "    test accuracy: 12.25%\n",
            "  Scale firing rates=21.000\n",
            "    test accuracy: 14.25%\n",
            "  Scale firing rates=31.000\n",
            "    test accuracy: 15.50%\n",
            "  Scale firing rates=41.000\n",
            "    test accuracy: 18.25%\n",
            "  Scale firing rates=51.000\n",
            "    test accuracy: 18.75%\n",
            "  Scale firing rates=61.000\n",
            "    test accuracy: 20.00%\n",
            "  Scale firing rates=71.000\n",
            "    test accuracy: 25.25%\n",
            "  Scale firing rates=81.000\n",
            "    test accuracy: 24.50%\n",
            "  Scale firing rates=91.000\n",
            "    test accuracy: 29.75%\n",
            "Synapse=0.010\n",
            "  Scale firing rates=1.000\n",
            "    test accuracy: 7.50%\n",
            "  Scale firing rates=11.000\n",
            "    test accuracy: 17.00%\n",
            "  Scale firing rates=21.000\n",
            "    test accuracy: 36.00%\n",
            "  Scale firing rates=31.000\n",
            "    test accuracy: 45.25%\n",
            "  Scale firing rates=41.000\n",
            "    test accuracy: 51.25%\n",
            "  Scale firing rates=51.000\n",
            "    test accuracy: 54.00%\n",
            "  Scale firing rates=61.000\n",
            "    test accuracy: 54.50%\n",
            "  Scale firing rates=71.000\n",
            "    test accuracy: 54.75%\n",
            "  Scale firing rates=81.000\n",
            "    test accuracy: 54.50%\n",
            "  Scale firing rates=91.000\n",
            "    test accuracy: 56.25%\n",
            "Synapse=0.020\n",
            "  Scale firing rates=1.000\n",
            "    test accuracy: 7.50%\n",
            "  Scale firing rates=11.000\n",
            "    test accuracy: 15.25%\n",
            "  Scale firing rates=21.000\n",
            "    test accuracy: 35.75%\n",
            "  Scale firing rates=31.000\n",
            "    test accuracy: 44.00%\n",
            "  Scale firing rates=41.000\n",
            "    test accuracy: 45.75%\n",
            "  Scale firing rates=51.000\n",
            "    test accuracy: 50.25%\n",
            "  Scale firing rates=61.000\n",
            "    test accuracy: 52.75%\n",
            "  Scale firing rates=71.000\n",
            "    test accuracy: 54.25%\n",
            "  Scale firing rates=81.000\n",
            "    test accuracy: 53.75%\n",
            "  Scale firing rates=91.000\n",
            "    test accuracy: 55.50%\n",
            "Synapse=0.030\n",
            "  Scale firing rates=1.000\n",
            "    test accuracy: 7.50%\n",
            "  Scale firing rates=11.000\n",
            "    test accuracy: 14.25%\n",
            "  Scale firing rates=21.000\n",
            "    test accuracy: 33.00%\n",
            "  Scale firing rates=31.000\n",
            "    test accuracy: 43.00%\n",
            "  Scale firing rates=41.000\n",
            "    test accuracy: 46.25%\n",
            "  Scale firing rates=51.000\n",
            "    test accuracy: 46.50%\n",
            "  Scale firing rates=61.000\n",
            "    test accuracy: 52.00%\n",
            "  Scale firing rates=71.000\n",
            "    test accuracy: 52.25%\n",
            "  Scale firing rates=81.000\n",
            "    test accuracy: 52.25%\n",
            "  Scale firing rates=91.000\n",
            "    test accuracy: 52.75%\n",
            "Synapse=0.040\n",
            "  Scale firing rates=1.000\n",
            "    test accuracy: 7.50%\n",
            "  Scale firing rates=11.000\n",
            "    test accuracy: 9.50%\n",
            "  Scale firing rates=21.000\n",
            "    test accuracy: 31.50%\n",
            "  Scale firing rates=31.000\n",
            "    test accuracy: 43.75%\n",
            "  Scale firing rates=41.000\n",
            "    test accuracy: 45.00%\n",
            "  Scale firing rates=51.000\n",
            "    test accuracy: 49.25%\n",
            "  Scale firing rates=61.000\n",
            "    test accuracy: 50.75%\n",
            "  Scale firing rates=71.000\n",
            "    test accuracy: 51.25%\n",
            "  Scale firing rates=81.000\n",
            "    test accuracy: 51.75%\n",
            "  Scale firing rates=91.000\n",
            "    test accuracy: 53.00%\n",
            "Synapse=0.050\n",
            "  Scale firing rates=1.000\n",
            "    test accuracy: 7.50%\n",
            "  Scale firing rates=11.000\n",
            "    test accuracy: 9.50%\n",
            "  Scale firing rates=21.000\n",
            "    test accuracy: 29.50%\n",
            "  Scale firing rates=31.000\n",
            "    test accuracy: 42.00%\n",
            "  Scale firing rates=41.000\n",
            "    test accuracy: 45.75%\n",
            "  Scale firing rates=51.000\n",
            "    test accuracy: 47.25%\n",
            "  Scale firing rates=61.000\n",
            "    test accuracy: 50.50%\n",
            "  Scale firing rates=71.000\n",
            "    test accuracy: 51.75%\n",
            "  Scale firing rates=81.000\n",
            "    test accuracy: 54.25%\n",
            "  Scale firing rates=91.000\n",
            "    test accuracy: 53.50%\n",
            "Synapse=0.060\n",
            "  Scale firing rates=1.000\n",
            "    test accuracy: 7.50%\n",
            "  Scale firing rates=11.000\n",
            "    test accuracy: 8.50%\n",
            "  Scale firing rates=21.000\n",
            "    test accuracy: 26.00%\n",
            "  Scale firing rates=31.000\n",
            "    test accuracy: 41.25%\n",
            "  Scale firing rates=41.000\n",
            "    test accuracy: 44.00%\n",
            "  Scale firing rates=51.000\n",
            "    test accuracy: 45.00%\n",
            "  Scale firing rates=61.000\n",
            "    test accuracy: 50.50%\n",
            "  Scale firing rates=71.000\n",
            "    test accuracy: 51.75%\n",
            "  Scale firing rates=81.000\n",
            "    test accuracy: 52.25%\n",
            "  Scale firing rates=91.000\n",
            "    test accuracy: 52.00%\n",
            "Synapse=0.070\n",
            "  Scale firing rates=1.000\n",
            "    test accuracy: 7.50%\n",
            "  Scale firing rates=11.000\n",
            "    test accuracy: 8.00%\n",
            "  Scale firing rates=21.000\n",
            "    test accuracy: 24.50%\n",
            "  Scale firing rates=31.000\n",
            "    test accuracy: 38.25%\n",
            "  Scale firing rates=41.000\n",
            "    test accuracy: 45.50%\n",
            "  Scale firing rates=51.000\n",
            "    test accuracy: 46.75%\n",
            "  Scale firing rates=61.000\n",
            "    test accuracy: 49.50%\n",
            "  Scale firing rates=71.000\n",
            "    test accuracy: 50.75%\n",
            "  Scale firing rates=81.000\n",
            "    test accuracy: 51.50%\n",
            "  Scale firing rates=91.000\n",
            "    test accuracy: 52.00%\n",
            "Synapse=0.080\n",
            "  Scale firing rates=1.000\n",
            "    test accuracy: 7.50%\n",
            "  Scale firing rates=11.000\n",
            "    test accuracy: 7.50%\n",
            "  Scale firing rates=21.000\n",
            "    test accuracy: 22.50%\n",
            "  Scale firing rates=31.000\n",
            "    test accuracy: 36.00%\n",
            "  Scale firing rates=41.000\n",
            "    test accuracy: 43.50%\n",
            "  Scale firing rates=51.000\n",
            "    test accuracy: 45.50%\n",
            "  Scale firing rates=61.000\n",
            "    test accuracy: 47.25%\n",
            "  Scale firing rates=71.000\n",
            "    test accuracy: 51.75%\n",
            "  Scale firing rates=81.000\n",
            "    test accuracy: 52.50%\n",
            "  Scale firing rates=91.000\n",
            "    test accuracy: 52.75%\n",
            "Synapse=0.090\n",
            "  Scale firing rates=1.000\n",
            "    test accuracy: 7.50%\n",
            "  Scale firing rates=11.000\n",
            "    test accuracy: 7.50%\n",
            "  Scale firing rates=21.000\n",
            "    test accuracy: 17.25%\n",
            "  Scale firing rates=31.000\n",
            "    test accuracy: 36.25%\n",
            "  Scale firing rates=41.000\n",
            "    test accuracy: 42.25%\n",
            "  Scale firing rates=51.000\n",
            "    test accuracy: 44.50%\n",
            "  Scale firing rates=61.000\n",
            "    test accuracy: 47.75%\n",
            "  Scale firing rates=71.000\n",
            "    test accuracy: 50.75%\n",
            "  Scale firing rates=81.000\n",
            "    test accuracy: 50.25%\n",
            "  Scale firing rates=91.000\n",
            "    test accuracy: 52.25%\n"
          ]
        }
      ],
      "metadata": {}
    },
    {
      "cell_type": "markdown",
      "source": [
        "7/14/2021 1:46PM: For the 10x20 grid, synapse_incement = 0.001, scaling_baseline = 1, grid_size = (10, 40)\r\n",
        "1 hour computing time"
      ],
      "metadata": {}
    },
    {
      "cell_type": "code",
      "execution_count": 175,
      "source": [
        "accuracy_grid = np.matrix(accuracy_grid_10x10_zoomed_out)\r\n",
        "\r\n",
        "fig, ax = plt.subplots(1,1)\r\n",
        "\r\n",
        "plt.xlabel(\"scale_firing_rates\")\r\n",
        "plt.ylabel(\"synapse (s)\")\r\n",
        "plt.title(\"CIFAR-10 Test Acc. of SNN (CNN=59%)\")\r\n",
        "\r\n",
        "ax.set_xticklabels([1, 1, 21, 41, 61, 81])\r\n",
        "ax.set_yticklabels([0, 0, 0.02, 0.04, 0.06, 0.08])\r\n",
        "\r\n",
        "rect = plt.Rectangle((-0.45, -0.45), 3.99,2, fill=False, color='red', linewidth=2, zorder=2)\r\n",
        "ax = ax or plt.gca()\r\n",
        "ax.add_patch(rect)\r\n",
        "\r\n",
        "img = ax.imshow(accuracy_grid, origin='lower')\r\n",
        "fig.colorbar(img)\r\n",
        "plt.savefig(\"./accuracy_grid\", dpi=400)"
      ],
      "outputs": [
        {
          "output_type": "display_data",
          "data": {
            "text/plain": [
              "<Figure size 432x288 with 2 Axes>"
            ],
            "image/png": "[encoded data removed]"
          },
          "metadata": {}
        }
      ],
      "metadata": {}
    },
    {
      "cell_type": "code",
      "execution_count": 172,
      "source": [
        "accuracy_grid = np.matrix(accuracy_grid_10x40)\r\n",
        "\r\n",
        "fig, ax = plt.subplots(1,1)\r\n",
        "\r\n",
        "plt.xlabel(\"scale_firing_rates\")\r\n",
        "plt.ylabel(\"synapse (s)\")\r\n",
        "plt.title(\"Accuracy of spiking network\")\r\n",
        "\r\n",
        "ax.set_xticklabels([1, 1, 6, 11, 16, 21, 26, 31, 36])\r\n",
        "ax.set_yticklabels([0, 0, 0.005])\r\n",
        "\r\n",
        "img = ax.imshow(accuracy_grid, origin='lower')\r\n",
        "fig.colorbar(img)\r\n",
        "plt.savefig(\"./accuracy_grid_zoomed\", dpi=400)"
      ],
      "outputs": [
        {
          "output_type": "display_data",
          "data": {
            "text/plain": [
              "<Figure size 432x288 with 2 Axes>"
            ],
            "image/png": "[encoded data removed]"
          },
          "metadata": {}
        }
      ],
      "metadata": {}
    },
    {
      "cell_type": "code",
      "execution_count": 115,
      "source": [
        "accuracy_grid_10x40 = accuracy_grid"
      ],
      "outputs": [],
      "metadata": {}
    },
    {
      "cell_type": "code",
      "execution_count": 128,
      "source": [
        "accuracy_grid_10x10 = accuracy_grid"
      ],
      "outputs": [],
      "metadata": {}
    },
    {
      "cell_type": "code",
      "execution_count": 131,
      "source": [
        "accuracy_grid_10x10_zoomed_out = accuracy_grid"
      ],
      "outputs": [],
      "metadata": {}
    }
  ],
  "metadata": {
    "colab": {
      "name": "keras-to-snn.ipynb",
      "provenance": []
    },
    "interpreter": {
      "hash": "26130839a7e87fd59e038942810dbb4909e5232b32b1ad521e6a6bc3043702c6"
    },
    "kernelspec": {
      "display_name": "Python 3.6.5 64-bit ('base': conda)",
      "name": "python3"
    },
    "language_info": {
      "codemirror_mode": {
        "name": "ipython",
        "version": 3
      },
      "file_extension": ".py",
      "mimetype": "text/x-python",
      "name": "python",
      "nbconvert_exporter": "python",
      "pygments_lexer": "ipython3",
      "version": "3.6.5"
    }
  },
  "nbformat": 4,
  "nbformat_minor": 2
}