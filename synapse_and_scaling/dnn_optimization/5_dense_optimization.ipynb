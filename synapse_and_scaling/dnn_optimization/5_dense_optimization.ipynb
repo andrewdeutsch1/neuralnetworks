{
  "cells": [
    {
      "cell_type": "markdown",
      "source": [
        "# Testing the effects of low-pass filters and scaling of firing rates on the accuracy of a converted spiking DNN"
      ],
      "metadata": {
        "id": "dcnlPIjC5ewO"
      }
    },
    {
      "cell_type": "markdown",
      "source": [
        "## Initialize data"
      ],
      "metadata": {}
    },
    {
      "cell_type": "code",
      "execution_count": 2,
      "source": [
        "import matplotlib.pyplot as plt\r\n",
        "import nengo\r\n",
        "import numpy as np\r\n",
        "import tensorflow as tf\r\n",
        "import nengo_dl\r\n",
        "\r\n",
        "seed = 0\r\n",
        "np.random.seed(seed)\r\n",
        "tf.random.set_seed(seed)"
      ],
      "outputs": [],
      "metadata": {
        "id": "z0oTxL6w5ewR"
      }
    },
    {
      "cell_type": "code",
      "execution_count": 3,
      "source": [
        "tf.keras.backend.clear_session()"
      ],
      "outputs": [],
      "metadata": {}
    },
    {
      "cell_type": "code",
      "execution_count": 4,
      "source": [
        "# obtain images\r\n",
        "(train_images, train_labels), (test_images,test_labels) = tf.keras.datasets.cifar10.load_data()\r\n",
        "\r\n",
        "# normalize data by color channel\r\n",
        "def normalize(array):\r\n",
        "    return (array - np.mean(array)) / np.std(array)\r\n",
        "\r\n",
        "train_images_R = normalize(train_images.transpose()[0].transpose())\r\n",
        "train_images_G = normalize(train_images.transpose()[1].transpose())\r\n",
        "train_images_B = normalize(train_images.transpose()[2].transpose())\r\n",
        "test_images_R = normalize(test_images.transpose()[0].transpose())\r\n",
        "test_images_G = normalize(test_images.transpose()[1].transpose())\r\n",
        "test_images_B = normalize(test_images.transpose()[2].transpose())\r\n",
        "\r\n",
        "train_images = np.array([train_images_R, train_images_G, train_images_B])\r\n",
        "test_images = np.array([test_images_R, test_images_G, test_images_B])\r\n",
        "\r\n",
        "train_images = np.moveaxis(train_images, 0, -1)\r\n",
        "test_images = np.moveaxis(test_images, 0, -1)\r\n",
        "\r\n",
        "# verify normalization\r\n",
        "print((train_images.shape, train_labels.shape), (test_images.shape, test_labels.shape))\r\n",
        "print('test mean:', np.mean(train_images))\r\n",
        "print('test stdv:', np.std(train_images))\r\n",
        "print('train mean:', np.mean(test_images))\r\n",
        "print('train stdv:', np.std(test_images))"
      ],
      "outputs": [
        {
          "output_type": "stream",
          "name": "stdout",
          "text": [
            "((50000, 32, 32, 3), (50000, 1)) ((10000, 32, 32, 3), (10000, 1))\n",
            "test mean: 5.4830214442821065e-17\n",
            "test stdv: 1.0000000000000002\n",
            "train mean: 8.14903700074865e-18\n",
            "train stdv: 1.0000000000000002\n"
          ]
        }
      ],
      "metadata": {}
    },
    {
      "cell_type": "code",
      "execution_count": 5,
      "source": [
        "# flatten images and add time dimension\r\n",
        "train_images = train_images.reshape((train_images.shape[0], 1, -1))\r\n",
        "train_labels = train_labels.reshape((train_labels.shape[0], 1, -1))\r\n",
        "test_images = test_images.reshape((test_images.shape[0], 1, -1))\r\n",
        "test_labels = test_labels.reshape((test_labels.shape[0], 1, -1))\r\n",
        "\r\n",
        "print((train_images.shape, train_labels.shape), (test_images.shape, test_labels.shape))"
      ],
      "outputs": [
        {
          "output_type": "stream",
          "name": "stdout",
          "text": [
            "((50000, 1, 3072), (50000, 1, 1)) ((10000, 1, 3072), (10000, 1, 1))\n"
          ]
        }
      ],
      "metadata": {
        "id": "MYgW3rU55ewS"
      }
    },
    {
      "cell_type": "markdown",
      "source": [
        "## Build network and convert to nengo-dl"
      ],
      "metadata": {}
    },
    {
      "cell_type": "code",
      "execution_count": 6,
      "source": [
        "inp = tf.keras.Input(shape=(32, 32, 3))\r\n",
        "\r\n",
        "flatten = tf.keras.layers.Flatten()(inp)\r\n",
        "\r\n",
        "dense0 = tf.keras.layers.Dense(units=3000, activation=tf.nn.relu)(flatten)\r\n",
        "dense1 = tf.keras.layers.Dense(units=1500, activation=tf.nn.relu)(dense0)\r\n",
        "dense2 = tf.keras.layers.Dense(units=750, activation=tf.nn.relu)(dense1)\r\n",
        "dense3 = tf.keras.layers.Dense(units=375, activation=tf.nn.relu)(dense2)\r\n",
        "dense4 = tf.keras.layers.Dense(units=188, activation=tf.nn.relu)(dense3)\r\n",
        "\r\n",
        "out = tf.keras.layers.Dense(units=10)(dense4)\r\n",
        "\r\n",
        "model = tf.keras.Model(inputs=inp, outputs=out)"
      ],
      "outputs": [],
      "metadata": {
        "id": "JZ_bK1AB5ewU"
      }
    },
    {
      "cell_type": "code",
      "execution_count": 45,
      "source": [
        "converter = nengo_dl.Converter(model)"
      ],
      "outputs": [],
      "metadata": {
        "id": "seOy_LqT5ewV"
      }
    },
    {
      "cell_type": "markdown",
      "source": [
        "## Train the non-spiking network"
      ],
      "metadata": {}
    },
    {
      "cell_type": "code",
      "execution_count": 66,
      "source": [
        "with nengo_dl.Simulator(converter.net, minibatch_size=200) as sim:\r\n",
        "    \r\n",
        "    sim.compile(\r\n",
        "        optimizer=tf.optimizers.Adam(0.001),\r\n",
        "        loss=tf.losses.SparseCategoricalCrossentropy(from_logits=True),\r\n",
        "        metrics=[tf.metrics.sparse_categorical_accuracy]\r\n",
        "    )\r\n",
        "\r\n",
        "    sim.fit(\r\n",
        "        {converter.inputs[inp]: train_images},\r\n",
        "        {converter.outputs[out]: train_labels},\r\n",
        "        validation_data=({converter.inputs[inp]: test_images}, {converter.outputs[out]: test_labels}),\r\n",
        "        epochs=20\r\n",
        "    )\r\n",
        "\r\n",
        "    # save the parameters\r\n",
        "    sim.save_params(\"./5_dense_params\")"
      ],
      "outputs": [
        {
          "output_type": "stream",
          "name": "stdout",
          "text": [
            "Build finished in 0:00:00                                                      \n",
            "Optimization finished in 0:00:00                                               \n",
            "Construction finished in 0:00:00                                               \n",
            "Epoch 1/20\n",
            "250/250 [==============================] - 12s 36ms/step - loss: 2.0471 - probe_loss: 2.0471 - probe_sparse_categorical_accuracy: 0.3197 - val_loss: 1.5400 - val_probe_loss: 1.5400 - val_probe_sparse_categorical_accuracy: 0.4492\n",
            "Epoch 2/20\n",
            "250/250 [==============================] - 8s 33ms/step - loss: 1.5017 - probe_loss: 1.5017 - probe_sparse_categorical_accuracy: 0.4695 - val_loss: 1.4491 - val_probe_loss: 1.4491 - val_probe_sparse_categorical_accuracy: 0.4940\n",
            "Epoch 3/20\n",
            "250/250 [==============================] - 8s 34ms/step - loss: 1.3647 - probe_loss: 1.3647 - probe_sparse_categorical_accuracy: 0.5155 - val_loss: 1.4046 - val_probe_loss: 1.4046 - val_probe_sparse_categorical_accuracy: 0.5100\n",
            "Epoch 4/20\n",
            "250/250 [==============================] - 16s 66ms/step - loss: 1.2671 - probe_loss: 1.2671 - probe_sparse_categorical_accuracy: 0.5513 - val_loss: 1.3754 - val_probe_loss: 1.3754 - val_probe_sparse_categorical_accuracy: 0.5150\n",
            "Epoch 5/20\n",
            "250/250 [==============================] - 13s 53ms/step - loss: 1.1679 - probe_loss: 1.1679 - probe_sparse_categorical_accuracy: 0.5869 - val_loss: 1.3624 - val_probe_loss: 1.3624 - val_probe_sparse_categorical_accuracy: 0.5228\n",
            "Epoch 6/20\n",
            "250/250 [==============================] - 10s 41ms/step - loss: 1.1047 - probe_loss: 1.1047 - probe_sparse_categorical_accuracy: 0.6076 - val_loss: 1.3271 - val_probe_loss: 1.3271 - val_probe_sparse_categorical_accuracy: 0.5367\n",
            "Epoch 7/20\n",
            "250/250 [==============================] - 10s 41ms/step - loss: 1.0127 - probe_loss: 1.0127 - probe_sparse_categorical_accuracy: 0.6390 - val_loss: 1.3821 - val_probe_loss: 1.3821 - val_probe_sparse_categorical_accuracy: 0.5318\n",
            "Epoch 8/20\n",
            "250/250 [==============================] - 9s 36ms/step - loss: 0.9325 - probe_loss: 0.9325 - probe_sparse_categorical_accuracy: 0.6690 - val_loss: 1.3724 - val_probe_loss: 1.3724 - val_probe_sparse_categorical_accuracy: 0.5392\n",
            "Epoch 9/20\n",
            "250/250 [==============================] - 9s 34ms/step - loss: 0.8725 - probe_loss: 0.8725 - probe_sparse_categorical_accuracy: 0.6883 - val_loss: 1.4754 - val_probe_loss: 1.4754 - val_probe_sparse_categorical_accuracy: 0.5245\n",
            "Epoch 10/20\n",
            "250/250 [==============================] - 9s 38ms/step - loss: 0.8076 - probe_loss: 0.8076 - probe_sparse_categorical_accuracy: 0.7114 - val_loss: 1.4549 - val_probe_loss: 1.4549 - val_probe_sparse_categorical_accuracy: 0.5494\n",
            "Epoch 11/20\n",
            "250/250 [==============================] - 9s 35ms/step - loss: 0.7385 - probe_loss: 0.7385 - probe_sparse_categorical_accuracy: 0.7374 - val_loss: 1.5967 - val_probe_loss: 1.5967 - val_probe_sparse_categorical_accuracy: 0.5411\n",
            "Epoch 12/20\n",
            "250/250 [==============================] - 9s 35ms/step - loss: 0.6799 - probe_loss: 0.6799 - probe_sparse_categorical_accuracy: 0.7593 - val_loss: 1.5655 - val_probe_loss: 1.5655 - val_probe_sparse_categorical_accuracy: 0.5412\n",
            "Epoch 13/20\n",
            "250/250 [==============================] - 9s 35ms/step - loss: 0.6172 - probe_loss: 0.6172 - probe_sparse_categorical_accuracy: 0.7803 - val_loss: 1.7223 - val_probe_loss: 1.7223 - val_probe_sparse_categorical_accuracy: 0.5385\n",
            "Epoch 14/20\n",
            "250/250 [==============================] - 9s 36ms/step - loss: 0.5756 - probe_loss: 0.5756 - probe_sparse_categorical_accuracy: 0.7939 - val_loss: 1.7174 - val_probe_loss: 1.7174 - val_probe_sparse_categorical_accuracy: 0.5419\n",
            "Epoch 15/20\n",
            "250/250 [==============================] - 9s 36ms/step - loss: 0.5180 - probe_loss: 0.5180 - probe_sparse_categorical_accuracy: 0.8172 - val_loss: 1.7598 - val_probe_loss: 1.7598 - val_probe_sparse_categorical_accuracy: 0.5549\n",
            "Epoch 16/20\n",
            "250/250 [==============================] - 9s 35ms/step - loss: 0.4856 - probe_loss: 0.4856 - probe_sparse_categorical_accuracy: 0.8276 - val_loss: 1.8793 - val_probe_loss: 1.8793 - val_probe_sparse_categorical_accuracy: 0.5419\n",
            "Epoch 17/20\n",
            "250/250 [==============================] - 9s 38ms/step - loss: 0.4499 - probe_loss: 0.4499 - probe_sparse_categorical_accuracy: 0.8410 - val_loss: 2.0160 - val_probe_loss: 2.0160 - val_probe_sparse_categorical_accuracy: 0.5495\n",
            "Epoch 18/20\n",
            "250/250 [==============================] - 9s 37ms/step - loss: 0.3997 - probe_loss: 0.3997 - probe_sparse_categorical_accuracy: 0.8575 - val_loss: 1.9844 - val_probe_loss: 1.9844 - val_probe_sparse_categorical_accuracy: 0.5468\n",
            "Epoch 19/20\n",
            "250/250 [==============================] - 10s 41ms/step - loss: 0.3659 - probe_loss: 0.3659 - probe_sparse_categorical_accuracy: 0.8715 - val_loss: 2.1740 - val_probe_loss: 2.1740 - val_probe_sparse_categorical_accuracy: 0.5447\n",
            "Epoch 20/20\n",
            "250/250 [==============================] - 9s 36ms/step - loss: 0.3609 - probe_loss: 0.3609 - probe_sparse_categorical_accuracy: 0.8743 - val_loss: 2.1449 - val_probe_loss: 2.1449 - val_probe_sparse_categorical_accuracy: 0.5542\n"
          ]
        }
      ],
      "metadata": {
        "id": "Es3hg9Q15ewV"
      }
    },
    {
      "cell_type": "markdown",
      "source": [
        "## Run the non-spiking network"
      ],
      "metadata": {}
    },
    {
      "cell_type": "code",
      "execution_count": 7,
      "source": [
        "def run_network(\r\n",
        "    activation,\r\n",
        "    params_file=\"5_dense_params\",\r\n",
        "    n_steps=30,\r\n",
        "    scale_firing_rates=1,\r\n",
        "    synapse=None,\r\n",
        "    n_test=400,\r\n",
        "):\r\n",
        "    # convert the keras model to a nengo network\r\n",
        "    nengo_converter = nengo_dl.Converter(\r\n",
        "        model,\r\n",
        "        swap_activations={tf.nn.relu: activation},\r\n",
        "        scale_firing_rates=scale_firing_rates,\r\n",
        "        synapse=synapse,\r\n",
        "    )\r\n",
        "\r\n",
        "    # get input/output objects\r\n",
        "    nengo_input = nengo_converter.inputs[inp]\r\n",
        "    nengo_output = nengo_converter.outputs[out]\r\n",
        "\r\n",
        "    # repeat inputs for some number of timesteps\r\n",
        "    tiled_test_images = np.tile(test_images[:n_test], (1, n_steps, 1))\r\n",
        "\r\n",
        "    # set some options to speed up simulation\r\n",
        "    with nengo_converter.net:\r\n",
        "        nengo_dl.configure_settings(stateful=False)\r\n",
        "\r\n",
        "    # build network, load in trained weights, run inference on test images\r\n",
        "    with nengo_dl.Simulator(\r\n",
        "        nengo_converter.net, minibatch_size=10, progress_bar=False\r\n",
        "    ) as nengo_sim:\r\n",
        "        nengo_sim.load_params(params_file)\r\n",
        "        data = nengo_sim.predict({nengo_input: tiled_test_images})\r\n",
        "\r\n",
        "    # compute accuracy on test data, using output of network on\r\n",
        "    # last timestep\r\n",
        "    predictions = np.argmax(data[nengo_output][:, -1], axis=-1)\r\n",
        "    accuracy = (predictions == test_labels[:n_test, 0, 0]).mean()\r\n",
        "    print(f\"    test accuracy: {100 * accuracy:.2f}%\")\r\n",
        "\r\n",
        "    return accuracy"
      ],
      "outputs": [],
      "metadata": {
        "id": "QnjBzML95ewX"
      }
    },
    {
      "cell_type": "code",
      "execution_count": 46,
      "source": [
        "baseline_accuracy = run_network(activation=nengo.RectifiedLinear(), n_steps=10)"
      ],
      "outputs": [
        {
          "output_type": "stream",
          "name": "stdout",
          "text": [
            "    test accuracy: 55.00%\n"
          ]
        }
      ],
      "metadata": {
        "id": "4vChmAYq5ewY"
      }
    },
    {
      "cell_type": "markdown",
      "source": [
        "## Apply synaptic smoothing and scale firing rates"
      ],
      "metadata": {}
    },
    {
      "cell_type": "code",
      "execution_count": 69,
      "source": [
        "# specify the size of the grid: (synapse, scale_firing_rates)\r\n",
        "grid_size = (10, 10)\r\n",
        "scaling_baseline = 1\r\n",
        "synapse_increment = 0.005\r\n",
        "\r\n",
        "synapse_values = [synapse_increment*x for x in range(grid_size[0])]\r\n",
        "scale_firing_rates_values = range(1, 100, 10)\r\n",
        "accuracy_grid = []\r\n",
        "\r\n",
        "for synapse in synapse_values:\r\n",
        "    print(f\"synapse={synapse:.3f}\")\r\n",
        "    accuracy_grid.append([])\r\n",
        "\r\n",
        "    for scale_firing_rates in scale_firing_rates_values:\r\n",
        "        print(f\"  scale_firing_rates={scale_firing_rates:.3f}\")\r\n",
        "        accuracy = run_network(\r\n",
        "            activation=nengo.SpikingRectifiedLinear(),\r\n",
        "            n_steps=60,\r\n",
        "            synapse=synapse,\r\n",
        "            scale_firing_rates=scale_firing_rates)         \r\n",
        "        accuracy_grid[-1].append(accuracy)"
      ],
      "outputs": [
        {
          "output_type": "stream",
          "name": "stdout",
          "text": [
            "synapse=0.000\n",
            "  scale_firing_rates=1.000\n",
            "    test accuracy: 14.25%\n",
            "  scale_firing_rates=11.000\n",
            "    test accuracy: 18.75%\n",
            "  scale_firing_rates=21.000\n",
            "    test accuracy: 28.25%\n",
            "  scale_firing_rates=31.000\n",
            "    test accuracy: 35.50%\n",
            "  scale_firing_rates=41.000\n",
            "    test accuracy: 35.50%\n",
            "  scale_firing_rates=51.000\n",
            "    test accuracy: 38.75%\n",
            "  scale_firing_rates=61.000\n",
            "    test accuracy: 40.75%\n",
            "  scale_firing_rates=71.000\n",
            "    test accuracy: 42.50%\n",
            "  scale_firing_rates=81.000\n",
            "    test accuracy: 45.75%\n",
            "  scale_firing_rates=91.000\n",
            "    test accuracy: 46.00%\n",
            "synapse=0.005\n",
            "  scale_firing_rates=1.000\n",
            "    test accuracy: 7.50%\n",
            "  scale_firing_rates=11.000\n",
            "    test accuracy: 46.25%\n",
            "  scale_firing_rates=21.000\n",
            "    test accuracy: 51.75%\n",
            "  scale_firing_rates=31.000\n",
            "    test accuracy: 51.75%\n",
            "  scale_firing_rates=41.000\n",
            "    test accuracy: 51.75%\n",
            "  scale_firing_rates=51.000\n",
            "    test accuracy: 51.75%\n",
            "  scale_firing_rates=61.000\n",
            "    test accuracy: 51.75%\n",
            "  scale_firing_rates=71.000\n",
            "    test accuracy: 52.25%\n",
            "  scale_firing_rates=81.000\n",
            "    test accuracy: 51.50%\n",
            "  scale_firing_rates=91.000\n",
            "    test accuracy: 51.50%\n",
            "synapse=0.010\n",
            "  scale_firing_rates=1.000\n",
            "    test accuracy: 7.50%\n",
            "  scale_firing_rates=11.000\n",
            "    test accuracy: 45.50%\n",
            "  scale_firing_rates=21.000\n",
            "    test accuracy: 49.00%\n",
            "  scale_firing_rates=31.000\n",
            "    test accuracy: 51.25%\n",
            "  scale_firing_rates=41.000\n",
            "    test accuracy: 52.50%\n",
            "  scale_firing_rates=51.000\n",
            "    test accuracy: 52.25%\n",
            "  scale_firing_rates=61.000\n",
            "    test accuracy: 51.50%\n",
            "  scale_firing_rates=71.000\n",
            "    test accuracy: 51.75%\n",
            "  scale_firing_rates=81.000\n",
            "    test accuracy: 53.00%\n",
            "  scale_firing_rates=91.000\n",
            "    test accuracy: 53.00%\n",
            "synapse=0.015\n",
            "  scale_firing_rates=1.000\n",
            "    test accuracy: 7.50%\n",
            "  scale_firing_rates=11.000\n",
            "    test accuracy: 26.50%\n",
            "  scale_firing_rates=21.000\n",
            "    test accuracy: 45.75%\n",
            "  scale_firing_rates=31.000\n",
            "    test accuracy: 49.00%\n",
            "  scale_firing_rates=41.000\n",
            "    test accuracy: 50.75%\n",
            "  scale_firing_rates=51.000\n",
            "    test accuracy: 52.25%\n",
            "  scale_firing_rates=61.000\n",
            "    test accuracy: 52.00%\n",
            "  scale_firing_rates=71.000\n",
            "    test accuracy: 51.50%\n",
            "  scale_firing_rates=81.000\n",
            "    test accuracy: 52.25%\n",
            "  scale_firing_rates=91.000\n",
            "    test accuracy: 51.50%\n",
            "synapse=0.020\n",
            "  scale_firing_rates=1.000\n",
            "    test accuracy: 7.50%\n",
            "  scale_firing_rates=11.000\n",
            "    test accuracy: 12.00%\n",
            "  scale_firing_rates=21.000\n",
            "    test accuracy: 25.25%\n",
            "  scale_firing_rates=31.000\n",
            "    test accuracy: 35.50%\n",
            "  scale_firing_rates=41.000\n",
            "    test accuracy: 40.00%\n",
            "  scale_firing_rates=51.000\n",
            "    test accuracy: 45.75%\n",
            "  scale_firing_rates=61.000\n",
            "    test accuracy: 47.00%\n",
            "  scale_firing_rates=71.000\n",
            "    test accuracy: 48.50%\n",
            "  scale_firing_rates=81.000\n",
            "    test accuracy: 46.25%\n",
            "  scale_firing_rates=91.000\n",
            "    test accuracy: 48.00%\n",
            "synapse=0.025\n",
            "  scale_firing_rates=1.000\n",
            "    test accuracy: 7.50%\n",
            "  scale_firing_rates=11.000\n",
            "    test accuracy: 7.50%\n",
            "  scale_firing_rates=21.000\n",
            "    test accuracy: 11.75%\n",
            "  scale_firing_rates=31.000\n",
            "    test accuracy: 18.25%\n",
            "  scale_firing_rates=41.000\n",
            "    test accuracy: 23.25%\n",
            "  scale_firing_rates=51.000\n",
            "    test accuracy: 29.00%\n",
            "  scale_firing_rates=61.000\n",
            "    test accuracy: 31.75%\n",
            "  scale_firing_rates=71.000\n",
            "    test accuracy: 31.50%\n",
            "  scale_firing_rates=81.000\n",
            "    test accuracy: 35.50%\n",
            "  scale_firing_rates=91.000\n",
            "    test accuracy: 37.75%\n",
            "synapse=0.030\n",
            "  scale_firing_rates=1.000\n",
            "    test accuracy: 7.50%\n",
            "  scale_firing_rates=11.000\n",
            "    test accuracy: 7.50%\n",
            "  scale_firing_rates=21.000\n",
            "    test accuracy: 8.00%\n",
            "  scale_firing_rates=31.000\n",
            "    test accuracy: 9.25%\n",
            "  scale_firing_rates=41.000\n",
            "    test accuracy: 11.50%\n",
            "  scale_firing_rates=51.000\n",
            "    test accuracy: 14.25%\n",
            "  scale_firing_rates=61.000\n",
            "    test accuracy: 16.75%\n",
            "  scale_firing_rates=71.000\n",
            "    test accuracy: 18.00%\n",
            "  scale_firing_rates=81.000\n",
            "    test accuracy: 19.25%\n",
            "  scale_firing_rates=91.000\n",
            "    test accuracy: 20.75%\n",
            "synapse=0.035\n",
            "  scale_firing_rates=1.000\n",
            "    test accuracy: 7.50%\n",
            "  scale_firing_rates=11.000\n",
            "    test accuracy: 7.50%\n",
            "  scale_firing_rates=21.000\n",
            "    test accuracy: 7.50%\n",
            "  scale_firing_rates=31.000\n",
            "    test accuracy: 7.75%\n",
            "  scale_firing_rates=41.000\n",
            "    test accuracy: 8.00%\n",
            "  scale_firing_rates=51.000\n",
            "    test accuracy: 9.00%\n",
            "  scale_firing_rates=61.000\n",
            "    test accuracy: 9.00%\n",
            "  scale_firing_rates=71.000\n",
            "    test accuracy: 10.00%\n",
            "  scale_firing_rates=81.000\n",
            "    test accuracy: 10.25%\n",
            "  scale_firing_rates=91.000\n",
            "    test accuracy: 12.00%\n",
            "synapse=0.040\n",
            "  scale_firing_rates=1.000\n",
            "    test accuracy: 7.50%\n",
            "  scale_firing_rates=11.000\n",
            "    test accuracy: 7.50%\n",
            "  scale_firing_rates=21.000\n",
            "    test accuracy: 7.50%\n",
            "  scale_firing_rates=31.000\n",
            "    test accuracy: 7.50%\n",
            "  scale_firing_rates=41.000\n",
            "    test accuracy: 7.50%\n",
            "  scale_firing_rates=51.000\n",
            "    test accuracy: 7.50%\n",
            "  scale_firing_rates=61.000\n",
            "    test accuracy: 8.00%\n",
            "  scale_firing_rates=71.000\n",
            "    test accuracy: 8.00%\n",
            "  scale_firing_rates=81.000\n",
            "    test accuracy: 8.00%\n",
            "  scale_firing_rates=91.000\n",
            "    test accuracy: 8.00%\n",
            "synapse=0.045\n",
            "  scale_firing_rates=1.000\n",
            "    test accuracy: 7.50%\n",
            "  scale_firing_rates=11.000\n",
            "    test accuracy: 7.50%\n",
            "  scale_firing_rates=21.000\n",
            "    test accuracy: 7.50%\n",
            "  scale_firing_rates=31.000\n",
            "    test accuracy: 7.50%\n",
            "  scale_firing_rates=41.000\n",
            "    test accuracy: 7.50%\n",
            "  scale_firing_rates=51.000\n",
            "    test accuracy: 7.50%\n",
            "  scale_firing_rates=61.000\n",
            "    test accuracy: 7.50%\n",
            "  scale_firing_rates=71.000\n",
            "    test accuracy: 7.50%\n",
            "  scale_firing_rates=81.000\n",
            "    test accuracy: 7.50%\n",
            "  scale_firing_rates=91.000\n",
            "    test accuracy: 7.75%\n"
          ]
        }
      ],
      "metadata": {}
    },
    {
      "cell_type": "code",
      "execution_count": 109,
      "source": [
        "accuracy_grid = np.matrix(accuracy_grid)\r\n",
        "\r\n",
        "fig, ax = plt.subplots(1,1)\r\n",
        "\r\n",
        "plt.xlabel(\"scale_firing_rates\")\r\n",
        "plt.ylabel(\"synapse (s)\")\r\n",
        "plt.title(\"CIFAR-10 Test Acc. of SNN (DNN=53%)\")\r\n",
        "\r\n",
        "ax.set_xticklabels([1, 1, 21, 41, 61, 81])\r\n",
        "ax.set_yticklabels([0, 0, 0.01, 0.02, 0.03, 0.04])\r\n",
        "\r\n",
        "rect0 = plt.Rectangle((-0.5+1, -0.5+2), 0,1, fill=True, color='red', linewidth=2, zorder=2)\r\n",
        "rect0.set_label('base_scale_firing_rates = 5')\r\n",
        "rect1 = plt.Rectangle((-0.5+8, -0.5+2), 0,1, fill=True, color='green', linewidth=2, zorder=2)\r\n",
        "rect1.set_label('special_scale_firing_rates = 80')\r\n",
        "arrow = plt.arrow(0.5, 2, 6.45, 0, color='black', width=0.1)\r\n",
        "ax = ax or plt.gca()\r\n",
        "ax.add_patch(rect0)\r\n",
        "ax.add_patch(rect1)\r\n",
        "ax.legend()\r\n",
        "\r\n",
        "img = ax.imshow(accuracy_grid, origin='lower')\r\n",
        "fig.colorbar(img)\r\n",
        "plt.savefig(\"./5_dense_accuracy_grid_boxes\", dpi=400)"
      ],
      "outputs": [
        {
          "output_type": "display_data",
          "data": {
            "text/plain": [
              "<Figure size 432x288 with 2 Axes>"
            ],
            "image/png": "[encoded data removed]"
          },
          "metadata": {}
        }
      ],
      "metadata": {}
    }
  ],
  "metadata": {
    "colab": {
      "name": "keras-to-snn.ipynb",
      "provenance": []
    },
    "interpreter": {
      "hash": "26130839a7e87fd59e038942810dbb4909e5232b32b1ad521e6a6bc3043702c6"
    },
    "kernelspec": {
      "display_name": "Python 3.6.5 64-bit ('base': conda)",
      "name": "python3"
    },
    "language_info": {
      "codemirror_mode": {
        "name": "ipython",
        "version": 3
      },
      "file_extension": ".py",
      "mimetype": "text/x-python",
      "name": "python",
      "nbconvert_exporter": "python",
      "pygments_lexer": "ipython3",
      "version": "3.6.5"
    }
  },
  "nbformat": 4,
  "nbformat_minor": 2
}