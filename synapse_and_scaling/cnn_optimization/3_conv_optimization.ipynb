{
  "cells": [
    {
      "cell_type": "markdown",
      "source": [
        "# Testing the effects of low-pass filters and scaling of firing rates on the accuracy of a converted spiking CNN"
      ],
      "metadata": {
        "id": "dcnlPIjC5ewO"
      }
    },
    {
      "cell_type": "markdown",
      "source": [
        "## Initialize data"
      ],
      "metadata": {}
    },
    {
      "cell_type": "code",
      "execution_count": 1,
      "source": [
        "import matplotlib.pyplot as plt\r\n",
        "import nengo\r\n",
        "import numpy as np\r\n",
        "import tensorflow as tf\r\n",
        "import nengo_dl\r\n",
        "\r\n",
        "seed = 0\r\n",
        "np.random.seed(seed)\r\n",
        "tf.random.set_seed(seed)"
      ],
      "outputs": [],
      "metadata": {
        "id": "z0oTxL6w5ewR"
      }
    },
    {
      "cell_type": "code",
      "execution_count": 2,
      "source": [
        "tf.keras.backend.clear_session()"
      ],
      "outputs": [],
      "metadata": {}
    },
    {
      "cell_type": "code",
      "execution_count": 3,
      "source": [
        "# obtain images\r\n",
        "(train_images, train_labels), (test_images,test_labels) = tf.keras.datasets.cifar10.load_data()\r\n",
        "\r\n",
        "# normalize data by color channel\r\n",
        "def normalize(array):\r\n",
        "    return (array - np.mean(array)) / np.std(array)\r\n",
        "\r\n",
        "train_images_R = normalize(train_images.transpose()[0].transpose())\r\n",
        "train_images_G = normalize(train_images.transpose()[1].transpose())\r\n",
        "train_images_B = normalize(train_images.transpose()[2].transpose())\r\n",
        "test_images_R = normalize(test_images.transpose()[0].transpose())\r\n",
        "test_images_G = normalize(test_images.transpose()[1].transpose())\r\n",
        "test_images_B = normalize(test_images.transpose()[2].transpose())\r\n",
        "\r\n",
        "train_images = np.array([train_images_R, train_images_G, train_images_B])\r\n",
        "test_images = np.array([test_images_R, test_images_G, test_images_B])\r\n",
        "\r\n",
        "train_images = np.moveaxis(train_images, 0, -1)\r\n",
        "test_images = np.moveaxis(test_images, 0, -1)\r\n",
        "\r\n",
        "# verify normalization\r\n",
        "print((train_images.shape, train_labels.shape), (test_images.shape, test_labels.shape))\r\n",
        "print('test mean:', np.mean(train_images))\r\n",
        "print('test stdv:', np.std(train_images))\r\n",
        "print('train mean:', np.mean(test_images))\r\n",
        "print('train stdv:', np.std(test_images))"
      ],
      "outputs": [
        {
          "output_type": "stream",
          "name": "stdout",
          "text": [
            "((50000, 32, 32, 3), (50000, 1)) ((10000, 32, 32, 3), (10000, 1))\n",
            "test mean: 5.4830214442821065e-17\n",
            "test stdv: 1.0000000000000002\n",
            "train mean: 8.14903700074865e-18\n",
            "train stdv: 1.0000000000000002\n"
          ]
        }
      ],
      "metadata": {}
    },
    {
      "cell_type": "code",
      "execution_count": 4,
      "source": [
        "# flatten images and add time dimension\r\n",
        "train_images = train_images.reshape((train_images.shape[0], 1, -1))\r\n",
        "train_labels = train_labels.reshape((train_labels.shape[0], 1, -1))\r\n",
        "test_images = test_images.reshape((test_images.shape[0], 1, -1))\r\n",
        "test_labels = test_labels.reshape((test_labels.shape[0], 1, -1))\r\n",
        "\r\n",
        "print((train_images.shape, train_labels.shape), (test_images.shape, test_labels.shape))"
      ],
      "outputs": [
        {
          "output_type": "stream",
          "name": "stdout",
          "text": [
            "((50000, 1, 3072), (50000, 1, 1)) ((10000, 1, 3072), (10000, 1, 1))\n"
          ]
        }
      ],
      "metadata": {
        "id": "MYgW3rU55ewS"
      }
    },
    {
      "cell_type": "markdown",
      "source": [
        "## Build network and convert to nengo-dl"
      ],
      "metadata": {}
    },
    {
      "cell_type": "code",
      "execution_count": 44,
      "source": [
        "inp = tf.keras.Input(shape=(32, 32, 3))\r\n",
        "\r\n",
        "conv0 = tf.keras.layers.Conv2D(filters=32, kernel_size=3, activation=tf.nn.relu)(inp)\r\n",
        "pool0 = tf.keras.layers.AveragePooling2D(pool_size=(2,2))(conv0)\r\n",
        "\r\n",
        "conv1 = tf.keras.layers.Conv2D(filters=64, kernel_size=3, activation=tf.nn.relu)(pool0)\r\n",
        "pool1 = tf.keras.layers.AveragePooling2D(pool_size=(2,2))(conv1)\r\n",
        "\r\n",
        "conv2 = tf.keras.layers.Conv2D(filters=128, kernel_size=3, activation=tf.nn.relu)(pool1)\r\n",
        "pool2 = tf.keras.layers.AveragePooling2D(pool_size=(2,2))(conv2)\r\n",
        "\r\n",
        "flatten = tf.keras.layers.Flatten()(pool2)\r\n",
        "\r\n",
        "dense0 = tf.keras.layers.Dense(units=300, activation=tf.nn.relu)(flatten)\r\n",
        "out = tf.keras.layers.Dense(units=10, name='out')(dense0)\r\n",
        "\r\n",
        "model = tf.keras.Model(inputs=inp, outputs=out)"
      ],
      "outputs": [],
      "metadata": {
        "id": "JZ_bK1AB5ewU"
      }
    },
    {
      "cell_type": "code",
      "execution_count": 45,
      "source": [
        "converter = nengo_dl.Converter(model)"
      ],
      "outputs": [],
      "metadata": {
        "id": "seOy_LqT5ewV"
      }
    },
    {
      "cell_type": "markdown",
      "source": [
        "## Train the non-spiking network"
      ],
      "metadata": {}
    },
    {
      "cell_type": "code",
      "execution_count": 47,
      "source": [
        "with nengo_dl.Simulator(converter.net, minibatch_size=200) as sim:\r\n",
        "    \r\n",
        "    sim.compile(\r\n",
        "        optimizer=tf.optimizers.Adam(0.001),\r\n",
        "        loss=tf.losses.SparseCategoricalCrossentropy(from_logits=True),\r\n",
        "        metrics=[tf.metrics.sparse_categorical_accuracy]\r\n",
        "    )\r\n",
        "\r\n",
        "    sim.fit(\r\n",
        "        {converter.inputs[inp]: train_images},\r\n",
        "        {converter.outputs[out]: train_labels},\r\n",
        "        validation_data=({converter.inputs[inp]: test_images}, {converter.outputs[out]: test_labels}),\r\n",
        "        epochs=20\r\n",
        "    )\r\n",
        "\r\n",
        "    # save the parameters\r\n",
        "    sim.save_params(\"./3_conv_params\")"
      ],
      "outputs": [
        {
          "output_type": "stream",
          "name": "stdout",
          "text": [
            "Build finished in 0:00:00                                                      \n",
            "Optimization finished in 0:00:00                                               \n",
            "Construction finished in 0:00:00                                               \n",
            "Epoch 1/20\n",
            "250/250 [==============================] - 38s 121ms/step - loss: 1.8002 - probe_loss: 1.8002 - probe_sparse_categorical_accuracy: 0.3450 - val_loss: 1.3311 - val_probe_loss: 1.3311 - val_probe_sparse_categorical_accuracy: 0.5170\n",
            "Epoch 2/20\n",
            "250/250 [==============================] - 37s 149ms/step - loss: 1.3046 - probe_loss: 1.3046 - probe_sparse_categorical_accuracy: 0.5357 - val_loss: 1.1808 - val_probe_loss: 1.1808 - val_probe_sparse_categorical_accuracy: 0.5837\n",
            "Epoch 3/20\n",
            "250/250 [==============================] - 24s 95ms/step - loss: 1.1368 - probe_loss: 1.1368 - probe_sparse_categorical_accuracy: 0.5964 - val_loss: 1.1307 - val_probe_loss: 1.1307 - val_probe_sparse_categorical_accuracy: 0.5967\n",
            "Epoch 4/20\n",
            "250/250 [==============================] - 24s 96ms/step - loss: 1.0459 - probe_loss: 1.0459 - probe_sparse_categorical_accuracy: 0.6352 - val_loss: 1.0436 - val_probe_loss: 1.0436 - val_probe_sparse_categorical_accuracy: 0.6276\n",
            "Epoch 5/20\n",
            "250/250 [==============================] - 25s 100ms/step - loss: 0.9392 - probe_loss: 0.9392 - probe_sparse_categorical_accuracy: 0.6711 - val_loss: 0.9209 - val_probe_loss: 0.9209 - val_probe_sparse_categorical_accuracy: 0.6793\n",
            "Epoch 6/20\n",
            "250/250 [==============================] - 23s 94ms/step - loss: 0.8741 - probe_loss: 0.8741 - probe_sparse_categorical_accuracy: 0.6962 - val_loss: 0.8921 - val_probe_loss: 0.8921 - val_probe_sparse_categorical_accuracy: 0.6917\n",
            "Epoch 7/20\n",
            "250/250 [==============================] - 24s 96ms/step - loss: 0.8032 - probe_loss: 0.8032 - probe_sparse_categorical_accuracy: 0.7198 - val_loss: 0.8548 - val_probe_loss: 0.8548 - val_probe_sparse_categorical_accuracy: 0.7019\n",
            "Epoch 8/20\n",
            "250/250 [==============================] - 24s 95ms/step - loss: 0.7463 - probe_loss: 0.7463 - probe_sparse_categorical_accuracy: 0.7423 - val_loss: 0.8036 - val_probe_loss: 0.8036 - val_probe_sparse_categorical_accuracy: 0.7212\n",
            "Epoch 9/20\n",
            "250/250 [==============================] - 26s 102ms/step - loss: 0.6970 - probe_loss: 0.6970 - probe_sparse_categorical_accuracy: 0.7574 - val_loss: 0.7754 - val_probe_loss: 0.7754 - val_probe_sparse_categorical_accuracy: 0.7323\n",
            "Epoch 10/20\n",
            "250/250 [==============================] - 22s 89ms/step - loss: 0.6588 - probe_loss: 0.6588 - probe_sparse_categorical_accuracy: 0.7718 - val_loss: 0.7736 - val_probe_loss: 0.7736 - val_probe_sparse_categorical_accuracy: 0.7339\n",
            "Epoch 11/20\n",
            "250/250 [==============================] - 24s 94ms/step - loss: 0.6154 - probe_loss: 0.6154 - probe_sparse_categorical_accuracy: 0.7832 - val_loss: 0.7941 - val_probe_loss: 0.7941 - val_probe_sparse_categorical_accuracy: 0.7255\n",
            "Epoch 12/20\n",
            "250/250 [==============================] - 25s 100ms/step - loss: 0.5831 - probe_loss: 0.5831 - probe_sparse_categorical_accuracy: 0.7973 - val_loss: 0.7585 - val_probe_loss: 0.7585 - val_probe_sparse_categorical_accuracy: 0.7410\n",
            "Epoch 13/20\n",
            "250/250 [==============================] - 24s 97ms/step - loss: 0.5475 - probe_loss: 0.5475 - probe_sparse_categorical_accuracy: 0.8080 - val_loss: 0.7674 - val_probe_loss: 0.7674 - val_probe_sparse_categorical_accuracy: 0.7410\n",
            "Epoch 14/20\n",
            "250/250 [==============================] - 27s 106ms/step - loss: 0.5197 - probe_loss: 0.5197 - probe_sparse_categorical_accuracy: 0.8187 - val_loss: 0.7392 - val_probe_loss: 0.7392 - val_probe_sparse_categorical_accuracy: 0.7477\n",
            "Epoch 15/20\n",
            "250/250 [==============================] - 24s 95ms/step - loss: 0.4881 - probe_loss: 0.4881 - probe_sparse_categorical_accuracy: 0.8295 - val_loss: 0.7479 - val_probe_loss: 0.7479 - val_probe_sparse_categorical_accuracy: 0.7514\n",
            "Epoch 16/20\n",
            "250/250 [==============================] - 27s 109ms/step - loss: 0.4485 - probe_loss: 0.4485 - probe_sparse_categorical_accuracy: 0.8445 - val_loss: 0.7621 - val_probe_loss: 0.7621 - val_probe_sparse_categorical_accuracy: 0.7487\n",
            "Epoch 17/20\n",
            "250/250 [==============================] - 26s 106ms/step - loss: 0.4159 - probe_loss: 0.4159 - probe_sparse_categorical_accuracy: 0.8548 - val_loss: 0.7849 - val_probe_loss: 0.7849 - val_probe_sparse_categorical_accuracy: 0.7559\n",
            "Epoch 18/20\n",
            "250/250 [==============================] - 25s 100ms/step - loss: 0.3851 - probe_loss: 0.3851 - probe_sparse_categorical_accuracy: 0.8654 - val_loss: 0.7759 - val_probe_loss: 0.7759 - val_probe_sparse_categorical_accuracy: 0.7555\n",
            "Epoch 19/20\n",
            "250/250 [==============================] - 26s 106ms/step - loss: 0.3705 - probe_loss: 0.3705 - probe_sparse_categorical_accuracy: 0.8717 - val_loss: 0.7907 - val_probe_loss: 0.7907 - val_probe_sparse_categorical_accuracy: 0.7557\n",
            "Epoch 20/20\n",
            "250/250 [==============================] - 26s 103ms/step - loss: 0.3375 - probe_loss: 0.3375 - probe_sparse_categorical_accuracy: 0.8811 - val_loss: 0.8049 - val_probe_loss: 0.8049 - val_probe_sparse_categorical_accuracy: 0.7530\n"
          ]
        }
      ],
      "metadata": {
        "id": "Es3hg9Q15ewV"
      }
    },
    {
      "cell_type": "markdown",
      "source": [
        "## Run the non-spiking network"
      ],
      "metadata": {}
    },
    {
      "cell_type": "code",
      "execution_count": 48,
      "source": [
        "def run_network(\r\n",
        "    activation,\r\n",
        "    params_file=\"3_conv_params\",\r\n",
        "    n_steps=30,\r\n",
        "    scale_firing_rates=1,\r\n",
        "    synapse=None,\r\n",
        "    n_test=400,\r\n",
        "):\r\n",
        "    # convert the keras model to a nengo network\r\n",
        "    nengo_converter = nengo_dl.Converter(\r\n",
        "        model,\r\n",
        "        swap_activations={tf.nn.relu: activation},\r\n",
        "        scale_firing_rates=scale_firing_rates,\r\n",
        "        synapse=synapse,\r\n",
        "    )\r\n",
        "\r\n",
        "    # get input/output objects\r\n",
        "    nengo_input = nengo_converter.inputs[inp]\r\n",
        "    nengo_output = nengo_converter.outputs[out]\r\n",
        "\r\n",
        "    # repeat inputs for some number of timesteps\r\n",
        "    tiled_test_images = np.tile(test_images[:n_test], (1, n_steps, 1))\r\n",
        "\r\n",
        "    # set some options to speed up simulation\r\n",
        "    with nengo_converter.net:\r\n",
        "        nengo_dl.configure_settings(stateful=False)\r\n",
        "\r\n",
        "    # build network, load in trained weights, run inference on test images\r\n",
        "    with nengo_dl.Simulator(\r\n",
        "        nengo_converter.net, minibatch_size=10, progress_bar=False\r\n",
        "    ) as nengo_sim:\r\n",
        "        nengo_sim.load_params(params_file)\r\n",
        "        data = nengo_sim.predict({nengo_input: tiled_test_images})\r\n",
        "\r\n",
        "    # compute accuracy on test data, using output of network on\r\n",
        "    # last timestep\r\n",
        "    predictions = np.argmax(data[nengo_output][:, -1], axis=-1)\r\n",
        "    accuracy = (predictions == test_labels[:n_test, 0, 0]).mean()\r\n",
        "    print(f\"    test accuracy: {100 * accuracy:.2f}%\")\r\n",
        "\r\n",
        "    return accuracy"
      ],
      "outputs": [],
      "metadata": {
        "id": "QnjBzML95ewX"
      }
    },
    {
      "cell_type": "code",
      "execution_count": 49,
      "source": [
        "baseline_accuracy = run_network(activation=nengo.RectifiedLinear(), n_steps=10)"
      ],
      "outputs": [
        {
          "output_type": "stream",
          "name": "stdout",
          "text": [
            "    test accuracy: 75.50%\n"
          ]
        }
      ],
      "metadata": {
        "id": "4vChmAYq5ewY"
      }
    },
    {
      "cell_type": "markdown",
      "source": [
        "## Apply synaptic smoothing and scale firing rates"
      ],
      "metadata": {}
    },
    {
      "cell_type": "code",
      "execution_count": 50,
      "source": [
        "# specify the size of the grid: (synapse, scale_firing_rates)\r\n",
        "grid_size = (10, 10)\r\n",
        "scaling_baseline = 1\r\n",
        "synapse_increment = 0.005\r\n",
        "\r\n",
        "synapse_values = [synapse_increment*x for x in range(grid_size[0])]\r\n",
        "scale_firing_rates_values = range(1, 100, 10)\r\n",
        "accuracy_grid = []\r\n",
        "\r\n",
        "for synapse in synapse_values:\r\n",
        "    print(f\"synapse={synapse:.3f}\")\r\n",
        "    accuracy_grid.append([])\r\n",
        "\r\n",
        "    for scale_firing_rates in scale_firing_rates_values:\r\n",
        "        print(f\"  scale_firing_rates={scale_firing_rates:.3f}\")\r\n",
        "        accuracy = run_network(\r\n",
        "            activation=nengo.SpikingRectifiedLinear(),\r\n",
        "            n_steps=60,\r\n",
        "            synapse=synapse,\r\n",
        "            scale_firing_rates=scale_firing_rates)         \r\n",
        "        accuracy_grid[-1].append(accuracy)"
      ],
      "outputs": [
        {
          "output_type": "stream",
          "name": "stdout",
          "text": [
            "synapse=0.000\n",
            "  scale_firing_rates=1.000\n",
            "    test accuracy: 7.50%\n",
            "  scale_firing_rates=11.000\n",
            "    test accuracy: 7.50%\n",
            "  scale_firing_rates=21.000\n",
            "    test accuracy: 10.75%\n",
            "  scale_firing_rates=31.000\n",
            "    test accuracy: 14.25%\n",
            "  scale_firing_rates=41.000\n",
            "    test accuracy: 14.50%\n",
            "  scale_firing_rates=51.000\n",
            "    test accuracy: 13.50%\n",
            "  scale_firing_rates=61.000\n",
            "    test accuracy: 9.75%\n",
            "  scale_firing_rates=71.000\n",
            "    test accuracy: 17.75%\n",
            "  scale_firing_rates=81.000\n",
            "    test accuracy: 15.75%\n",
            "  scale_firing_rates=91.000\n",
            "    test accuracy: 17.50%\n",
            "synapse=0.005\n",
            "  scale_firing_rates=1.000\n",
            "    test accuracy: 7.50%\n",
            "  scale_firing_rates=11.000\n",
            "    test accuracy: 7.50%\n",
            "  scale_firing_rates=21.000\n",
            "    test accuracy: 7.50%\n",
            "  scale_firing_rates=31.000\n",
            "    test accuracy: 14.00%\n",
            "  scale_firing_rates=41.000\n",
            "    test accuracy: 28.75%\n",
            "  scale_firing_rates=51.000\n",
            "    test accuracy: 48.00%\n",
            "  scale_firing_rates=61.000\n",
            "    test accuracy: 57.75%\n",
            "  scale_firing_rates=71.000\n",
            "    test accuracy: 61.75%\n",
            "  scale_firing_rates=81.000\n",
            "    test accuracy: 64.00%\n",
            "  scale_firing_rates=91.000\n",
            "    test accuracy: 68.75%\n",
            "synapse=0.010\n",
            "  scale_firing_rates=1.000\n",
            "    test accuracy: 7.50%\n",
            "  scale_firing_rates=11.000\n",
            "    test accuracy: 7.50%\n",
            "  scale_firing_rates=21.000\n",
            "    test accuracy: 7.50%\n",
            "  scale_firing_rates=31.000\n",
            "    test accuracy: 7.75%\n",
            "  scale_firing_rates=41.000\n",
            "    test accuracy: 12.00%\n",
            "  scale_firing_rates=51.000\n",
            "    test accuracy: 22.75%\n",
            "  scale_firing_rates=61.000\n",
            "    test accuracy: 38.50%\n",
            "  scale_firing_rates=71.000\n",
            "    test accuracy: 50.50%\n",
            "  scale_firing_rates=81.000\n",
            "    test accuracy: 57.75%\n",
            "  scale_firing_rates=91.000\n",
            "    test accuracy: 63.00%\n",
            "synapse=0.015\n",
            "  scale_firing_rates=1.000\n",
            "    test accuracy: 7.50%\n",
            "  scale_firing_rates=11.000\n",
            "    test accuracy: 7.50%\n",
            "  scale_firing_rates=21.000\n",
            "    test accuracy: 7.50%\n",
            "  scale_firing_rates=31.000\n",
            "    test accuracy: 7.50%\n",
            "  scale_firing_rates=41.000\n",
            "    test accuracy: 7.75%\n",
            "  scale_firing_rates=51.000\n",
            "    test accuracy: 10.25%\n",
            "  scale_firing_rates=61.000\n",
            "    test accuracy: 19.50%\n",
            "  scale_firing_rates=71.000\n",
            "    test accuracy: 30.50%\n",
            "  scale_firing_rates=81.000\n",
            "    test accuracy: 39.50%\n",
            "  scale_firing_rates=91.000\n",
            "    test accuracy: 46.00%\n",
            "synapse=0.020\n",
            "  scale_firing_rates=1.000\n",
            "    test accuracy: 7.50%\n",
            "  scale_firing_rates=11.000\n",
            "    test accuracy: 7.50%\n",
            "  scale_firing_rates=21.000\n",
            "    test accuracy: 7.50%\n",
            "  scale_firing_rates=31.000\n",
            "    test accuracy: 7.50%\n",
            "  scale_firing_rates=41.000\n",
            "    test accuracy: 7.50%\n",
            "  scale_firing_rates=51.000\n",
            "    test accuracy: 7.75%\n",
            "  scale_firing_rates=61.000\n",
            "    test accuracy: 10.50%\n",
            "  scale_firing_rates=71.000\n",
            "    test accuracy: 13.25%\n",
            "  scale_firing_rates=81.000\n",
            "    test accuracy: 21.75%\n",
            "  scale_firing_rates=91.000\n",
            "    test accuracy: 33.50%\n",
            "synapse=0.025\n",
            "  scale_firing_rates=1.000\n",
            "    test accuracy: 7.50%\n",
            "  scale_firing_rates=11.000\n",
            "    test accuracy: 7.50%\n",
            "  scale_firing_rates=21.000\n",
            "    test accuracy: 7.50%\n",
            "  scale_firing_rates=31.000\n",
            "    test accuracy: 7.50%\n",
            "  scale_firing_rates=41.000\n",
            "    test accuracy: 7.50%\n",
            "  scale_firing_rates=51.000\n",
            "    test accuracy: 7.50%\n",
            "  scale_firing_rates=61.000\n",
            "    test accuracy: 7.50%\n",
            "  scale_firing_rates=71.000\n",
            "    test accuracy: 9.25%\n",
            "  scale_firing_rates=81.000\n",
            "    test accuracy: 12.75%\n",
            "  scale_firing_rates=91.000\n",
            "    test accuracy: 16.00%\n",
            "synapse=0.030\n",
            "  scale_firing_rates=1.000\n",
            "    test accuracy: 7.50%\n",
            "  scale_firing_rates=11.000\n",
            "    test accuracy: 7.50%\n",
            "  scale_firing_rates=21.000\n",
            "    test accuracy: 7.50%\n",
            "  scale_firing_rates=31.000\n",
            "    test accuracy: 7.50%\n",
            "  scale_firing_rates=41.000\n",
            "    test accuracy: 7.50%\n",
            "  scale_firing_rates=51.000\n",
            "    test accuracy: 7.50%\n",
            "  scale_firing_rates=61.000\n",
            "    test accuracy: 7.50%\n",
            "  scale_firing_rates=71.000\n",
            "    test accuracy: 7.50%\n",
            "  scale_firing_rates=81.000\n",
            "    test accuracy: 7.50%\n",
            "  scale_firing_rates=91.000\n",
            "    test accuracy: 10.25%\n",
            "synapse=0.035\n",
            "  scale_firing_rates=1.000\n",
            "    test accuracy: 7.50%\n",
            "  scale_firing_rates=11.000\n",
            "    test accuracy: 7.50%\n",
            "  scale_firing_rates=21.000\n",
            "    test accuracy: 7.50%\n",
            "  scale_firing_rates=31.000\n",
            "    test accuracy: 7.50%\n",
            "  scale_firing_rates=41.000\n",
            "    test accuracy: 7.50%\n",
            "  scale_firing_rates=51.000\n",
            "    test accuracy: 7.50%\n",
            "  scale_firing_rates=61.000\n",
            "    test accuracy: 7.50%\n",
            "  scale_firing_rates=71.000\n",
            "    test accuracy: 7.50%\n",
            "  scale_firing_rates=81.000\n",
            "    test accuracy: 7.50%\n",
            "  scale_firing_rates=91.000\n",
            "    test accuracy: 7.50%\n",
            "synapse=0.040\n",
            "  scale_firing_rates=1.000\n",
            "    test accuracy: 7.50%\n",
            "  scale_firing_rates=11.000\n",
            "    test accuracy: 7.50%\n",
            "  scale_firing_rates=21.000\n",
            "    test accuracy: 7.50%\n",
            "  scale_firing_rates=31.000\n",
            "    test accuracy: 7.50%\n",
            "  scale_firing_rates=41.000\n",
            "    test accuracy: 7.50%\n",
            "  scale_firing_rates=51.000\n",
            "    test accuracy: 7.50%\n",
            "  scale_firing_rates=61.000\n",
            "    test accuracy: 7.50%\n",
            "  scale_firing_rates=71.000\n",
            "    test accuracy: 7.50%\n",
            "  scale_firing_rates=81.000\n",
            "    test accuracy: 7.50%\n",
            "  scale_firing_rates=91.000\n",
            "    test accuracy: 7.50%\n",
            "synapse=0.045\n",
            "  scale_firing_rates=1.000\n",
            "    test accuracy: 7.50%\n",
            "  scale_firing_rates=11.000\n",
            "    test accuracy: 7.50%\n",
            "  scale_firing_rates=21.000\n",
            "    test accuracy: 7.50%\n",
            "  scale_firing_rates=31.000\n",
            "    test accuracy: 7.50%\n",
            "  scale_firing_rates=41.000\n",
            "    test accuracy: 7.50%\n",
            "  scale_firing_rates=51.000\n",
            "    test accuracy: 7.50%\n",
            "  scale_firing_rates=61.000\n",
            "    test accuracy: 7.50%\n",
            "  scale_firing_rates=71.000\n",
            "    test accuracy: 7.50%\n",
            "  scale_firing_rates=81.000\n",
            "    test accuracy: 7.50%\n",
            "  scale_firing_rates=91.000\n",
            "    test accuracy: 7.50%\n"
          ]
        }
      ],
      "metadata": {}
    },
    {
      "cell_type": "markdown",
      "source": [
        "# Optimal Values: synapse = 0.005, scale_firing_rates = 100"
      ],
      "metadata": {}
    },
    {
      "cell_type": "code",
      "execution_count": 71,
      "source": [
        "accuracy_grid = np.matrix(accuracy_grid)\r\n",
        "\r\n",
        "fig, ax = plt.subplots(1,1)\r\n",
        "\r\n",
        "plt.xlabel(\"scale_firing_rates\")\r\n",
        "plt.ylabel(\"synapse (s)\")\r\n",
        "plt.title(\"CIFAR-10 Test Acc. of SNN (CNN=\" + str(baseline_accuracy*100) + \"%)\")\r\n",
        "\r\n",
        "ax.set_xticklabels([1, 1, 21, 41, 61, 81])\r\n",
        "ax.set_yticklabels([0, 0, 0.01, 0.02, 0.03, 0.04])\r\n",
        "\r\n",
        "rect0 = plt.Rectangle((-0.5+5, -0.5+1), 0,1, fill=True, color='red', linewidth=2, zorder=2)\r\n",
        "rect0.set_label('base_scale_firing_rates = 50')\r\n",
        "rect1 = plt.Rectangle((-0.5+9.95+5, -0.5+1), 0,1, fill=True, color='green', linewidth=2, zorder=2)\r\n",
        "rect1.set_label('special_scale_firing_rates = 150')\r\n",
        "arrow = plt.arrow(4.5, 1, 4.45, 0, color='black', width=0.1)\r\n",
        "ax = ax or plt.gca()\r\n",
        "ax.add_patch(rect0)\r\n",
        "ax.add_patch(rect1)\r\n",
        "ax.legend()\r\n",
        "\r\n",
        "img = ax.imshow(accuracy_grid, origin='lower')\r\n",
        "fig.colorbar(img)\r\n",
        "plt.savefig(\"./3_conv_accuracy_grid_boxes\", dpi=400)"
      ],
      "outputs": [
        {
          "output_type": "display_data",
          "data": {
            "text/plain": [
              "<Figure size 432x288 with 2 Axes>"
            ],
            "image/png": "[encoded data removed]"
          },
          "metadata": {}
        }
      ],
      "metadata": {}
    }
  ],
  "metadata": {
    "colab": {
      "name": "keras-to-snn.ipynb",
      "provenance": []
    },
    "interpreter": {
      "hash": "26130839a7e87fd59e038942810dbb4909e5232b32b1ad521e6a6bc3043702c6"
    },
    "kernelspec": {
      "display_name": "Python 3.6.5 64-bit ('base': conda)",
      "name": "python3"
    },
    "language_info": {
      "codemirror_mode": {
        "name": "ipython",
        "version": 3
      },
      "file_extension": ".py",
      "mimetype": "text/x-python",
      "name": "python",
      "nbconvert_exporter": "python",
      "pygments_lexer": "ipython3",
      "version": "3.6.5"
    }
  },
  "nbformat": 4,
  "nbformat_minor": 2
}