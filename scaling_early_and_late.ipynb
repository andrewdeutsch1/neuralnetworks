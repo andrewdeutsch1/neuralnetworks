{
  "cells": [
    {
      "cell_type": "markdown",
      "source": [
        "# Scaling early and late"
      ],
      "metadata": {
        "id": "dcnlPIjC5ewO"
      }
    },
    {
      "cell_type": "markdown",
      "source": [
        "## Initialize data"
      ],
      "metadata": {}
    },
    {
      "cell_type": "code",
      "execution_count": 106,
      "source": [
        "import matplotlib.pyplot as plt\r\n",
        "import nengo\r\n",
        "import numpy as np\r\n",
        "import tensorflow as tf\r\n",
        "import nengo_dl\r\n",
        "\r\n",
        "seed = 0\r\n",
        "np.random.seed(seed)\r\n",
        "tf.random.set_seed(seed)"
      ],
      "outputs": [],
      "metadata": {
        "id": "z0oTxL6w5ewR"
      }
    },
    {
      "cell_type": "code",
      "execution_count": 107,
      "source": [
        "# obtain images\r\n",
        "(train_images, train_labels), (test_images,test_labels) = tf.keras.datasets.cifar10.load_data()\r\n",
        "\r\n",
        "# one-hot encoding\r\n",
        "# train_labels = tf.keras.utils.to_categorical(train_labels, 10)\r\n",
        "# test_labels = tf.keras.utils.to_categorical(test_labels, 10)\r\n",
        "\r\n",
        "# normalize data by color channel\r\n",
        "def normalize(array):\r\n",
        "    return (array - np.mean(array)) / np.std(array)\r\n",
        "\r\n",
        "train_images_R = normalize(train_images.transpose()[0].transpose())\r\n",
        "train_images_G = normalize(train_images.transpose()[1].transpose())\r\n",
        "train_images_B = normalize(train_images.transpose()[2].transpose())\r\n",
        "test_images_R = normalize(test_images.transpose()[0].transpose())\r\n",
        "test_images_G = normalize(test_images.transpose()[1].transpose())\r\n",
        "test_images_B = normalize(test_images.transpose()[2].transpose())\r\n",
        "\r\n",
        "train_images = np.array([train_images_R, train_images_G, train_images_B])\r\n",
        "test_images = np.array([test_images_R, test_images_G, test_images_B])\r\n",
        "\r\n",
        "train_images = np.moveaxis(train_images, 0, -1)\r\n",
        "test_images = np.moveaxis(test_images, 0, -1)\r\n",
        "\r\n",
        "# verify normalization\r\n",
        "print((train_images.shape, train_labels.shape), (test_images.shape, test_labels.shape))\r\n",
        "print('test mean:', np.mean(train_images))\r\n",
        "print('test stdv:', np.std(train_images))\r\n",
        "print('train mean:', np.mean(test_images))\r\n",
        "print('train stdv:', np.std(test_images))"
      ],
      "outputs": [
        {
          "output_type": "stream",
          "name": "stdout",
          "text": [
            "((50000, 32, 32, 3), (50000, 1)) ((10000, 32, 32, 3), (10000, 1))\n",
            "test mean: 5.4830214442821065e-17\n",
            "test stdv: 1.0000000000000002\n",
            "train mean: 8.14903700074865e-18\n",
            "train stdv: 1.0000000000000002\n"
          ]
        }
      ],
      "metadata": {}
    },
    {
      "cell_type": "code",
      "execution_count": 108,
      "source": [
        "# flatten images and add time dimension\r\n",
        "train_images = train_images.reshape((train_images.shape[0], 1, -1))\r\n",
        "train_labels = train_labels.reshape((train_labels.shape[0], 1, -1))\r\n",
        "test_images = test_images.reshape((test_images.shape[0], 1, -1))\r\n",
        "test_labels = test_labels.reshape((test_labels.shape[0], 1, -1))\r\n",
        "\r\n",
        "print((train_images.shape, train_labels.shape), (test_images.shape, test_labels.shape))"
      ],
      "outputs": [
        {
          "output_type": "stream",
          "name": "stdout",
          "text": [
            "((50000, 1, 3072), (50000, 1, 1)) ((10000, 1, 3072), (10000, 1, 1))\n"
          ]
        }
      ],
      "metadata": {
        "id": "MYgW3rU55ewS"
      }
    },
    {
      "cell_type": "markdown",
      "source": [
        "## Build convolutional network and convert to nengo-dl"
      ],
      "metadata": {}
    },
    {
      "cell_type": "code",
      "execution_count": 109,
      "source": [
        "inp = tf.keras.Input(shape=(32, 32, 3))\r\n",
        "\r\n",
        "flatten = tf.keras.layers.Flatten()(inp)\r\n",
        "\r\n",
        "dense0 = tf.keras.layers.Dense(units=100, activation=tf.keras.activations.relu)(flatten)\r\n",
        "dense1 = tf.keras.layers.Dense(units=100, activation=tf.keras.activations.relu)(dense0)\r\n",
        "dense2 = tf.keras.layers.Dense(units=100, activation=tf.keras.activations.relu)(dense1)\r\n",
        "dense3 = tf.keras.layers.Dense(units=100, activation=tf.keras.activations.relu)(dense2)\r\n",
        "# dense4 = tf.keras.layers.Dense(units=100, activation=tf.keras.activations.relu)(dense3)\r\n",
        "# dense5 = tf.keras.layers.Dense(units=100, activation=tf.keras.activations.relu)(dense4)\r\n",
        "# dense6 = tf.keras.layers.Dense(units=100, activation=tf.keras.activations.relu)(dense5)\r\n",
        "# dense7 = tf.keras.layers.Dense(units=100, activation=tf.keras.activations.relu)(dense6)\r\n",
        "# dense8 = tf.keras.layers.Dense(units=100, activation=tf.keras.activations.relu)(dense7)\r\n",
        "out = tf.keras.layers.Dense(units=10)(dense3)\r\n",
        "\r\n",
        "model = tf.keras.Model(inputs=inp, outputs=out)"
      ],
      "outputs": [],
      "metadata": {
        "id": "JZ_bK1AB5ewU"
      }
    },
    {
      "cell_type": "code",
      "execution_count": 110,
      "source": [
        "converter = nengo_dl.Converter(model)"
      ],
      "outputs": [],
      "metadata": {
        "id": "seOy_LqT5ewV"
      }
    },
    {
      "cell_type": "markdown",
      "source": [
        "## Train the non-spiking network"
      ],
      "metadata": {}
    },
    {
      "cell_type": "code",
      "execution_count": 111,
      "source": [
        "with nengo_dl.Simulator(converter.net, minibatch_size=200) as sim:\r\n",
        "    \r\n",
        "    sim.compile(\r\n",
        "        optimizer=tf.optimizers.Adam(0.001),\r\n",
        "        loss=tf.losses.SparseCategoricalCrossentropy(from_logits=True),\r\n",
        "        metrics=[tf.metrics.sparse_categorical_accuracy]\r\n",
        "    )\r\n",
        "\r\n",
        "    sim.fit(\r\n",
        "        {converter.inputs[inp]: train_images},\r\n",
        "        {converter.outputs[out]: train_labels},\r\n",
        "        validation_data=({converter.inputs[inp]: test_images}, {converter.outputs[out]: test_labels}),\r\n",
        "        epochs=10\r\n",
        "    )\r\n",
        "\r\n",
        "    # save the parameters\r\n",
        "    sim.save_params(\"./scaling_early_and_late_params\")"
      ],
      "outputs": [
        {
          "output_type": "stream",
          "name": "stdout",
          "text": [
            "Build finished in 0:00:00                                                      \n",
            "Optimization finished in 0:00:00                                               \n",
            "Construction finished in 0:00:01                                               \n",
            "Epoch 1/10\n",
            "250/250 [==============================] - 26s 74ms/step - loss: 1.8624 - probe_loss: 1.8624 - probe_sparse_categorical_accuracy: 0.3336 - val_loss: 1.5972 - val_probe_loss: 1.5972 - val_probe_sparse_categorical_accuracy: 0.4276\n",
            "Epoch 2/10\n",
            "250/250 [==============================] - 15s 60ms/step - loss: 1.5322 - probe_loss: 1.5322 - probe_sparse_categorical_accuracy: 0.4568 - val_loss: 1.5064 - val_probe_loss: 1.5064 - val_probe_sparse_categorical_accuracy: 0.4688\n",
            "Epoch 3/10\n",
            "250/250 [==============================] - 4s 17ms/step - loss: 1.4336 - probe_loss: 1.4336 - probe_sparse_categorical_accuracy: 0.4906 - val_loss: 1.4622 - val_probe_loss: 1.4622 - val_probe_sparse_categorical_accuracy: 0.4895\n",
            "Epoch 4/10\n",
            "250/250 [==============================] - 4s 15ms/step - loss: 1.3511 - probe_loss: 1.3511 - probe_sparse_categorical_accuracy: 0.5226 - val_loss: 1.4405 - val_probe_loss: 1.4405 - val_probe_sparse_categorical_accuracy: 0.4911\n",
            "Epoch 5/10\n",
            "250/250 [==============================] - 5s 19ms/step - loss: 1.2780 - probe_loss: 1.2780 - probe_sparse_categorical_accuracy: 0.5478 - val_loss: 1.4311 - val_probe_loss: 1.4311 - val_probe_sparse_categorical_accuracy: 0.5049\n",
            "Epoch 6/10\n",
            "250/250 [==============================] - 17s 69ms/step - loss: 1.2194 - probe_loss: 1.2194 - probe_sparse_categorical_accuracy: 0.5698 - val_loss: 1.4174 - val_probe_loss: 1.4174 - val_probe_sparse_categorical_accuracy: 0.5078\n",
            "Epoch 7/10\n",
            "250/250 [==============================] - 16s 65ms/step - loss: 1.1781 - probe_loss: 1.1781 - probe_sparse_categorical_accuracy: 0.5843 - val_loss: 1.4106 - val_probe_loss: 1.4106 - val_probe_sparse_categorical_accuracy: 0.5131\n",
            "Epoch 8/10\n",
            "250/250 [==============================] - 15s 60ms/step - loss: 1.1239 - probe_loss: 1.1239 - probe_sparse_categorical_accuracy: 0.6002 - val_loss: 1.4233 - val_probe_loss: 1.4233 - val_probe_sparse_categorical_accuracy: 0.5083\n",
            "Epoch 9/10\n",
            "250/250 [==============================] - 5s 21ms/step - loss: 1.0871 - probe_loss: 1.0871 - probe_sparse_categorical_accuracy: 0.6159 - val_loss: 1.4404 - val_probe_loss: 1.4404 - val_probe_sparse_categorical_accuracy: 0.5105\n",
            "Epoch 10/10\n",
            "250/250 [==============================] - 5s 19ms/step - loss: 1.0460 - probe_loss: 1.0460 - probe_sparse_categorical_accuracy: 0.6308 - val_loss: 1.4479 - val_probe_loss: 1.4479 - val_probe_sparse_categorical_accuracy: 0.5116\n"
          ]
        }
      ],
      "metadata": {
        "id": "Es3hg9Q15ewV"
      }
    },
    {
      "cell_type": "markdown",
      "source": [
        "## Run the non-spiking network"
      ],
      "metadata": {}
    },
    {
      "cell_type": "code",
      "execution_count": 114,
      "source": [
        "def run_network(\r\n",
        "    model,\r\n",
        "    activation,\r\n",
        "    params_file=\"scaling_early_and_late_params\",\r\n",
        "    n_steps=30,\r\n",
        "    scale_firing_rates=1,\r\n",
        "    synapse=None,\r\n",
        "    n_test=400,\r\n",
        "):\r\n",
        "    # convert the keras model to a nengo network\r\n",
        "    nengo_converter = nengo_dl.Converter(\r\n",
        "        model,\r\n",
        "        swap_activations={tf.keras.activations.relu: activation},\r\n",
        "        scale_firing_rates=scale_firing_rates,\r\n",
        "        synapse=synapse,\r\n",
        "    )\r\n",
        "\r\n",
        "    # get input/output objects\r\n",
        "    nengo_input = nengo_converter.inputs[inp]\r\n",
        "    nengo_output = nengo_converter.outputs[out]\r\n",
        "\r\n",
        "    # repeat inputs for some number of timesteps\r\n",
        "    tiled_test_images = np.tile(test_images[:n_test], (1, n_steps, 1))\r\n",
        "\r\n",
        "    # set some options to speed up simulation\r\n",
        "    with nengo_converter.net:\r\n",
        "        nengo_dl.configure_settings(stateful=False)\r\n",
        "\r\n",
        "    # build network, load in trained weights, run inference on test images\r\n",
        "    with nengo_dl.Simulator(\r\n",
        "        nengo_converter.net, minibatch_size=10, progress_bar=False\r\n",
        "    ) as nengo_sim:\r\n",
        "        nengo_sim.load_params(params_file)\r\n",
        "        data = nengo_sim.predict({nengo_input: tiled_test_images})\r\n",
        "\r\n",
        "    # compute accuracy on test data, using output of network on\r\n",
        "    # last timestep\r\n",
        "    predictions = np.argmax(data[nengo_output][:, -1], axis=-1)\r\n",
        "    accuracy = (predictions == test_labels[:n_test, 0, 0]).mean()\r\n",
        "    print(f\" test accuracy: {100 * accuracy:.2f}%\")\r\n",
        "\r\n",
        "    return accuracy"
      ],
      "outputs": [],
      "metadata": {
        "id": "QnjBzML95ewX"
      }
    },
    {
      "cell_type": "code",
      "execution_count": 113,
      "source": [
        "run_network(\r\n",
        "    model=model,\r\n",
        "    activation=nengo.SpikingRectifiedLinear(), \r\n",
        "    n_steps=60,\r\n",
        "    synapse=0.002,\r\n",
        "    scale_firing_rates=20\r\n",
        ")"
      ],
      "outputs": [
        {
          "output_type": "error",
          "ename": "SimulationError",
          "evalue": "Number of saved parameters in scaling_early_and_late_params (7) != number of variables in the model (5)",
          "traceback": [
            "\u001b[1;31m---------------------------------------------------------------------------\u001b[0m",
            "\u001b[1;31mSimulationError\u001b[0m                           Traceback (most recent call last)",
            "\u001b[1;32m<ipython-input-113-6da021457ecc>\u001b[0m in \u001b[0;36m<module>\u001b[1;34m()\u001b[0m\n\u001b[0;32m      4\u001b[0m     \u001b[0mn_steps\u001b[0m\u001b[1;33m=\u001b[0m\u001b[1;36m60\u001b[0m\u001b[1;33m,\u001b[0m\u001b[1;33m\u001b[0m\u001b[0m\n\u001b[0;32m      5\u001b[0m     \u001b[0msynapse\u001b[0m\u001b[1;33m=\u001b[0m\u001b[1;36m0.002\u001b[0m\u001b[1;33m,\u001b[0m\u001b[1;33m\u001b[0m\u001b[0m\n\u001b[1;32m----> 6\u001b[1;33m     \u001b[0mscale_firing_rates\u001b[0m\u001b[1;33m=\u001b[0m\u001b[1;36m20\u001b[0m\u001b[1;33m\u001b[0m\u001b[0m\n\u001b[0m\u001b[0;32m      7\u001b[0m )\n",
            "\u001b[1;32m<ipython-input-112-363eeedde824>\u001b[0m in \u001b[0;36mrun_network\u001b[1;34m(model, activation, params_file, n_steps, scale_firing_rates, synapse, n_test)\u001b[0m\n\u001b[0;32m     31\u001b[0m         \u001b[0mnengo_converter\u001b[0m\u001b[1;33m.\u001b[0m\u001b[0mnet\u001b[0m\u001b[1;33m,\u001b[0m \u001b[0mminibatch_size\u001b[0m\u001b[1;33m=\u001b[0m\u001b[1;36m10\u001b[0m\u001b[1;33m,\u001b[0m \u001b[0mprogress_bar\u001b[0m\u001b[1;33m=\u001b[0m\u001b[1;32mFalse\u001b[0m\u001b[1;33m\u001b[0m\u001b[0m\n\u001b[0;32m     32\u001b[0m     ) as nengo_sim:\n\u001b[1;32m---> 33\u001b[1;33m         \u001b[0mnengo_sim\u001b[0m\u001b[1;33m.\u001b[0m\u001b[0mload_params\u001b[0m\u001b[1;33m(\u001b[0m\u001b[0mparams_file\u001b[0m\u001b[1;33m)\u001b[0m\u001b[1;33m\u001b[0m\u001b[0m\n\u001b[0m\u001b[0;32m     34\u001b[0m         \u001b[0mdata\u001b[0m \u001b[1;33m=\u001b[0m \u001b[0mnengo_sim\u001b[0m\u001b[1;33m.\u001b[0m\u001b[0mpredict\u001b[0m\u001b[1;33m(\u001b[0m\u001b[1;33m{\u001b[0m\u001b[0mnengo_input\u001b[0m\u001b[1;33m:\u001b[0m \u001b[0mtiled_test_images\u001b[0m\u001b[1;33m}\u001b[0m\u001b[1;33m)\u001b[0m\u001b[1;33m\u001b[0m\u001b[0m\n\u001b[0;32m     35\u001b[0m \u001b[1;33m\u001b[0m\u001b[0m\n",
            "\u001b[1;32m~\\Anaconda3\\lib\\site-packages\\nengo\\utils\\magic.py\u001b[0m in \u001b[0;36m__call__\u001b[1;34m(self, *args, **kwargs)\u001b[0m\n\u001b[0;32m    179\u001b[0m                 \u001b[1;32mreturn\u001b[0m \u001b[0mself\u001b[0m\u001b[1;33m.\u001b[0m\u001b[0mwrapper\u001b[0m\u001b[1;33m(\u001b[0m\u001b[0mwrapped\u001b[0m\u001b[1;33m,\u001b[0m \u001b[0minstance\u001b[0m\u001b[1;33m,\u001b[0m \u001b[0margs\u001b[0m\u001b[1;33m,\u001b[0m \u001b[0mkwargs\u001b[0m\u001b[1;33m)\u001b[0m\u001b[1;33m\u001b[0m\u001b[0m\n\u001b[0;32m    180\u001b[0m             \u001b[1;32melse\u001b[0m\u001b[1;33m:\u001b[0m\u001b[1;33m\u001b[0m\u001b[0m\n\u001b[1;32m--> 181\u001b[1;33m                 \u001b[1;32mreturn\u001b[0m \u001b[0mself\u001b[0m\u001b[1;33m.\u001b[0m\u001b[0mwrapper\u001b[0m\u001b[1;33m(\u001b[0m\u001b[0mself\u001b[0m\u001b[1;33m.\u001b[0m\u001b[0m__wrapped__\u001b[0m\u001b[1;33m,\u001b[0m \u001b[0mself\u001b[0m\u001b[1;33m.\u001b[0m\u001b[0minstance\u001b[0m\u001b[1;33m,\u001b[0m \u001b[0margs\u001b[0m\u001b[1;33m,\u001b[0m \u001b[0mkwargs\u001b[0m\u001b[1;33m)\u001b[0m\u001b[1;33m\u001b[0m\u001b[0m\n\u001b[0m\u001b[0;32m    182\u001b[0m         \u001b[1;32melse\u001b[0m\u001b[1;33m:\u001b[0m\u001b[1;33m\u001b[0m\u001b[0m\n\u001b[0;32m    183\u001b[0m             \u001b[0minstance\u001b[0m \u001b[1;33m=\u001b[0m \u001b[0mgetattr\u001b[0m\u001b[1;33m(\u001b[0m\u001b[0mself\u001b[0m\u001b[1;33m.\u001b[0m\u001b[0m__wrapped__\u001b[0m\u001b[1;33m,\u001b[0m \u001b[1;34m\"__self__\"\u001b[0m\u001b[1;33m,\u001b[0m \u001b[1;32mNone\u001b[0m\u001b[1;33m)\u001b[0m\u001b[1;33m\u001b[0m\u001b[0m\n",
            "\u001b[1;32m~\\Anaconda3\\lib\\site-packages\\nengo_dl\\simulator.py\u001b[0m in \u001b[0;36mrequire_open\u001b[1;34m(wrapped, instance, args, kwargs)\u001b[0m\n\u001b[0;32m     65\u001b[0m         )\n\u001b[0;32m     66\u001b[0m \u001b[1;33m\u001b[0m\u001b[0m\n\u001b[1;32m---> 67\u001b[1;33m     \u001b[1;32mreturn\u001b[0m \u001b[0mwrapped\u001b[0m\u001b[1;33m(\u001b[0m\u001b[1;33m*\u001b[0m\u001b[0margs\u001b[0m\u001b[1;33m,\u001b[0m \u001b[1;33m**\u001b[0m\u001b[0mkwargs\u001b[0m\u001b[1;33m)\u001b[0m\u001b[1;33m\u001b[0m\u001b[0m\n\u001b[0m\u001b[0;32m     68\u001b[0m \u001b[1;33m\u001b[0m\u001b[0m\n\u001b[0;32m     69\u001b[0m \u001b[1;33m\u001b[0m\u001b[0m\n",
            "\u001b[1;32m~\\Anaconda3\\lib\\site-packages\\nengo\\utils\\magic.py\u001b[0m in \u001b[0;36m__call__\u001b[1;34m(self, *args, **kwargs)\u001b[0m\n\u001b[0;32m    179\u001b[0m                 \u001b[1;32mreturn\u001b[0m \u001b[0mself\u001b[0m\u001b[1;33m.\u001b[0m\u001b[0mwrapper\u001b[0m\u001b[1;33m(\u001b[0m\u001b[0mwrapped\u001b[0m\u001b[1;33m,\u001b[0m \u001b[0minstance\u001b[0m\u001b[1;33m,\u001b[0m \u001b[0margs\u001b[0m\u001b[1;33m,\u001b[0m \u001b[0mkwargs\u001b[0m\u001b[1;33m)\u001b[0m\u001b[1;33m\u001b[0m\u001b[0m\n\u001b[0;32m    180\u001b[0m             \u001b[1;32melse\u001b[0m\u001b[1;33m:\u001b[0m\u001b[1;33m\u001b[0m\u001b[0m\n\u001b[1;32m--> 181\u001b[1;33m                 \u001b[1;32mreturn\u001b[0m \u001b[0mself\u001b[0m\u001b[1;33m.\u001b[0m\u001b[0mwrapper\u001b[0m\u001b[1;33m(\u001b[0m\u001b[0mself\u001b[0m\u001b[1;33m.\u001b[0m\u001b[0m__wrapped__\u001b[0m\u001b[1;33m,\u001b[0m \u001b[0mself\u001b[0m\u001b[1;33m.\u001b[0m\u001b[0minstance\u001b[0m\u001b[1;33m,\u001b[0m \u001b[0margs\u001b[0m\u001b[1;33m,\u001b[0m \u001b[0mkwargs\u001b[0m\u001b[1;33m)\u001b[0m\u001b[1;33m\u001b[0m\u001b[0m\n\u001b[0m\u001b[0;32m    182\u001b[0m         \u001b[1;32melse\u001b[0m\u001b[1;33m:\u001b[0m\u001b[1;33m\u001b[0m\u001b[0m\n\u001b[0;32m    183\u001b[0m             \u001b[0minstance\u001b[0m \u001b[1;33m=\u001b[0m \u001b[0mgetattr\u001b[0m\u001b[1;33m(\u001b[0m\u001b[0mself\u001b[0m\u001b[1;33m.\u001b[0m\u001b[0m__wrapped__\u001b[0m\u001b[1;33m,\u001b[0m \u001b[1;34m\"__self__\"\u001b[0m\u001b[1;33m,\u001b[0m \u001b[1;32mNone\u001b[0m\u001b[1;33m)\u001b[0m\u001b[1;33m\u001b[0m\u001b[0m\n",
            "\u001b[1;32m~\\Anaconda3\\lib\\site-packages\\nengo_dl\\simulator.py\u001b[0m in \u001b[0;36mwith_self\u001b[1;34m(wrapped, instance, args, kwargs)\u001b[0m\n\u001b[0;32m     48\u001b[0m     \u001b[1;32mtry\u001b[0m\u001b[1;33m:\u001b[0m\u001b[1;33m\u001b[0m\u001b[0m\n\u001b[0;32m     49\u001b[0m         \u001b[1;32mwith\u001b[0m \u001b[0mtf\u001b[0m\u001b[1;33m.\u001b[0m\u001b[0mdevice\u001b[0m\u001b[1;33m(\u001b[0m\u001b[0minstance\u001b[0m\u001b[1;33m.\u001b[0m\u001b[0mtensor_graph\u001b[0m\u001b[1;33m.\u001b[0m\u001b[0mdevice\u001b[0m\u001b[1;33m)\u001b[0m\u001b[1;33m:\u001b[0m\u001b[1;33m\u001b[0m\u001b[0m\n\u001b[1;32m---> 50\u001b[1;33m             \u001b[0moutput\u001b[0m \u001b[1;33m=\u001b[0m \u001b[0mwrapped\u001b[0m\u001b[1;33m(\u001b[0m\u001b[1;33m*\u001b[0m\u001b[0margs\u001b[0m\u001b[1;33m,\u001b[0m \u001b[1;33m**\u001b[0m\u001b[0mkwargs\u001b[0m\u001b[1;33m)\u001b[0m\u001b[1;33m\u001b[0m\u001b[0m\n\u001b[0m\u001b[0;32m     51\u001b[0m     \u001b[1;32mfinally\u001b[0m\u001b[1;33m:\u001b[0m\u001b[1;33m\u001b[0m\u001b[0m\n\u001b[0;32m     52\u001b[0m         \u001b[0mtf\u001b[0m\u001b[1;33m.\u001b[0m\u001b[0mkeras\u001b[0m\u001b[1;33m.\u001b[0m\u001b[0mbackend\u001b[0m\u001b[1;33m.\u001b[0m\u001b[0mset_floatx\u001b[0m\u001b[1;33m(\u001b[0m\u001b[0mkeras_dtype\u001b[0m\u001b[1;33m)\u001b[0m\u001b[1;33m\u001b[0m\u001b[0m\n",
            "\u001b[1;32m~\\Anaconda3\\lib\\site-packages\\nengo_dl\\simulator.py\u001b[0m in \u001b[0;36mload_params\u001b[1;34m(self, path, include_state, include_non_trainable)\u001b[0m\n\u001b[0;32m   1266\u001b[0m             \u001b[1;32mif\u001b[0m \u001b[0mlen\u001b[0m\u001b[1;33m(\u001b[0m\u001b[0mparams\u001b[0m\u001b[1;33m)\u001b[0m \u001b[1;33m!=\u001b[0m \u001b[0mlen\u001b[0m\u001b[1;33m(\u001b[0m\u001b[0mvals\u001b[0m\u001b[1;33m.\u001b[0m\u001b[0mfiles\u001b[0m\u001b[1;33m)\u001b[0m\u001b[1;33m:\u001b[0m\u001b[1;33m\u001b[0m\u001b[0m\n\u001b[0;32m   1267\u001b[0m                 raise SimulationError(\n\u001b[1;32m-> 1268\u001b[1;33m                     \u001b[1;34mf\"Number of saved parameters in {path} ({len(vals.files)}) != \"\u001b[0m\u001b[1;33m\u001b[0m\u001b[0m\n\u001b[0m\u001b[0;32m   1269\u001b[0m                     \u001b[1;34mf\"number of variables in the model ({len(params)})\"\u001b[0m\u001b[1;33m\u001b[0m\u001b[0m\n\u001b[0;32m   1270\u001b[0m                 )\n",
            "\u001b[1;31mSimulationError\u001b[0m: Number of saved parameters in scaling_early_and_late_params (7) != number of variables in the model (5)"
          ]
        }
      ],
      "metadata": {
        "id": "4vChmAYq5ewY"
      }
    },
    {
      "cell_type": "code",
      "execution_count": 74,
      "source": [
        "run_network(activation=nengo.RectifiedLinear(), n_steps=10)"
      ],
      "outputs": [
        {
          "output_type": "stream",
          "name": "stdout",
          "text": [
            " test accuracy: 48.00%\n"
          ]
        },
        {
          "output_type": "execute_result",
          "data": {
            "text/plain": [
              "0.48"
            ]
          },
          "metadata": {},
          "execution_count": 74
        }
      ],
      "metadata": {
        "id": "4vChmAYq5ewY"
      }
    },
    {
      "cell_type": "markdown",
      "source": [
        "## Scale the firing rates for each layer at a time"
      ],
      "metadata": {}
    },
    {
      "cell_type": "code",
      "execution_count": 94,
      "source": [
        "print(type(model.layers[0]))"
      ],
      "outputs": [
        {
          "output_type": "stream",
          "name": "stdout",
          "text": [
            "<class 'tensorflow.python.keras.engine.input_layer.InputLayer'>\n"
          ]
        }
      ],
      "metadata": {}
    },
    {
      "cell_type": "code",
      "execution_count": 93,
      "source": [
        "for layer in model.layers:\r\n",
        "    print(type(layer))\r\n",
        "    break"
      ],
      "outputs": [
        {
          "output_type": "stream",
          "name": "stdout",
          "text": [
            "<class 'tensorflow.python.keras.engine.input_layer.InputLayer'>\n"
          ]
        }
      ],
      "metadata": {}
    },
    {
      "cell_type": "code",
      "execution_count": 99,
      "source": [
        "scale_firing_rates"
      ],
      "outputs": [
        {
          "output_type": "execute_result",
          "data": {
            "text/plain": [
              "{<tensorflow.python.keras.engine.input_layer.InputLayer at 0x121e375d198>: 20,\n",
              " <tensorflow.python.keras.layers.core.Flatten at 0x1203a912198>: 20,\n",
              " <tensorflow.python.keras.layers.core.Dense at 0x1203a9123c8>: 20,\n",
              " <tensorflow.python.keras.layers.core.Dense at 0x1203a912710>: 20,\n",
              " <tensorflow.python.keras.layers.core.Dense at 0x1203a912a58>: 20,\n",
              " <tensorflow.python.keras.layers.core.Dense at 0x1203a912da0>: 20,\n",
              " <tensorflow.python.keras.layers.core.Dense at 0x1203a906128>: 20,\n",
              " <tensorflow.python.keras.layers.core.Dense at 0x1203a906470>: 20,\n",
              " <tensorflow.python.keras.layers.core.Dense at 0x1203a9067b8>: 20,\n",
              " <tensorflow.python.keras.layers.core.Dense at 0x1203a906b00>: 20,\n",
              " <tensorflow.python.keras.layers.core.Dense at 0x1203a906e48>: 20,\n",
              " <tensorflow.python.keras.layers.core.Dense at 0x1203a9321d0>: 20,\n",
              " <tensorflow.python.keras.layers.core.Dense at 0x12022cd6390>: 300}"
            ]
          },
          "metadata": {},
          "execution_count": 99
        }
      ],
      "metadata": {}
    },
    {
      "cell_type": "code",
      "execution_count": 97,
      "source": [
        "import copy"
      ],
      "outputs": [],
      "metadata": {}
    },
    {
      "cell_type": "code",
      "execution_count": 103,
      "source": [
        "tf.keras.backend.clear_session()"
      ],
      "outputs": [],
      "metadata": {}
    },
    {
      "cell_type": "code",
      "execution_count": 102,
      "source": [
        "base_scale_firing_rates = 20\r\n",
        "special_scale_firing_rates = 300\r\n",
        "synapse = 0.002\r\n",
        "accuracy_list = []\r\n",
        "\r\n",
        "global_scale_firing_rates = {layer:base_scale_firing_rates for layer in model.layers}\r\n",
        "\r\n",
        "for layer in model.layers[-2:]:\r\n",
        "\r\n",
        "\r\n",
        "    scale_firing_rates = copy.deepcopy(global_scale_firing_rates)\r\n",
        "    scale_firing_rates[layer] = special_scale_firing_rates\r\n",
        "\r\n",
        "    print(\"Scaled layer: \" + layer._name)\r\n",
        "    accuracy = run_network(\r\n",
        "        model=model,\r\n",
        "        activation=nengo.SpikingRectifiedLinear(),\r\n",
        "        n_steps=60,\r\n",
        "        synapse=synapse,\r\n",
        "        scale_firing_rates=scale_firing_rates)      \r\n",
        "    accuracy_list.append(accuracy)"
      ],
      "outputs": [
        {
          "output_type": "stream",
          "name": "stdout",
          "text": [
            "Scaled layer: dense_50\n"
          ]
        },
        {
          "output_type": "error",
          "ename": "KeyboardInterrupt",
          "evalue": "",
          "traceback": [
            "\u001b[1;31m---------------------------------------------------------------------------\u001b[0m",
            "\u001b[1;31mKeyboardInterrupt\u001b[0m                         Traceback (most recent call last)",
            "\u001b[1;32m<ipython-input-102-e7f35031b6fa>\u001b[0m in \u001b[0;36m<module>\u001b[1;34m()\u001b[0m\n\u001b[0;32m     18\u001b[0m         \u001b[0mn_steps\u001b[0m\u001b[1;33m=\u001b[0m\u001b[1;36m60\u001b[0m\u001b[1;33m,\u001b[0m\u001b[1;33m\u001b[0m\u001b[0m\n\u001b[0;32m     19\u001b[0m         \u001b[0msynapse\u001b[0m\u001b[1;33m=\u001b[0m\u001b[0msynapse\u001b[0m\u001b[1;33m,\u001b[0m\u001b[1;33m\u001b[0m\u001b[0m\n\u001b[1;32m---> 20\u001b[1;33m         scale_firing_rates=scale_firing_rates)      \n\u001b[0m\u001b[0;32m     21\u001b[0m     \u001b[0maccuracy_list\u001b[0m\u001b[1;33m.\u001b[0m\u001b[0mappend\u001b[0m\u001b[1;33m(\u001b[0m\u001b[0maccuracy\u001b[0m\u001b[1;33m)\u001b[0m\u001b[1;33m\u001b[0m\u001b[0m\n",
            "\u001b[1;32m<ipython-input-84-b069c4893150>\u001b[0m in \u001b[0;36mrun_network\u001b[1;34m(model, activation, n_steps, scale_firing_rates, synapse, n_test)\u001b[0m\n\u001b[0;32m     32\u001b[0m     ) as nengo_sim:\n\u001b[0;32m     33\u001b[0m         \u001b[1;31m# nengo_sim.load_params(params_file)\u001b[0m\u001b[1;33m\u001b[0m\u001b[1;33m\u001b[0m\u001b[0m\n\u001b[1;32m---> 34\u001b[1;33m         \u001b[0mdata\u001b[0m \u001b[1;33m=\u001b[0m \u001b[0mnengo_sim\u001b[0m\u001b[1;33m.\u001b[0m\u001b[0mpredict\u001b[0m\u001b[1;33m(\u001b[0m\u001b[1;33m{\u001b[0m\u001b[0mnengo_input\u001b[0m\u001b[1;33m:\u001b[0m \u001b[0mtiled_test_images\u001b[0m\u001b[1;33m}\u001b[0m\u001b[1;33m)\u001b[0m\u001b[1;33m\u001b[0m\u001b[0m\n\u001b[0m\u001b[0;32m     35\u001b[0m \u001b[1;33m\u001b[0m\u001b[0m\n\u001b[0;32m     36\u001b[0m     \u001b[1;31m# compute accuracy on test data, using output of network on\u001b[0m\u001b[1;33m\u001b[0m\u001b[1;33m\u001b[0m\u001b[0m\n",
            "\u001b[1;32m~\\Anaconda3\\lib\\site-packages\\nengo\\utils\\magic.py\u001b[0m in \u001b[0;36m__call__\u001b[1;34m(self, *args, **kwargs)\u001b[0m\n\u001b[0;32m    179\u001b[0m                 \u001b[1;32mreturn\u001b[0m \u001b[0mself\u001b[0m\u001b[1;33m.\u001b[0m\u001b[0mwrapper\u001b[0m\u001b[1;33m(\u001b[0m\u001b[0mwrapped\u001b[0m\u001b[1;33m,\u001b[0m \u001b[0minstance\u001b[0m\u001b[1;33m,\u001b[0m \u001b[0margs\u001b[0m\u001b[1;33m,\u001b[0m \u001b[0mkwargs\u001b[0m\u001b[1;33m)\u001b[0m\u001b[1;33m\u001b[0m\u001b[0m\n\u001b[0;32m    180\u001b[0m             \u001b[1;32melse\u001b[0m\u001b[1;33m:\u001b[0m\u001b[1;33m\u001b[0m\u001b[0m\n\u001b[1;32m--> 181\u001b[1;33m                 \u001b[1;32mreturn\u001b[0m \u001b[0mself\u001b[0m\u001b[1;33m.\u001b[0m\u001b[0mwrapper\u001b[0m\u001b[1;33m(\u001b[0m\u001b[0mself\u001b[0m\u001b[1;33m.\u001b[0m\u001b[0m__wrapped__\u001b[0m\u001b[1;33m,\u001b[0m \u001b[0mself\u001b[0m\u001b[1;33m.\u001b[0m\u001b[0minstance\u001b[0m\u001b[1;33m,\u001b[0m \u001b[0margs\u001b[0m\u001b[1;33m,\u001b[0m \u001b[0mkwargs\u001b[0m\u001b[1;33m)\u001b[0m\u001b[1;33m\u001b[0m\u001b[0m\n\u001b[0m\u001b[0;32m    182\u001b[0m         \u001b[1;32melse\u001b[0m\u001b[1;33m:\u001b[0m\u001b[1;33m\u001b[0m\u001b[0m\n\u001b[0;32m    183\u001b[0m             \u001b[0minstance\u001b[0m \u001b[1;33m=\u001b[0m \u001b[0mgetattr\u001b[0m\u001b[1;33m(\u001b[0m\u001b[0mself\u001b[0m\u001b[1;33m.\u001b[0m\u001b[0m__wrapped__\u001b[0m\u001b[1;33m,\u001b[0m \u001b[1;34m\"__self__\"\u001b[0m\u001b[1;33m,\u001b[0m \u001b[1;32mNone\u001b[0m\u001b[1;33m)\u001b[0m\u001b[1;33m\u001b[0m\u001b[0m\n",
            "\u001b[1;32m~\\Anaconda3\\lib\\site-packages\\nengo_dl\\simulator.py\u001b[0m in \u001b[0;36mrequire_open\u001b[1;34m(wrapped, instance, args, kwargs)\u001b[0m\n\u001b[0;32m     65\u001b[0m         )\n\u001b[0;32m     66\u001b[0m \u001b[1;33m\u001b[0m\u001b[0m\n\u001b[1;32m---> 67\u001b[1;33m     \u001b[1;32mreturn\u001b[0m \u001b[0mwrapped\u001b[0m\u001b[1;33m(\u001b[0m\u001b[1;33m*\u001b[0m\u001b[0margs\u001b[0m\u001b[1;33m,\u001b[0m \u001b[1;33m**\u001b[0m\u001b[0mkwargs\u001b[0m\u001b[1;33m)\u001b[0m\u001b[1;33m\u001b[0m\u001b[0m\n\u001b[0m\u001b[0;32m     68\u001b[0m \u001b[1;33m\u001b[0m\u001b[0m\n\u001b[0;32m     69\u001b[0m \u001b[1;33m\u001b[0m\u001b[0m\n",
            "\u001b[1;32m~\\Anaconda3\\lib\\site-packages\\nengo_dl\\simulator.py\u001b[0m in \u001b[0;36mpredict\u001b[1;34m(self, x, n_steps, stateful, **kwargs)\u001b[0m\n\u001b[0;32m    677\u001b[0m \u001b[1;33m\u001b[0m\u001b[0m\n\u001b[0;32m    678\u001b[0m         return self._call_keras(\n\u001b[1;32m--> 679\u001b[1;33m             \u001b[1;34m\"predict\"\u001b[0m\u001b[1;33m,\u001b[0m \u001b[0mx\u001b[0m\u001b[1;33m=\u001b[0m\u001b[0mx\u001b[0m\u001b[1;33m,\u001b[0m \u001b[0mn_steps\u001b[0m\u001b[1;33m=\u001b[0m\u001b[0mn_steps\u001b[0m\u001b[1;33m,\u001b[0m \u001b[0mstateful\u001b[0m\u001b[1;33m=\u001b[0m\u001b[0mstateful\u001b[0m\u001b[1;33m,\u001b[0m \u001b[1;33m**\u001b[0m\u001b[0mkwargs\u001b[0m\u001b[1;33m\u001b[0m\u001b[0m\n\u001b[0m\u001b[0;32m    680\u001b[0m         )\n\u001b[0;32m    681\u001b[0m \u001b[1;33m\u001b[0m\u001b[0m\n",
            "\u001b[1;32m~\\Anaconda3\\lib\\site-packages\\nengo\\utils\\magic.py\u001b[0m in \u001b[0;36m__call__\u001b[1;34m(self, *args, **kwargs)\u001b[0m\n\u001b[0;32m    179\u001b[0m                 \u001b[1;32mreturn\u001b[0m \u001b[0mself\u001b[0m\u001b[1;33m.\u001b[0m\u001b[0mwrapper\u001b[0m\u001b[1;33m(\u001b[0m\u001b[0mwrapped\u001b[0m\u001b[1;33m,\u001b[0m \u001b[0minstance\u001b[0m\u001b[1;33m,\u001b[0m \u001b[0margs\u001b[0m\u001b[1;33m,\u001b[0m \u001b[0mkwargs\u001b[0m\u001b[1;33m)\u001b[0m\u001b[1;33m\u001b[0m\u001b[0m\n\u001b[0;32m    180\u001b[0m             \u001b[1;32melse\u001b[0m\u001b[1;33m:\u001b[0m\u001b[1;33m\u001b[0m\u001b[0m\n\u001b[1;32m--> 181\u001b[1;33m                 \u001b[1;32mreturn\u001b[0m \u001b[0mself\u001b[0m\u001b[1;33m.\u001b[0m\u001b[0mwrapper\u001b[0m\u001b[1;33m(\u001b[0m\u001b[0mself\u001b[0m\u001b[1;33m.\u001b[0m\u001b[0m__wrapped__\u001b[0m\u001b[1;33m,\u001b[0m \u001b[0mself\u001b[0m\u001b[1;33m.\u001b[0m\u001b[0minstance\u001b[0m\u001b[1;33m,\u001b[0m \u001b[0margs\u001b[0m\u001b[1;33m,\u001b[0m \u001b[0mkwargs\u001b[0m\u001b[1;33m)\u001b[0m\u001b[1;33m\u001b[0m\u001b[0m\n\u001b[0m\u001b[0;32m    182\u001b[0m         \u001b[1;32melse\u001b[0m\u001b[1;33m:\u001b[0m\u001b[1;33m\u001b[0m\u001b[0m\n\u001b[0;32m    183\u001b[0m             \u001b[0minstance\u001b[0m \u001b[1;33m=\u001b[0m \u001b[0mgetattr\u001b[0m\u001b[1;33m(\u001b[0m\u001b[0mself\u001b[0m\u001b[1;33m.\u001b[0m\u001b[0m__wrapped__\u001b[0m\u001b[1;33m,\u001b[0m \u001b[1;34m\"__self__\"\u001b[0m\u001b[1;33m,\u001b[0m \u001b[1;32mNone\u001b[0m\u001b[1;33m)\u001b[0m\u001b[1;33m\u001b[0m\u001b[0m\n",
            "\u001b[1;32m~\\Anaconda3\\lib\\site-packages\\nengo_dl\\simulator.py\u001b[0m in \u001b[0;36mwith_self\u001b[1;34m(wrapped, instance, args, kwargs)\u001b[0m\n\u001b[0;32m     48\u001b[0m     \u001b[1;32mtry\u001b[0m\u001b[1;33m:\u001b[0m\u001b[1;33m\u001b[0m\u001b[0m\n\u001b[0;32m     49\u001b[0m         \u001b[1;32mwith\u001b[0m \u001b[0mtf\u001b[0m\u001b[1;33m.\u001b[0m\u001b[0mdevice\u001b[0m\u001b[1;33m(\u001b[0m\u001b[0minstance\u001b[0m\u001b[1;33m.\u001b[0m\u001b[0mtensor_graph\u001b[0m\u001b[1;33m.\u001b[0m\u001b[0mdevice\u001b[0m\u001b[1;33m)\u001b[0m\u001b[1;33m:\u001b[0m\u001b[1;33m\u001b[0m\u001b[0m\n\u001b[1;32m---> 50\u001b[1;33m             \u001b[0moutput\u001b[0m \u001b[1;33m=\u001b[0m \u001b[0mwrapped\u001b[0m\u001b[1;33m(\u001b[0m\u001b[1;33m*\u001b[0m\u001b[0margs\u001b[0m\u001b[1;33m,\u001b[0m \u001b[1;33m**\u001b[0m\u001b[0mkwargs\u001b[0m\u001b[1;33m)\u001b[0m\u001b[1;33m\u001b[0m\u001b[0m\n\u001b[0m\u001b[0;32m     51\u001b[0m     \u001b[1;32mfinally\u001b[0m\u001b[1;33m:\u001b[0m\u001b[1;33m\u001b[0m\u001b[0m\n\u001b[0;32m     52\u001b[0m         \u001b[0mtf\u001b[0m\u001b[1;33m.\u001b[0m\u001b[0mkeras\u001b[0m\u001b[1;33m.\u001b[0m\u001b[0mbackend\u001b[0m\u001b[1;33m.\u001b[0m\u001b[0mset_floatx\u001b[0m\u001b[1;33m(\u001b[0m\u001b[0mkeras_dtype\u001b[0m\u001b[1;33m)\u001b[0m\u001b[1;33m\u001b[0m\u001b[0m\n",
            "\u001b[1;32m~\\Anaconda3\\lib\\site-packages\\nengo_dl\\simulator.py\u001b[0m in \u001b[0;36m_call_keras\u001b[1;34m(self, func_type, x, y, n_steps, stateful, **kwargs)\u001b[0m\n\u001b[0;32m   1041\u001b[0m             \u001b[0mfunc_args\u001b[0m \u001b[1;33m=\u001b[0m \u001b[0mdict\u001b[0m\u001b[1;33m(\u001b[0m\u001b[0mx\u001b[0m\u001b[1;33m=\u001b[0m\u001b[0mx\u001b[0m\u001b[1;33m,\u001b[0m \u001b[0my\u001b[0m\u001b[1;33m=\u001b[0m\u001b[0my\u001b[0m\u001b[1;33m,\u001b[0m \u001b[1;33m**\u001b[0m\u001b[0mkwargs\u001b[0m\u001b[1;33m)\u001b[0m\u001b[1;33m\u001b[0m\u001b[0m\n\u001b[0;32m   1042\u001b[0m \u001b[1;33m\u001b[0m\u001b[0m\n\u001b[1;32m-> 1043\u001b[1;33m         \u001b[0moutputs\u001b[0m \u001b[1;33m=\u001b[0m \u001b[0mgetattr\u001b[0m\u001b[1;33m(\u001b[0m\u001b[0mself\u001b[0m\u001b[1;33m.\u001b[0m\u001b[0mkeras_model\u001b[0m\u001b[1;33m,\u001b[0m \u001b[0mfunc_type\u001b[0m\u001b[1;33m)\u001b[0m\u001b[1;33m(\u001b[0m\u001b[1;33m**\u001b[0m\u001b[0mfunc_args\u001b[0m\u001b[1;33m)\u001b[0m\u001b[1;33m\u001b[0m\u001b[0m\n\u001b[0m\u001b[0;32m   1044\u001b[0m \u001b[1;33m\u001b[0m\u001b[0m\n\u001b[0;32m   1045\u001b[0m         \u001b[1;31m# update n_steps/time\u001b[0m\u001b[1;33m\u001b[0m\u001b[1;33m\u001b[0m\u001b[0m\n",
            "\u001b[1;32m~\\Anaconda3\\lib\\site-packages\\tensorflow\\python\\keras\\engine\\training.py\u001b[0m in \u001b[0;36mpredict\u001b[1;34m(self, x, batch_size, verbose, steps, callbacks, max_queue_size, workers, use_multiprocessing)\u001b[0m\n\u001b[0;32m   1627\u001b[0m           \u001b[1;32mfor\u001b[0m \u001b[0mstep\u001b[0m \u001b[1;32min\u001b[0m \u001b[0mdata_handler\u001b[0m\u001b[1;33m.\u001b[0m\u001b[0msteps\u001b[0m\u001b[1;33m(\u001b[0m\u001b[1;33m)\u001b[0m\u001b[1;33m:\u001b[0m\u001b[1;33m\u001b[0m\u001b[0m\n\u001b[0;32m   1628\u001b[0m             \u001b[0mcallbacks\u001b[0m\u001b[1;33m.\u001b[0m\u001b[0mon_predict_batch_begin\u001b[0m\u001b[1;33m(\u001b[0m\u001b[0mstep\u001b[0m\u001b[1;33m)\u001b[0m\u001b[1;33m\u001b[0m\u001b[0m\n\u001b[1;32m-> 1629\u001b[1;33m             \u001b[0mtmp_batch_outputs\u001b[0m \u001b[1;33m=\u001b[0m \u001b[0mself\u001b[0m\u001b[1;33m.\u001b[0m\u001b[0mpredict_function\u001b[0m\u001b[1;33m(\u001b[0m\u001b[0miterator\u001b[0m\u001b[1;33m)\u001b[0m\u001b[1;33m\u001b[0m\u001b[0m\n\u001b[0m\u001b[0;32m   1630\u001b[0m             \u001b[1;32mif\u001b[0m \u001b[0mdata_handler\u001b[0m\u001b[1;33m.\u001b[0m\u001b[0mshould_sync\u001b[0m\u001b[1;33m:\u001b[0m\u001b[1;33m\u001b[0m\u001b[0m\n\u001b[0;32m   1631\u001b[0m               \u001b[0mcontext\u001b[0m\u001b[1;33m.\u001b[0m\u001b[0masync_wait\u001b[0m\u001b[1;33m(\u001b[0m\u001b[1;33m)\u001b[0m\u001b[1;33m\u001b[0m\u001b[0m\n",
            "\u001b[1;32m~\\Anaconda3\\lib\\site-packages\\tensorflow\\python\\eager\\def_function.py\u001b[0m in \u001b[0;36m__call__\u001b[1;34m(self, *args, **kwds)\u001b[0m\n\u001b[0;32m    826\u001b[0m     \u001b[0mtracing_count\u001b[0m \u001b[1;33m=\u001b[0m \u001b[0mself\u001b[0m\u001b[1;33m.\u001b[0m\u001b[0mexperimental_get_tracing_count\u001b[0m\u001b[1;33m(\u001b[0m\u001b[1;33m)\u001b[0m\u001b[1;33m\u001b[0m\u001b[0m\n\u001b[0;32m    827\u001b[0m     \u001b[1;32mwith\u001b[0m \u001b[0mtrace\u001b[0m\u001b[1;33m.\u001b[0m\u001b[0mTrace\u001b[0m\u001b[1;33m(\u001b[0m\u001b[0mself\u001b[0m\u001b[1;33m.\u001b[0m\u001b[0m_name\u001b[0m\u001b[1;33m)\u001b[0m \u001b[1;32mas\u001b[0m \u001b[0mtm\u001b[0m\u001b[1;33m:\u001b[0m\u001b[1;33m\u001b[0m\u001b[0m\n\u001b[1;32m--> 828\u001b[1;33m       \u001b[0mresult\u001b[0m \u001b[1;33m=\u001b[0m \u001b[0mself\u001b[0m\u001b[1;33m.\u001b[0m\u001b[0m_call\u001b[0m\u001b[1;33m(\u001b[0m\u001b[1;33m*\u001b[0m\u001b[0margs\u001b[0m\u001b[1;33m,\u001b[0m \u001b[1;33m**\u001b[0m\u001b[0mkwds\u001b[0m\u001b[1;33m)\u001b[0m\u001b[1;33m\u001b[0m\u001b[0m\n\u001b[0m\u001b[0;32m    829\u001b[0m       \u001b[0mcompiler\u001b[0m \u001b[1;33m=\u001b[0m \u001b[1;34m\"xla\"\u001b[0m \u001b[1;32mif\u001b[0m \u001b[0mself\u001b[0m\u001b[1;33m.\u001b[0m\u001b[0m_experimental_compile\u001b[0m \u001b[1;32melse\u001b[0m \u001b[1;34m\"nonXla\"\u001b[0m\u001b[1;33m\u001b[0m\u001b[0m\n\u001b[0;32m    830\u001b[0m       \u001b[0mnew_tracing_count\u001b[0m \u001b[1;33m=\u001b[0m \u001b[0mself\u001b[0m\u001b[1;33m.\u001b[0m\u001b[0mexperimental_get_tracing_count\u001b[0m\u001b[1;33m(\u001b[0m\u001b[1;33m)\u001b[0m\u001b[1;33m\u001b[0m\u001b[0m\n",
            "\u001b[1;32m~\\Anaconda3\\lib\\site-packages\\tensorflow\\python\\eager\\def_function.py\u001b[0m in \u001b[0;36m_call\u001b[1;34m(self, *args, **kwds)\u001b[0m\n\u001b[0;32m    860\u001b[0m       \u001b[1;31m# In this case we have not created variables on the first call. So we can\u001b[0m\u001b[1;33m\u001b[0m\u001b[1;33m\u001b[0m\u001b[0m\n\u001b[0;32m    861\u001b[0m       \u001b[1;31m# run the first trace but we should fail if variables are created.\u001b[0m\u001b[1;33m\u001b[0m\u001b[1;33m\u001b[0m\u001b[0m\n\u001b[1;32m--> 862\u001b[1;33m       \u001b[0mresults\u001b[0m \u001b[1;33m=\u001b[0m \u001b[0mself\u001b[0m\u001b[1;33m.\u001b[0m\u001b[0m_stateful_fn\u001b[0m\u001b[1;33m(\u001b[0m\u001b[1;33m*\u001b[0m\u001b[0margs\u001b[0m\u001b[1;33m,\u001b[0m \u001b[1;33m**\u001b[0m\u001b[0mkwds\u001b[0m\u001b[1;33m)\u001b[0m\u001b[1;33m\u001b[0m\u001b[0m\n\u001b[0m\u001b[0;32m    863\u001b[0m       \u001b[1;32mif\u001b[0m \u001b[0mself\u001b[0m\u001b[1;33m.\u001b[0m\u001b[0m_created_variables\u001b[0m\u001b[1;33m:\u001b[0m\u001b[1;33m\u001b[0m\u001b[0m\n\u001b[0;32m    864\u001b[0m         raise ValueError(\"Creating variables on a non-first call to a function\"\n",
            "\u001b[1;32m~\\Anaconda3\\lib\\site-packages\\tensorflow\\python\\eager\\function.py\u001b[0m in \u001b[0;36m__call__\u001b[1;34m(self, *args, **kwargs)\u001b[0m\n\u001b[0;32m   2941\u001b[0m        filtered_flat_args) = self._maybe_define_function(args, kwargs)\n\u001b[0;32m   2942\u001b[0m     return graph_function._call_flat(\n\u001b[1;32m-> 2943\u001b[1;33m         filtered_flat_args, captured_inputs=graph_function.captured_inputs)  # pylint: disable=protected-access\n\u001b[0m\u001b[0;32m   2944\u001b[0m \u001b[1;33m\u001b[0m\u001b[0m\n\u001b[0;32m   2945\u001b[0m   \u001b[1;33m@\u001b[0m\u001b[0mproperty\u001b[0m\u001b[1;33m\u001b[0m\u001b[0m\n",
            "\u001b[1;32m~\\Anaconda3\\lib\\site-packages\\tensorflow\\python\\eager\\function.py\u001b[0m in \u001b[0;36m_call_flat\u001b[1;34m(self, args, captured_inputs, cancellation_manager)\u001b[0m\n\u001b[0;32m   1917\u001b[0m       \u001b[1;31m# No tape is watching; skip to running the function.\u001b[0m\u001b[1;33m\u001b[0m\u001b[1;33m\u001b[0m\u001b[0m\n\u001b[0;32m   1918\u001b[0m       return self._build_call_outputs(self._inference_function.call(\n\u001b[1;32m-> 1919\u001b[1;33m           ctx, args, cancellation_manager=cancellation_manager))\n\u001b[0m\u001b[0;32m   1920\u001b[0m     forward_backward = self._select_forward_and_backward_functions(\n\u001b[0;32m   1921\u001b[0m         \u001b[0margs\u001b[0m\u001b[1;33m,\u001b[0m\u001b[1;33m\u001b[0m\u001b[0m\n",
            "\u001b[1;32m~\\Anaconda3\\lib\\site-packages\\tensorflow\\python\\eager\\function.py\u001b[0m in \u001b[0;36mcall\u001b[1;34m(self, ctx, args, cancellation_manager)\u001b[0m\n\u001b[0;32m    558\u001b[0m               \u001b[0minputs\u001b[0m\u001b[1;33m=\u001b[0m\u001b[0margs\u001b[0m\u001b[1;33m,\u001b[0m\u001b[1;33m\u001b[0m\u001b[0m\n\u001b[0;32m    559\u001b[0m               \u001b[0mattrs\u001b[0m\u001b[1;33m=\u001b[0m\u001b[0mattrs\u001b[0m\u001b[1;33m,\u001b[0m\u001b[1;33m\u001b[0m\u001b[0m\n\u001b[1;32m--> 560\u001b[1;33m               ctx=ctx)\n\u001b[0m\u001b[0;32m    561\u001b[0m         \u001b[1;32melse\u001b[0m\u001b[1;33m:\u001b[0m\u001b[1;33m\u001b[0m\u001b[0m\n\u001b[0;32m    562\u001b[0m           outputs = execute.execute_with_cancellation(\n",
            "\u001b[1;32m~\\Anaconda3\\lib\\site-packages\\tensorflow\\python\\eager\\execute.py\u001b[0m in \u001b[0;36mquick_execute\u001b[1;34m(op_name, num_outputs, inputs, attrs, ctx, name)\u001b[0m\n\u001b[0;32m     58\u001b[0m     \u001b[0mctx\u001b[0m\u001b[1;33m.\u001b[0m\u001b[0mensure_initialized\u001b[0m\u001b[1;33m(\u001b[0m\u001b[1;33m)\u001b[0m\u001b[1;33m\u001b[0m\u001b[0m\n\u001b[0;32m     59\u001b[0m     tensors = pywrap_tfe.TFE_Py_Execute(ctx._handle, device_name, op_name,\n\u001b[1;32m---> 60\u001b[1;33m                                         inputs, attrs, num_outputs)\n\u001b[0m\u001b[0;32m     61\u001b[0m   \u001b[1;32mexcept\u001b[0m \u001b[0mcore\u001b[0m\u001b[1;33m.\u001b[0m\u001b[0m_NotOkStatusException\u001b[0m \u001b[1;32mas\u001b[0m \u001b[0me\u001b[0m\u001b[1;33m:\u001b[0m\u001b[1;33m\u001b[0m\u001b[0m\n\u001b[0;32m     62\u001b[0m     \u001b[1;32mif\u001b[0m \u001b[0mname\u001b[0m \u001b[1;32mis\u001b[0m \u001b[1;32mnot\u001b[0m \u001b[1;32mNone\u001b[0m\u001b[1;33m:\u001b[0m\u001b[1;33m\u001b[0m\u001b[0m\n",
            "\u001b[1;31mKeyboardInterrupt\u001b[0m: "
          ]
        }
      ],
      "metadata": {}
    },
    {
      "cell_type": "code",
      "execution_count": null,
      "source": [
        "accuracy_list = np.array(accuracy_list)\r\n",
        "plt.xlabel(\"layer scaled\")\r\n",
        "plt.ylabel(\"accuracy\")\r\n",
        "plt.title(\"Layer Scaled vs Accuracy\")\r\n",
        "labels = [layer._name for layer in model.layers]\r\n",
        "plt.bar(labels, accuracy_list)\r\n",
        "plt.savefig(\"./scaling_early_and_late_output\", dpi=300)"
      ],
      "outputs": [
        {
          "output_type": "display_data",
          "data": {
            "text/plain": [
              "<Figure size 432x288 with 1 Axes>"
            ],
            "image/png": "[encoded data removed]"
          },
          "metadata": {}
        }
      ],
      "metadata": {}
    }
  ],
  "metadata": {
    "colab": {
      "name": "keras-to-snn.ipynb",
      "provenance": []
    },
    "interpreter": {
      "hash": "26130839a7e87fd59e038942810dbb4909e5232b32b1ad521e6a6bc3043702c6"
    },
    "kernelspec": {
      "display_name": "Python 3.6.5 64-bit ('base': conda)",
      "name": "python3"
    },
    "language_info": {
      "codemirror_mode": {
        "name": "ipython",
        "version": 3
      },
      "file_extension": ".py",
      "mimetype": "text/x-python",
      "name": "python",
      "nbconvert_exporter": "python",
      "pygments_lexer": "ipython3",
      "version": "3.6.5"
    }
  },
  "nbformat": 4,
  "nbformat_minor": 2
}